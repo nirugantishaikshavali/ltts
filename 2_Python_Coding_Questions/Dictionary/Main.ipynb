{
 "cells": [
  {
   "cell_type": "code",
   "execution_count": 1,
   "id": "d83bba81",
   "metadata": {},
   "outputs": [
    {
     "name": "stdout",
     "output_type": "stream",
     "text": [
      "{31: ['Peter', 'Monica'], 41: ['Mark', 'Martha']}\n"
     ]
    }
   ],
   "source": [
    "data=[ { 'name': 'Peter', 'age': 31 }, { 'name': 'Mark', 'age': 41 }, { 'name': 'Maria', 'age': 21 }, { 'name': 'Monica', 'age': 31 }, { 'name': 'Martha', 'age': 41 } ]\n",
    "final_dict={}\n",
    "for dict1 in data:\n",
    "    name=dict1[\"name\"]\n",
    "    age=dict1[\"age\"]\n",
    "    if age>21:\n",
    "        if age not in final_dict:\n",
    "            final_dict[age]=[name]\n",
    "        else:\n",
    "            final_dict[age].append(name)\n",
    "print(final_dict)\n",
    "        \n",
    "        "
   ]
  },
  {
   "cell_type": "code",
   "execution_count": 2,
   "id": "f2104eac",
   "metadata": {},
   "outputs": [
    {
     "name": "stdout",
     "output_type": "stream",
     "text": [
      "{3: 4, 4: 3, 1: 2, 2: 1, 0: 0}\n"
     ]
    }
   ],
   "source": [
    "d = {1: 2, 3: 4, 4: 3, 2: 1, 0: 0}\n",
    "d=dict(sorted(d.items(),key=lambda x:x[1],reverse=True))\n",
    "print(d)"
   ]
  },
  {
   "cell_type": "code",
   "execution_count": 3,
   "id": "1dcce3b0",
   "metadata": {},
   "outputs": [
    {
     "name": "stdout",
     "output_type": "stream",
     "text": [
      "{0: 10, 1: 20, 2: 20}\n"
     ]
    }
   ],
   "source": [
    "d={0: 10, 1: 20}\n",
    "# Expected Result : {0: 10, 1: 20, 2: 30}\n",
    "d.update({2:20})\n",
    "print(d)\n"
   ]
  },
  {
   "cell_type": "code",
   "execution_count": 4,
   "id": "ed668d08",
   "metadata": {},
   "outputs": [
    {
     "name": "stdout",
     "output_type": "stream",
     "text": [
      "{1: 10, 2: 20, 3: 30, 4: 40, 5: 50, 6: 60}\n",
      "{1: 10, 2: 20, 3: 30, 4: 40, 5: 50, 6: 60}\n"
     ]
    }
   ],
   "source": [
    "dic1={1:10, 2:20}\n",
    "dic2={3:30, 4:40}\n",
    "dic3={5:50,6:60}\n",
    "res={**dic1,**dic2,**dic3}\n",
    "print(res)\n",
    "\n",
    "fin_res={}\n",
    "for i in (dic1,dic2,dic3):\n",
    "    fin_res.update(i)\n",
    "print(fin_res)"
   ]
  },
  {
   "cell_type": "code",
   "execution_count": 5,
   "id": "69647c69",
   "metadata": {},
   "outputs": [
    {
     "name": "stdout",
     "output_type": "stream",
     "text": [
      "Key is not present in the dictionaty\n"
     ]
    }
   ],
   "source": [
    "d = {1: 10, 2: 20, 3: 30, 4: 40, 5: 50, 6: 60}\n",
    "if 39 in d:\n",
    "    print(\"Key is present in the dictionary\")\n",
    "else:\n",
    "    print(\"Key is not present in the dictionaty\")"
   ]
  },
  {
   "cell_type": "code",
   "execution_count": 6,
   "id": "8af7a1d2",
   "metadata": {},
   "outputs": [
    {
     "name": "stdout",
     "output_type": "stream",
     "text": [
      "{1: 1, 2: 4, 3: 9, 4: 16, 5: 25}\n"
     ]
    }
   ],
   "source": [
    "n = 5\n",
    "d={i:i*i for i in range(1,n+1)}\n",
    "print(d)"
   ]
  },
  {
   "cell_type": "code",
   "execution_count": 7,
   "id": "98141f64",
   "metadata": {},
   "outputs": [
    {
     "name": "stdout",
     "output_type": "stream",
     "text": [
      "{1: 1, 2: 4, 3: 9, 4: 16, 5: 25, 6: 36, 7: 49, 8: 64, 9: 81, 10: 100, 11: 121, 12: 144, 13: 169, 14: 196, 15: 225}\n"
     ]
    }
   ],
   "source": [
    "n=15\n",
    "d={i:i*i for i in range(1,n+1)}\n",
    "print(d)"
   ]
  },
  {
   "cell_type": "code",
   "execution_count": 8,
   "id": "d51ae649",
   "metadata": {},
   "outputs": [
    {
     "name": "stdout",
     "output_type": "stream",
     "text": [
      "{'a': 100, 'b': 200, 'x': 300, 'y': 200}\n"
     ]
    }
   ],
   "source": [
    "# Create the first dictionary 'd1' with key-value pairs.\n",
    "d1 = {'a': 100, 'b': 200}\n",
    "\n",
    "# Create the second dictionary 'd2' with key-value pairs.\n",
    "d2 = {'x': 300, 'y': 200}\n",
    "\n",
    "# print(d1)\n",
    "# print(d2)\n",
    "\n",
    "d1.update(d2)\n",
    "print(d1)"
   ]
  },
  {
   "cell_type": "code",
   "execution_count": 9,
   "id": "9dd55164",
   "metadata": {},
   "outputs": [
    {
     "name": "stdout",
     "output_type": "stream",
     "text": [
      "Red  corresponds to  1\n",
      "Green  corresponds to  2\n",
      "Blue  corresponds to  3\n"
     ]
    }
   ],
   "source": [
    "d = {'Red': 1, 'Green': 2, 'Blue': 3}\n",
    "for key,value in d.items():\n",
    "    print(key,\" corresponds to \",value)"
   ]
  },
  {
   "cell_type": "code",
   "execution_count": 10,
   "id": "95ca20a5",
   "metadata": {},
   "outputs": [
    {
     "name": "stdout",
     "output_type": "stream",
     "text": [
      "293\n"
     ]
    }
   ],
   "source": [
    "my_dict = {'data1': 100, 'data2': -54, 'data3': 247}\n",
    "print(sum(list(my_dict.values())))"
   ]
  },
  {
   "cell_type": "code",
   "execution_count": 11,
   "id": "c08bdf47",
   "metadata": {},
   "outputs": [
    {
     "name": "stdout",
     "output_type": "stream",
     "text": [
      "-1333800\n"
     ]
    }
   ],
   "source": [
    "result=1\n",
    "my_dict = {'data1': 100, 'data2': -54, 'data3': 247}\n",
    "for k,v in my_dict.items():\n",
    "    result*=v\n",
    "print(result)"
   ]
  },
  {
   "cell_type": "code",
   "execution_count": 12,
   "id": "500cdd0b",
   "metadata": {},
   "outputs": [
    {
     "name": "stdout",
     "output_type": "stream",
     "text": [
      "{'a': 1, 'b': 2, 'c': 3, 'd': 4}\n",
      "{'b': 2, 'c': 3, 'd': 4}\n"
     ]
    }
   ],
   "source": [
    "myDict = {'a': 1, 'b': 2, 'c': 3, 'd': 4}\n",
    "print(myDict)\n",
    "\n",
    "if \"a\" in myDict:\n",
    "    del myDict[\"a\"]\n",
    "print(myDict)"
   ]
  },
  {
   "cell_type": "code",
   "execution_count": 13,
   "id": "c693c6fa",
   "metadata": {},
   "outputs": [
    {
     "name": "stdout",
     "output_type": "stream",
     "text": [
      "{'red': '#FF0000', 'green': '#008000', 'blue': '#0000FF'}\n"
     ]
    }
   ],
   "source": [
    "keys = ['red', 'green', 'blue']\n",
    "\n",
    "# Create another list 'values' containing corresponding color codes in hexadecimal format.\n",
    "values = ['#FF0000', '#008000', '#0000FF']\n",
    "\n",
    "print(dict(zip(keys,values)))"
   ]
  },
  {
   "cell_type": "code",
   "execution_count": 14,
   "id": "0096392e",
   "metadata": {},
   "outputs": [
    {
     "name": "stdout",
     "output_type": "stream",
     "text": [
      "black #000000\n",
      "green #008000\n",
      "red #FF0000\n",
      "white #FFFFFF\n"
     ]
    }
   ],
   "source": [
    "color_dict = {\n",
    "    'red': '#FF0000',\n",
    "    'green': '#008000',\n",
    "    'black': '#000000',\n",
    "    'white': '#FFFFFF'\n",
    "}\n",
    "res=dict(sorted(color_dict.items()))\n",
    "for k,v in res.items():\n",
    "    print(k,v)"
   ]
  },
  {
   "cell_type": "code",
   "execution_count": 15,
   "id": "f7092d5e",
   "metadata": {},
   "outputs": [
    {
     "name": "stdout",
     "output_type": "stream",
     "text": [
      "5874\n",
      "500\n"
     ]
    }
   ],
   "source": [
    "my_dict = {'x': 500, 'y': 5874, 'z': 560}\n",
    "# print(my_dict)\n",
    "print(max(my_dict.items(),key=lambda x:x[1])[1])\n",
    "print(min(my_dict.items(),key=lambda x:x[1])[1])"
   ]
  },
  {
   "cell_type": "code",
   "execution_count": 16,
   "id": "b8473efc",
   "metadata": {},
   "outputs": [
    {
     "name": "stdout",
     "output_type": "stream",
     "text": [
      "{'id1': {'name': ['Sara'], 'class': ['V'], 'subject_integration': ['english, math, science']}, 'id2': {'name': ['David'], 'class': ['V'], 'subject_integration': ['english, math, science']}, 'id4': {'name': ['Surya'], 'class': ['V'], 'subject_integration': ['english, math, science']}}\n"
     ]
    }
   ],
   "source": [
    "student_data = {\n",
    "    'id1': {\n",
    "        'name': ['Sara'],\n",
    "        'class': ['V'],\n",
    "        'subject_integration': ['english, math, science']\n",
    "    },\n",
    "    'id2': {\n",
    "        'name': ['David'],\n",
    "        'class': ['V'],\n",
    "        'subject_integration': ['english, math, science']\n",
    "    },\n",
    "    'id3': {\n",
    "        'name': ['Sara'],\n",
    "        'class': ['V'],\n",
    "        'subject_integration': ['english, math, science']\n",
    "    },\n",
    "    'id4': {\n",
    "        'name': ['Surya'],\n",
    "        'class': ['V'],\n",
    "        'subject_integration': ['english, math, science']\n",
    "    }\n",
    "}\n",
    "# print(student_data)\n",
    "result = {}\n",
    "for k,v in student_data.items():\n",
    "    if v not in result.values():\n",
    "        result[k]=v\n",
    "print(result)\n",
    "\n",
    "\n"
   ]
  },
  {
   "cell_type": "code",
   "execution_count": 17,
   "id": "72a7a938",
   "metadata": {},
   "outputs": [
    {
     "name": "stdout",
     "output_type": "stream",
     "text": [
      "Dictionary is empty\n"
     ]
    }
   ],
   "source": [
    "my_dict = {}\n",
    "\n",
    "if not bool(my_dict):\n",
    "    print(\"Dictionary is empty\")"
   ]
  },
  {
   "cell_type": "code",
   "execution_count": 18,
   "id": "e87b83dd",
   "metadata": {},
   "outputs": [
    {
     "name": "stdout",
     "output_type": "stream",
     "text": [
      "{'d': 800, 'c': 700, 'b': 400, 'a': 400}\n"
     ]
    }
   ],
   "source": [
    "# d1 = {'a': 100, 'b': 200, 'c':300}\n",
    "# d2 = {'a': 300, 'b': 200, 'c':400,'d':800}\n",
    "# res={i:d1[i]+d2[i] for i in d1 }\n",
    "# print(res)\n",
    "\n",
    "d1 = {'a': 100, 'b': 200, 'c': 300}\n",
    "d2 = {'a': 300, 'b': 200, 'c': 400, 'd': 800}\n",
    "\n",
    "# # Create a new dictionary to store the combined results\n",
    "# combined_dict = {}\n",
    "\n",
    "# # Iterate over all keys in both dictionaries\n",
    "# for key in set(d1.keys()).union(d2.keys()):\n",
    "#     combined_dict[key] = d1.get(key, 0) + d2.get(key, 0)\n",
    "\n",
    "# print(combined_dict)\n",
    "d={}\n",
    "for key in set(d1.keys()).union(d2.keys()):\n",
    "    d[key]=d1.get(key,0)+d2.get(key,0)\n",
    "print(d)\n"
   ]
  },
  {
   "cell_type": "code",
   "execution_count": 19,
   "id": "260f0b71",
   "metadata": {},
   "outputs": [
    {
     "name": "stdout",
     "output_type": "stream",
     "text": [
      "{'S009', 'S007', 'S002', 'S001', 'S005'}\n"
     ]
    }
   ],
   "source": [
    "data=[{\"V\":\"S001\"}, {\"V\": \"S002\"}, {\"VI\": \"S001\"}, {\"VI\": \"S005\"}, {\"VII\":\"S005\"}, {\"V\":\"S009\"},{\"VIII\":\"S007\"}]\n",
    "set1=set()\n",
    "for i in data:\n",
    "    set1.add((list(i.values())[0]))\n",
    "print(set1)"
   ]
  },
  {
   "cell_type": "code",
   "execution_count": 20,
   "id": "7dbe1df1",
   "metadata": {},
   "outputs": [
    {
     "name": "stdout",
     "output_type": "stream",
     "text": [
      "acp\n",
      "acq\n",
      "adp\n",
      "adq\n",
      "bcp\n",
      "bcq\n",
      "bdp\n",
      "bdq\n"
     ]
    }
   ],
   "source": [
    "d={'1':['a','b'], '2':['c','d'],'3':[\"p\",\"q\"]}\n",
    "list1,list2,list3=d.keys()\n",
    "list1_1,list2_1,list3_1=d[list1],d[list2],d[list3]\n",
    "\n",
    "for i in list1_1:\n",
    "    for j in list2_1:\n",
    "        for k in list3_1:\n",
    "            print(i+j+k)"
   ]
  },
  {
   "cell_type": "code",
   "execution_count": 21,
   "id": "173a0549",
   "metadata": {},
   "outputs": [
    {
     "name": "stdout",
     "output_type": "stream",
     "text": [
      "['b', 'e']\n"
     ]
    }
   ],
   "source": [
    "my_dict = {'a': 500, 'b': 5874, 'c': 560, 'd': 400, 'e': 5874, 'f': 20}\n",
    "n_largest=2\n",
    "three_largest=dict(sorted(my_dict.items(),key=lambda x:x[1],reverse=True)[:n_largest]).keys()\n",
    "print(list(three_largest))"
   ]
  },
  {
   "cell_type": "code",
   "execution_count": 22,
   "id": "17fc70c6",
   "metadata": {},
   "outputs": [
    {
     "name": "stdout",
     "output_type": "stream",
     "text": [
      "{'item1': 1150, 'item2': 300}\n"
     ]
    }
   ],
   "source": [
    "s=[{'item': 'item1', 'amount': 400}, {'item': 'item2', 'amount': 300}, {'item': 'item1', 'amount': 750}]\n",
    "d={}\n",
    "for i in s:\n",
    "    keys=i[\"item\"]\n",
    "    values=i[\"amount\"]\n",
    "    if keys not in d:\n",
    "        d[keys]=values\n",
    "    else:\n",
    "        d[keys]+=values\n",
    "print(d)"
   ]
  },
  {
   "cell_type": "code",
   "execution_count": 23,
   "id": "8bb8acda",
   "metadata": {},
   "outputs": [
    {
     "name": "stdout",
     "output_type": "stream",
     "text": [
      "{'w': 1, '3': 1, 'r': 2, 'e': 2, 's': 1, 'o': 1, 'u': 1, 'c': 1}\n"
     ]
    }
   ],
   "source": [
    "word='w3resource'\n",
    "print({i:word.count(i) for i in word})"
   ]
  },
  {
   "cell_type": "code",
   "execution_count": 24,
   "id": "7c3f8674",
   "metadata": {},
   "outputs": [
    {
     "name": "stdout",
     "output_type": "stream",
     "text": [
      "C1 C2 C3\n",
      "1 5 9\n",
      "2 6 10\n",
      "3 7 11\n"
     ]
    }
   ],
   "source": [
    "my_dict = {'C1': [1, 2, 3], 'C2': [5, 6, 7], 'C3': [9, 10, 11]}\n",
    "# C1 C2 C3                                                                                                      \n",
    "# 1 5 9                                                                                                         \n",
    "# 2 6 10                                                                                                        \n",
    "# 3 7 11\n",
    "\n",
    "c1,c2,c3=list(my_dict.keys())\n",
    "print(c1,c2,c3)\n",
    "for i in range(len(my_dict[\"C1\"])):\n",
    "    print(my_dict[c1][i],my_dict[c2][i],my_dict[c3][i])\n"
   ]
  },
  {
   "cell_type": "code",
   "execution_count": 25,
   "id": "06f08936",
   "metadata": {},
   "outputs": [
    {
     "name": "stdout",
     "output_type": "stream",
     "text": [
      "[{'id': 1, 'success': True, 'name': 'Lary', 'score': 34}, {'id': 2, 'success': False, 'name': 'Rabi', 'score': 334}, {'id': 3, 'success': True, 'name': 'Alex', 'score': 24}]\n",
      "6\n",
      "2\n",
      "392\n"
     ]
    }
   ],
   "source": [
    "student = [{'id': 1, 'success': True, 'name': 'Lary',\"score\":34},\n",
    " {'id': 2, 'success': False, 'name': 'Rabi',\"score\":334},\n",
    " {'id': 3, 'success': True, 'name': 'Alex',\"score\":24}]\n",
    "print(student)\n",
    "\n",
    "print(sum(i[\"id\"]  for i in student))\n",
    "print(sum(i[\"success\"]  for i in student))\n",
    "print(sum(i[\"score\"] for i in student))"
   ]
  },
  {
   "cell_type": "code",
   "execution_count": 26,
   "id": "3ef1cb43",
   "metadata": {},
   "outputs": [
    {
     "name": "stdout",
     "output_type": "stream",
     "text": [
      "{1: {2: {3: {4: {}}}}}\n"
     ]
    }
   ],
   "source": [
    "num_list = [1, 2, 3, 4]\n",
    "k=d={}\n",
    "for i in num_list:\n",
    "    d[i]={}\n",
    "    d=d[i]\n",
    "print(k)"
   ]
  },
  {
   "cell_type": "code",
   "execution_count": 27,
   "id": "6cff29e6",
   "metadata": {},
   "outputs": [
    {
     "name": "stdout",
     "output_type": "stream",
     "text": [
      "{'n1': [1, 2, 3], 'n2': [1, 2, 5], 'n3': [2, 3, 4]}\n"
     ]
    }
   ],
   "source": [
    "num = {'n1': [2, 3, 1], 'n2': [5, 1, 2], 'n3': [3, 2, 4]}\n",
    "d={i:sorted(j)  for i,j in num.items() }\n",
    "print(d)"
   ]
  },
  {
   "cell_type": "code",
   "execution_count": 28,
   "id": "b129a1d0",
   "metadata": {},
   "outputs": [
    {
     "name": "stdout",
     "output_type": "stream",
     "text": [
      "{'S  001': ['Math', 'Science'], 'S    002': ['Math', 'English']}\n"
     ]
    }
   ],
   "source": [
    "student_list = {'S  001': ['Math', 'Science'], 'S    002': ['Math', 'English']}\n",
    "print(student_list)"
   ]
  },
  {
   "cell_type": "code",
   "execution_count": 29,
   "id": "966b6d8b",
   "metadata": {},
   "outputs": [
    {
     "name": "stdout",
     "output_type": "stream",
     "text": [
      "{'S001': ['Math', 'Science'], 'S002': ['Math', 'English']}\n"
     ]
    }
   ],
   "source": [
    "student_list = {'S  001': ['Math', 'Science'], 'S    002': ['Math', 'English']}\n",
    "l={k.translate({32:None}):v  for k,v in student_list.items()}\n",
    "print(l)"
   ]
  },
  {
   "cell_type": "code",
   "execution_count": 30,
   "id": "b5dfa20a",
   "metadata": {},
   "outputs": [
    {
     "name": "stdout",
     "output_type": "stream",
     "text": [
      "item4 55\n",
      "item1 45.5\n",
      "item3 41.3\n"
     ]
    }
   ],
   "source": [
    "d={'item1': 45.50, 'item2':35, 'item3': 41.30, 'item4':55, 'item5': 24}\n",
    "l=dict(sorted(d.items(),key=lambda x:x[1],reverse=True)[:3])\n",
    "for i,j in l.items():\n",
    "    print(i,j)"
   ]
  },
  {
   "cell_type": "code",
   "execution_count": 31,
   "id": "8a7027f1",
   "metadata": {},
   "outputs": [
    {
     "name": "stdout",
     "output_type": "stream",
     "text": [
      "1   10   1\n",
      "2   20   2\n",
      "3   30   3\n",
      "4   40   4\n",
      "5   50   5\n",
      "6   60   6\n",
      "7   10   7\n"
     ]
    }
   ],
   "source": [
    "# Create a dictionary 'dict_num' with keys and values.\n",
    "dict_num = {1: 10, 2: 20, 3: 30, 4: 40, 5: 50, 6: 60,7:10}\n",
    "for c,(k,v) in enumerate(dict_num.items(),1):\n",
    "    print(k,\" \",v,\" \",c)"
   ]
  },
  {
   "cell_type": "code",
   "execution_count": 32,
   "id": "677bbda2",
   "metadata": {},
   "outputs": [
    {
     "name": "stdout",
     "output_type": "stream",
     "text": [
      "Aex\n",
      "class : V\n",
      "roll_id : 2\n",
      "Puja\n",
      "class : V\n",
      "roll_id : 3\n"
     ]
    }
   ],
   "source": [
    "students = {'Aex': {'class': 'V', 'roll_id': 2}, 'Puja': {'class': 'V', 'roll_id': 3}}\n",
    "# print(students)\n",
    "for i in students:\n",
    "    print(i)\n",
    "    for j in students[i]:\n",
    "        print(j,\":\",students[i][j])"
   ]
  },
  {
   "cell_type": "code",
   "execution_count": 33,
   "id": "b1941c0a",
   "metadata": {},
   "outputs": [
    {
     "name": "stdout",
     "output_type": "stream",
     "text": [
      "True\n"
     ]
    }
   ],
   "source": [
    "student = {\n",
    "  'name': 'Alex',\n",
    "  'class': 'V',\n",
    "  'roll_id': '2'\n",
    "}\n",
    "print(student.keys()>={\"class\"})"
   ]
  },
  {
   "cell_type": "code",
   "execution_count": 34,
   "id": "2377186b",
   "metadata": {},
   "outputs": [
    {
     "name": "stdout",
     "output_type": "stream",
     "text": [
      "5\n"
     ]
    }
   ],
   "source": [
    "dict =  {'Alex': ['subj1', 'subj2', 'subj3'], 'David': ['subj1', 'subj2']}\n",
    "print(sum(map(len,dict.values())))"
   ]
  },
  {
   "cell_type": "code",
   "execution_count": 35,
   "id": "296f598e",
   "metadata": {},
   "outputs": [
    {
     "name": "stdout",
     "output_type": "stream",
     "text": [
      "[{'id': 1, 'subject': 'math', 'V+VI': 76.0}, {'id': 2, 'subject': 'math', 'V+VI': 73.5}, {'id': 3, 'subject': 'math', 'V+VI': 80.5}]\n"
     ]
    }
   ],
   "source": [
    "student_details = [\n",
    "  {'id': 1, 'subject': 'math', 'V': 70, 'VI': 82},\n",
    "  {'id': 2, 'subject': 'math', 'V': 73, 'VI': 74},\n",
    "  {'id': 3, 'subject': 'math', 'V': 75, 'VI': 86}\n",
    "]\n",
    "for i in student_details:\n",
    "    n1=i.pop(\"V\")\n",
    "    n2=i.pop(\"VI\")\n",
    "    i['V+VI']=(n1+n2)/2\n",
    "print(student_details)"
   ]
  },
  {
   "cell_type": "code",
   "execution_count": 36,
   "id": "880cfd57",
   "metadata": {},
   "outputs": [
    {
     "name": "stdout",
     "output_type": "stream",
     "text": [
      "key1 1\n"
     ]
    }
   ],
   "source": [
    "x = {'key1': 1, 'key2': 3, 'key3': 2}\n",
    "y = {'key1': 1, 'key2': 2}\n",
    "\n",
    "\n",
    "for (k,v) in set(x.items())&set(y.items()):\n",
    "    print(k,v)"
   ]
  },
  {
   "cell_type": "code",
   "execution_count": 37,
   "id": "42a8bafe",
   "metadata": {},
   "outputs": [
    {
     "name": "stdout",
     "output_type": "stream",
     "text": [
      "15\n",
      "25\n",
      "35\n",
      "x has value [11, 12, 13, 14, 15, 16, 17, 18, 19]\n",
      "y has value [21, 22, 23, 24, 25, 26, 27, 28, 29]\n",
      "z has value [31, 32, 33, 34, 35, 36, 37, 38, 39]\n"
     ]
    }
   ],
   "source": [
    "d={'x': [11, 12, 13, 14, 15, 16, 17, 18, 19],\n",
    "'y': [21, 22, 23, 24, 25, 26, 27, 28, 29],\n",
    "'z': [31, 32, 33, 34, 35, 36, 37, 38, 39]}\n",
    "length=len(d[\"x\"])//2\n",
    "for i in d:\n",
    "    print(d[i][length])\n",
    "    \n",
    "for i,j in d.items():\n",
    "    print(i,\"has value\",j)\n"
   ]
  },
  {
   "cell_type": "code",
   "execution_count": 38,
   "id": "6cea6563",
   "metadata": {},
   "outputs": [
    {
     "name": "stdout",
     "output_type": "stream",
     "text": [
      "{'c1': 'Red', 'c2': 'Green'}\n"
     ]
    }
   ],
   "source": [
    "d1={'c1': 'Red', 'c2': 'Green', 'c3': None}\n",
    "res={i:j for i,j in d1.items() if j!=None }\n",
    "print(res)"
   ]
  },
  {
   "cell_type": "code",
   "execution_count": 39,
   "id": "6bda76a9",
   "metadata": {},
   "outputs": [
    {
     "name": "stdout",
     "output_type": "stream",
     "text": [
      "{'Cierra Vega': 175, 'Alden Cantrell': 180, 'Pierre Cox': 190}\n"
     ]
    }
   ],
   "source": [
    "d1={'Cierra Vega': 175, 'Alden Cantrell': 180, 'Kierra Gentry': 165, 'Pierre Cox': 190}\n",
    "print({k:v for k,v in d1.items() if v>170})"
   ]
  },
  {
   "cell_type": "code",
   "execution_count": 40,
   "id": "24b06280",
   "metadata": {},
   "outputs": [
    {
     "name": "stdout",
     "output_type": "stream",
     "text": [
      "[{'S001': {'Adina Park': 85}}, {'S002': {'Leyton Marsh': 98}}, {'S003': {'Duncan Boyle': 89}}, {'S004': {'Saim Richards': 92}}]\n",
      "[{'S001': {'Adina Park': 85}}, {'S002': {'Leyton Marsh': 98}}, {'S003': {'Duncan Boyle': 89}}, {'S004': {'Saim Richards': 92}}]\n"
     ]
    }
   ],
   "source": [
    "s1=['S001', 'S002', 'S003', 'S004']\n",
    "s2=['Adina Park', 'Leyton Marsh', 'Duncan Boyle', 'Saim Richards']\n",
    "s3=[85, 98, 89, 92]\n",
    "d=[]\n",
    "length=len(s1)\n",
    "for i in range(length):\n",
    "    d.append({s1[i]:{s2[i]:s3[i]}})\n",
    "print(d)\n",
    "\n",
    "r=[{x:{y:z}}   for (x,y,z) in zip(s1,s2,s3)  ]\n",
    "print(r)"
   ]
  },
  {
   "cell_type": "code",
   "execution_count": 41,
   "id": "b8107b5b",
   "metadata": {},
   "outputs": [
    {
     "name": "stdout",
     "output_type": "stream",
     "text": [
      "{'Cierra Vega': (6.2, 70)}\n"
     ]
    }
   ],
   "source": [
    "d={'Cierra Vega': (6.2, 70), 'Alden Cantrell': (5.9, 65),\n",
    "   'Kierra Gentry': (6.0, 68), 'Pierre Cox': (5.8, 66)}\n",
    "# {'Cierra Vega': (6.2, 70)}\n",
    "l={i:j  for i,j in d.items() if j[0]>=6.0 and j[1]>=70}\n",
    "print(l)"
   ]
  },
  {
   "cell_type": "code",
   "execution_count": 42,
   "id": "37fe4d9c",
   "metadata": {},
   "outputs": [
    {
     "name": "stdout",
     "output_type": "stream",
     "text": [
      "False\n"
     ]
    }
   ],
   "source": [
    "d={'Cierra Vega': 12, 'Alden Cantrell': 12, 'Kierra Gentry': 12, 'Pierre Cox': 12}\n",
    "print(all(x==10  for x in d.values()))"
   ]
  },
  {
   "cell_type": "code",
   "execution_count": 43,
   "id": "ad4f3c78",
   "metadata": {},
   "outputs": [
    {
     "name": "stdout",
     "output_type": "stream",
     "text": [
      "[('yellow', 1), ('blue', 2), ('yellow', 3), ('blue', 4), ('red', 1)]\n",
      "{'yellow': [1, 3], 'blue': [2, 4], 'red': [1]}\n"
     ]
    }
   ],
   "source": [
    "l=[('yellow', 1), ('blue', 2), ('yellow', 3), ('blue', 4), ('red', 1)]\n",
    "print(l)\n",
    "d={}\n",
    "for i,j in l:\n",
    "    if i not in d:\n",
    "        d[i]=[j]\n",
    "    else:\n",
    "        d[i].append(j)\n",
    "print(d)"
   ]
  },
  {
   "cell_type": "code",
   "execution_count": 44,
   "id": "b3feacd5",
   "metadata": {},
   "outputs": [
    {
     "name": "stdout",
     "output_type": "stream",
     "text": [
      "[{'Science': 88, 'Language': 77}, {'Science': 89, 'Language': 78}, {'Science': 62, 'Language': 84}, {'Science': 95, 'Language': 80}]\n"
     ]
    }
   ],
   "source": [
    "l={'Science': [88, 89, 62, 95], 'Language': [77, 78, 84, 80]}\n",
    "length=len(l[\"Science\"])\n",
    "res=[{i:j[k]  for i,j in l.items()  } for k in range(length) ]\n",
    "print(res)"
   ]
  },
  {
   "cell_type": "code",
   "execution_count": 45,
   "id": "77997d1e",
   "metadata": {},
   "outputs": [
    {
     "name": "stdout",
     "output_type": "stream",
     "text": [
      "[{'id': '#800000', 'color': 'Maroon'}, {'id': '#FFFF00', 'color': 'Yellow'}, {'id': '#808000', 'color': 'Olive'}]\n"
     ]
    }
   ],
   "source": [
    "l=[{'id': '#FF0000', 'color': 'Red'}, {'id': '#800000', 'color': 'Maroon'}, {'id': '#FFFF00', 'color': 'Yellow'}, {'id': '#808000', 'color': 'Olive'}]\n",
    "# print(l)\n",
    "d=[]\n",
    "for i in l:\n",
    "    if i[\"id\"]!='#FF0000':\n",
    "        d.append(i)\n",
    "print(d)"
   ]
  },
  {
   "cell_type": "code",
   "execution_count": 46,
   "id": "bf89f00e",
   "metadata": {},
   "outputs": [
    {
     "name": "stdout",
     "output_type": "stream",
     "text": [
      "[{'x': 10.12, 'y': 20.23, 'z': 30.0}, {'p': 40.0, 'q': 50.19, 'r': 60.99}]\n"
     ]
    }
   ],
   "source": [
    "# Original list of dictionaries with string values\n",
    "# l= [{'x': '10', 'y': '20', 'z': '30'}, {'p': '40', 'q': '50', 'r': '60'}]\n",
    "l=[{'x': '10.12', 'y': '20.23', 'z': '30'}, {'p': '40.00', 'q': '50.19', 'r': '60.99'}]\n",
    "\n",
    "d=[]\n",
    "\n",
    "for i in l:\n",
    "    d.append({i:float(j) for i,j in i.items()})\n",
    "print(d)"
   ]
  },
  {
   "cell_type": "code",
   "execution_count": 47,
   "id": "adc16330",
   "metadata": {},
   "outputs": [
    {
     "name": "stdout",
     "output_type": "stream",
     "text": [
      "{'C1': None, 'C2': None, 'C3': None}\n"
     ]
    }
   ],
   "source": [
    "d={'C1': [10, 20, 30], 'C2': [20, 30, 40], 'C3': [12, 34]}\n",
    "print({i:j.clear() for i,j in d.items()})"
   ]
  },
  {
   "cell_type": "code",
   "execution_count": 48,
   "id": "99e91055",
   "metadata": {},
   "outputs": [
    {
     "name": "stdout",
     "output_type": "stream",
     "text": [
      "{'Math': [90, 89, 88], 'Physics': [94, 92, 89], 'Chemistry': [93, 90, 87]}\n"
     ]
    }
   ],
   "source": [
    "d={'Math': [88, 89, 90], 'Physics': [92, 94, 89], 'Chemistry': [90, 87, 93]}\n",
    "res={k:sorted(v,reverse=True) for k,v in d.items()}\n",
    "print(res)"
   ]
  },
  {
   "cell_type": "code",
   "execution_count": 49,
   "id": "87d518f5",
   "metadata": {},
   "outputs": [
    {
     "name": "stdout",
     "output_type": "stream",
     "text": [
      "[90, 89, 92]\n"
     ]
    }
   ],
   "source": [
    "l=[{'Math': 90, 'Science': 92}, {'Math': 89, 'Science': 94}, {'Math': 92, 'Science': 88}]\n",
    "marks=[]\n",
    "for i in l:\n",
    "    marks.append(i[\"Math\"])\n",
    "print(marks)"
   ]
  },
  {
   "cell_type": "code",
   "execution_count": 50,
   "id": "5ddcb3bf",
   "metadata": {},
   "outputs": [
    {
     "name": "stdout",
     "output_type": "stream",
     "text": [
      "{'red': 3, 'green': 5, 'black': 5, 'white': 5}\n"
     ]
    }
   ],
   "source": [
    "color_dict = {1: 'red', 2: 'green', 3: 'black', 4: 'white', 5: 'black'}\n",
    "l={j:len(j)  for i,j in color_dict.items()}\n",
    "print(l)"
   ]
  },
  {
   "cell_type": "code",
   "execution_count": 51,
   "id": "bf973c6d",
   "metadata": {},
   "outputs": [
    {
     "name": "stdout",
     "output_type": "stream",
     "text": [
      "physics\n",
      "math\n",
      "chemistry\n"
     ]
    }
   ],
   "source": [
    "num = {'physics': 80, 'math': 90, 'chemistry': 86}\n",
    "for i in num:\n",
    "    print(i)"
   ]
  },
  {
   "cell_type": "code",
   "execution_count": 52,
   "id": "0c25bc57",
   "metadata": {},
   "outputs": [
    {
     "name": "stdout",
     "output_type": "stream",
     "text": [
      "[[1, 'red'], [2, 'green'], [3, 'black'], [4, 'white'], [5, 'black']]\n"
     ]
    }
   ],
   "source": [
    "d={1: 'red', 2: 'green', 3: 'black', 4: 'white', 5: 'black'}\n",
    "p=[list((i,j))  for i,j in d.items() ]\n",
    "print(p)"
   ]
  },
  {
   "cell_type": "code",
   "execution_count": 53,
   "id": "fc0f4bc9",
   "metadata": {},
   "outputs": [
    {
     "name": "stdout",
     "output_type": "stream",
     "text": [
      "{'V': [], 'VI': [], 'VII': [2]}\n"
     ]
    }
   ],
   "source": [
    "# d={'V': [1, 4, 6, 10], 'VI': [1, 4, 12], 'VII': [1, 3, 8]}\n",
    "d={'V': [1, 3, 5], 'VI': [1, 5], 'VII': [2, 7, 9]}\n",
    "\n",
    "res={i:[i for i in j if i%2==0] for i,j in d.items()}\n",
    "print(res)"
   ]
  },
  {
   "cell_type": "code",
   "execution_count": 56,
   "id": "7115a560",
   "metadata": {},
   "outputs": [
    {
     "ename": "TypeError",
     "evalue": "'dict' object is not callable",
     "output_type": "error",
     "traceback": [
      "\u001b[1;31m---------------------------------------------------------------------------\u001b[0m",
      "\u001b[1;31mTypeError\u001b[0m                                 Traceback (most recent call last)",
      "Cell \u001b[1;32mIn[56], line 2\u001b[0m\n\u001b[0;32m      1\u001b[0m d\u001b[38;5;241m=\u001b[39m{\u001b[38;5;124m'\u001b[39m\u001b[38;5;124ma\u001b[39m\u001b[38;5;124m'\u001b[39m: \u001b[38;5;241m5\u001b[39m, \u001b[38;5;124m'\u001b[39m\u001b[38;5;124mb\u001b[39m\u001b[38;5;124m'\u001b[39m: \u001b[38;5;241m14\u001b[39m, \u001b[38;5;124m'\u001b[39m\u001b[38;5;124mc\u001b[39m\u001b[38;5;124m'\u001b[39m: \u001b[38;5;241m32\u001b[39m, \u001b[38;5;124m'\u001b[39m\u001b[38;5;124md\u001b[39m\u001b[38;5;124m'\u001b[39m: \u001b[38;5;241m35\u001b[39m, \u001b[38;5;124m'\u001b[39m\u001b[38;5;124me\u001b[39m\u001b[38;5;124m'\u001b[39m: \u001b[38;5;241m24\u001b[39m, \u001b[38;5;124m'\u001b[39m\u001b[38;5;124mf\u001b[39m\u001b[38;5;124m'\u001b[39m: \u001b[38;5;241m100\u001b[39m, \u001b[38;5;124m'\u001b[39m\u001b[38;5;124mg\u001b[39m\u001b[38;5;124m'\u001b[39m: \u001b[38;5;241m57\u001b[39m, \u001b[38;5;124m'\u001b[39m\u001b[38;5;124mh\u001b[39m\u001b[38;5;124m'\u001b[39m: \u001b[38;5;241m8\u001b[39m, \u001b[38;5;124m'\u001b[39m\u001b[38;5;124mi\u001b[39m\u001b[38;5;124m'\u001b[39m: \u001b[38;5;241m100\u001b[39m}\n\u001b[1;32m----> 2\u001b[0m m\u001b[38;5;241m=\u001b[39m\u001b[38;5;28mdict\u001b[39m(\u001b[38;5;28msorted\u001b[39m(d\u001b[38;5;241m.\u001b[39mitems(),key\u001b[38;5;241m=\u001b[39m\u001b[38;5;28;01mlambda\u001b[39;00m x:x[\u001b[38;5;241m1\u001b[39m],reverse\u001b[38;5;241m=\u001b[39m\u001b[38;5;28;01mTrue\u001b[39;00m)[:\u001b[38;5;241m2\u001b[39m])\n\u001b[0;32m      3\u001b[0m \u001b[38;5;28mprint\u001b[39m(\u001b[38;5;28mlist\u001b[39m(m\u001b[38;5;241m.\u001b[39mkeys()))\n",
      "\u001b[1;31mTypeError\u001b[0m: 'dict' object is not callable"
     ]
    }
   ],
   "source": [
    "d={'a': 5, 'b': 14, 'c': 32, 'd': 35, 'e': 24, 'f': 100, 'g': 57, 'h': 8, 'i': 100}\n",
    "m=dict(sorted(d.items(),key=lambda x:x[1],reverse=True)[:2])\n",
    "print(list(m.keys()))"
   ]
  },
  {
   "cell_type": "code",
   "execution_count": 61,
   "id": "5446bda6",
   "metadata": {},
   "outputs": [
    {
     "name": "stdout",
     "output_type": "stream",
     "text": [
      "['VI', 'VIII', 'X']\n"
     ]
    }
   ],
   "source": [
    "d={'V': [10, 12], 'VI': [10], 'VII': [10, 20, 30, 40], 'VIII': [20], 'IX': [10, 30, 50, 70], 'X': [80]}\n",
    "# print(d)\n",
    "min_v=1\n",
    "res=[]\n",
    "for i,j in d.items():\n",
    "    if len(j)==1:\n",
    "        res.append(i)\n",
    "print(res)"
   ]
  },
  {
   "cell_type": "code",
   "execution_count": 66,
   "id": "ef787454",
   "metadata": {},
   "outputs": [
    {
     "name": "stdout",
     "output_type": "stream",
     "text": [
      "{10: 2, 40: 2, 20: 2, 70: 1, 80: 1}\n"
     ]
    }
   ],
   "source": [
    "d={'V': 10, 'VI': 10, 'VII': 40, 'VIII': 20, 'IX': 70, 'X': 80, 'XI': 40, 'XII': 20}\n",
    "r={}\n",
    "for i,j in d.items():\n",
    "    r[i]=str(j)\n",
    "# print(r)\n",
    "l=[v for k,v in d.items()]\n",
    "print({i:l.count(i) for i in l})"
   ]
  },
  {
   "cell_type": "code",
   "execution_count": 69,
   "id": "bbea5169",
   "metadata": {},
   "outputs": [
    {
     "name": "stdout",
     "output_type": "stream",
     "text": [
      "[[1, 'Jean Castro', 'V'], [2, 'Lula Powell', 'V'], [3, 'Brian Howell', 'VI'], [4, 'Lynne Foster', 'VI'], [5, 'Zachary Simon', 'VII']]\n"
     ]
    }
   ],
   "source": [
    "d=[{'student_id': 1, 'name': 'Jean Castro', 'class': 'V'}, {'student_id': 2, 'name': 'Lula Powell', 'class': 'V'}, {'student_id': 3, 'name': 'Brian Howell', 'class': 'VI'}, {'student_id': 4, 'name': 'Lynne Foster', 'class': 'VI'}, {'student_id': 5, 'name': 'Zachary Simon', 'class': 'VII'}]\n",
    "# print(d)\n",
    "\n",
    "l=[[i['student_id'],i['name'],i['class']]  for i in d ]\n",
    "print(l)"
   ]
  },
  {
   "cell_type": "code",
   "execution_count": 73,
   "id": "c2df273f",
   "metadata": {},
   "outputs": [
    {
     "name": "stdout",
     "output_type": "stream",
     "text": [
      "{1: ['Jean Castro', 'V'], 2: ['Lula Powell', 'V'], 3: ['Brian Howell', 'VI'], 4: ['Lynne Foster', 'VI'], 5: ['Zachary Simon', 'VII']}\n"
     ]
    }
   ],
   "source": [
    "l=[[1, 'Jean Castro', 'V'], [2, 'Lula Powell', 'V'], [3, 'Brian Howell', 'VI'], [4, 'Lynne Foster', 'VI'], [5, 'Zachary Simon', 'VII']]\n",
    "# print(l)\n",
    "d={}\n",
    "for i in l:\n",
    "    d[i[0]]=i[1:]\n",
    "print(d)"
   ]
  },
  {
   "cell_type": "code",
   "execution_count": 98,
   "id": "ef77d454",
   "metadata": {},
   "outputs": [
    {
     "name": "stdout",
     "output_type": "stream",
     "text": [
      "[{1: 'Jean Castro', 2: 'Lula Powell', 3: 'Brian Howell', 4: 'Lynne Foster', 5: 'Zachary Simon'}]\n"
     ]
    }
   ],
   "source": [
    "d={1: ['Jean Castro'], 2: ['Lula Powell'], 3: ['Brian Howell'], 4: ['Lynne Foster'], 5: ['Zachary Simon']}\n",
    "f=[]\n",
    "for i,j in d.items():\n",
    "    f.append({i:j[0]})\n",
    "# print(f)\n",
    "r={}\n",
    "for i in f:\n",
    "    r.update(i)\n",
    "r1=[r]\n",
    "print(r1)\n"
   ]
  },
  {
   "cell_type": "code",
   "execution_count": 100,
   "id": "f95cfa40",
   "metadata": {},
   "outputs": [
    {
     "name": "stdout",
     "output_type": "stream",
     "text": [
      "20\n"
     ]
    }
   ],
   "source": [
    "d={'#FF0000': 'Red', '#800000': 'Maroon', '#FFFF00': 'Yellow', '#808000': 'Olive'}\n",
    "sum1=0\n",
    "for j in d.values():\n",
    "    sum1+=len(j)\n",
    "print(sum1)\n",
    "    "
   ]
  },
  {
   "cell_type": "code",
   "execution_count": 102,
   "id": "12dbd97f",
   "metadata": {},
   "outputs": [
    {
     "name": "stdout",
     "output_type": "stream",
     "text": [
      "{'student_id': 1, 'name': 'Jean Castro', 'class': 'V'}\n",
      "{'student_id': 2, 'name': 'Lula Powell', 'class': 'V'}\n",
      "{'student_id': 3, 'name': 'Brian Howell', 'class': 'VI'}\n",
      "{'student_id': 4, 'name': 'Lynne Foster', 'class': 'VI'}\n",
      "{'student_id': 5, 'name': 'Zachary Simon', 'class': 'VII'}\n"
     ]
    }
   ],
   "source": [
    "l=[{'student_id': 1, 'name': 'Jean Castro', 'class': 'V'}, {'student_id': 2, 'name': 'Lula Powell', 'class': 'V'}, {'student_id': 3, 'name': 'Brian Howell', 'class': 'VI'}, {'student_id': 4, 'name': 'Lynne Foster', 'class': 'VI'}, {'student_id': 5, 'name': 'Zachary Simon', 'class': 'VII'}]\n",
    "# print(l)\n",
    "for i in l:\n",
    "    print(i)"
   ]
  },
  {
   "cell_type": "code",
   "execution_count": 109,
   "id": "d6a0c477",
   "metadata": {},
   "outputs": [
    {
     "name": "stdout",
     "output_type": "stream",
     "text": [
      "{'w': [50], 'x': [100, 300], 'y': ['Green', 'Red'], 'z': [400, 600]}\n"
     ]
    }
   ],
   "source": [
    "l=[]\n",
    "d1={'w': 50, 'x': 100, 'y': 'Green', 'z': 400}\n",
    "d2={'x': 300, 'y': 'Red', 'z': 600}\n",
    "l.append(d1)\n",
    "l.append(d2)\n",
    "\n",
    "d={}\n",
    "for i in l:\n",
    "    for k,v in i.items():\n",
    "        if k not in d:\n",
    "            d[k]=[v]\n",
    "        else:\n",
    "            d[k].append(v)\n",
    "print(d)"
   ]
  },
  {
   "cell_type": "code",
   "execution_count": 110,
   "id": "0b3ed7c1",
   "metadata": {},
   "outputs": [
    {
     "name": "stdout",
     "output_type": "stream",
     "text": [
      "{10: 'Theodore', 11: 'Mathew', 9: 'Roxanne'}\n"
     ]
    }
   ],
   "source": [
    "students = {\n",
    "    'Theodore': 10,\n",
    "    'Mathew': 11,\n",
    "    'Roxanne': 9,\n",
    "}\n",
    "\n",
    "print({value: key for key, value in students.items()})\n"
   ]
  },
  {
   "cell_type": "code",
   "execution_count": 115,
   "id": "8418bd1a",
   "metadata": {},
   "outputs": [
    {
     "name": "stdout",
     "output_type": "stream",
     "text": [
      "[18, 22, 20, 18]\n"
     ]
    }
   ],
   "source": [
    "l=[{'name': 'Theodore', 'age': 18}, {'name': 'Mathew', 'age': 22}, {'name': 'Roxanne', 'age': 20}, {'name': 'David', 'age': 18}]\n",
    "ages=[]\n",
    "for i in l:\n",
    "    age=i[\"age\"]\n",
    "    ages.append(age)\n",
    "print(ages)"
   ]
  },
  {
   "cell_type": "code",
   "execution_count": 120,
   "id": "4e2e69b2",
   "metadata": {},
   "outputs": [
    {
     "name": "stdout",
     "output_type": "stream",
     "text": [
      "{'Theodore': 45}\n",
      "{'Roxanne': 15}\n",
      "{'Mathew': 21}\n"
     ]
    }
   ],
   "source": [
    "d={'Theodore': {'user': 'Theodore', 'age': 45}, 'Roxanne': {'user': 'Roxanne', 'age': 15}, 'Mathew': {'user': 'Mathew', 'age': 21}}\n",
    "for i,j in d.items():\n",
    "    print({i:j[\"age\"]})"
   ]
  },
  {
   "cell_type": "code",
   "execution_count": 121,
   "id": "945808b1",
   "metadata": {},
   "outputs": [
    {
     "ename": "TypeError",
     "evalue": "'dict' object is not callable",
     "output_type": "error",
     "traceback": [
      "\u001b[1;31m---------------------------------------------------------------------------\u001b[0m",
      "\u001b[1;31mTypeError\u001b[0m                                 Traceback (most recent call last)",
      "Cell \u001b[1;32mIn[121], line 3\u001b[0m\n\u001b[0;32m      1\u001b[0m l1\u001b[38;5;241m=\u001b[39m[\u001b[38;5;124m'\u001b[39m\u001b[38;5;124ma\u001b[39m\u001b[38;5;124m'\u001b[39m, \u001b[38;5;124m'\u001b[39m\u001b[38;5;124mb\u001b[39m\u001b[38;5;124m'\u001b[39m, \u001b[38;5;124m'\u001b[39m\u001b[38;5;124mc\u001b[39m\u001b[38;5;124m'\u001b[39m, \u001b[38;5;124m'\u001b[39m\u001b[38;5;124md\u001b[39m\u001b[38;5;124m'\u001b[39m, \u001b[38;5;124m'\u001b[39m\u001b[38;5;124me\u001b[39m\u001b[38;5;124m'\u001b[39m, \u001b[38;5;124m'\u001b[39m\u001b[38;5;124mf\u001b[39m\u001b[38;5;124m'\u001b[39m]\n\u001b[0;32m      2\u001b[0m l2\u001b[38;5;241m=\u001b[39m[\u001b[38;5;241m1\u001b[39m, \u001b[38;5;241m2\u001b[39m, \u001b[38;5;241m3\u001b[39m, \u001b[38;5;241m4\u001b[39m, \u001b[38;5;241m5\u001b[39m]\n\u001b[1;32m----> 3\u001b[0m \u001b[38;5;28mprint\u001b[39m(\u001b[38;5;28mdict\u001b[39m(\u001b[38;5;28mzip\u001b[39m(l1,l2)))\n",
      "\u001b[1;31mTypeError\u001b[0m: 'dict' object is not callable"
     ]
    }
   ],
   "source": [
    "l1=['a', 'b', 'c', 'd', 'e', 'f']\n",
    "l2=[1, 2, 3, 4, 5]\n",
    "print(dict(zip(l1,l2)))"
   ]
  },
  {
   "cell_type": "code",
   "execution_count": 122,
   "id": "1a5bfcdf",
   "metadata": {},
   "outputs": [
    {
     "name": "stdout",
     "output_type": "stream",
     "text": [
      "[('Red', 1), ('Green', 3), ('White', 5), ('Black', 2), ('Pink', 4)]\n"
     ]
    }
   ],
   "source": [
    "d={'Red': 1, 'Green': 3, 'White': 5, 'Black': 2, 'Pink': 4}\n",
    "\n",
    "l=[(k,v)   for k,v in d.items()]\n",
    "print(l)"
   ]
  },
  {
   "cell_type": "code",
   "execution_count": 125,
   "id": "f53a2f6a",
   "metadata": {},
   "outputs": [
    {
     "name": "stdout",
     "output_type": "stream",
     "text": [
      "['Theodore', 'Roxanne', 'Mathew', 'Betty']\n"
     ]
    }
   ],
   "source": [
    "d={'Theodore': 19, 'Roxanne': 20, 'Mathew': 21, 'Betty': 20}\n",
    "\n",
    "print(list(d.keys()))"
   ]
  },
  {
   "cell_type": "code",
   "execution_count": 126,
   "id": "e2ca0a55",
   "metadata": {},
   "outputs": [
    {
     "name": "stdout",
     "output_type": "stream",
     "text": [
      "[19, 20, 21, 20]\n"
     ]
    }
   ],
   "source": [
    "d={'Theodore': 19, 'Roxanne': 20, 'Mathew': 21, 'Betty': 20}\n",
    "print(list(d.values()))"
   ]
  },
  {
   "cell_type": "code",
   "execution_count": 129,
   "id": "783cb5a2",
   "metadata": {},
   "outputs": [
    {
     "name": "stdout",
     "output_type": "stream",
     "text": [
      "Roxanne\n",
      "Theodore\n"
     ]
    }
   ],
   "source": [
    "d={'Theodore': 19, 'Roxanne': 22, 'Mathew': 21, 'Betty': 20}\n",
    "print(max(d.items(),key=lambda x:x[1])[0])\n",
    "print(min(d.items(),key=lambda x:x[1])[0])"
   ]
  },
  {
   "cell_type": "code",
   "execution_count": null,
   "id": "e101236d",
   "metadata": {},
   "outputs": [],
   "source": []
  }
 ],
 "metadata": {
  "kernelspec": {
   "display_name": "Python 3 (ipykernel)",
   "language": "python",
   "name": "python3"
  },
  "language_info": {
   "codemirror_mode": {
    "name": "ipython",
    "version": 3
   },
   "file_extension": ".py",
   "mimetype": "text/x-python",
   "name": "python",
   "nbconvert_exporter": "python",
   "pygments_lexer": "ipython3",
   "version": "3.11.3"
  }
 },
 "nbformat": 4,
 "nbformat_minor": 5
}
