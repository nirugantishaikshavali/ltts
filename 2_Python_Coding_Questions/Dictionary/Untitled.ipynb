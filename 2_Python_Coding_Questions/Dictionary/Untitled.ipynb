{
 "cells": [
  {
   "cell_type": "code",
   "execution_count": 1,
   "id": "423129be",
   "metadata": {},
   "outputs": [
    {
     "name": "stdout",
     "output_type": "stream",
     "text": [
      "{3: 4, 4: 3, 1: 2, 2: 1, 0: 0}\n"
     ]
    }
   ],
   "source": [
    "d = {1: 2, 3: 4, 4: 3, 2: 1, 0: 0}\n",
    "print(dict(sorted(d.items(),key=lambda x:x[1],reverse=True)))"
   ]
  },
  {
   "cell_type": "code",
   "execution_count": 2,
   "id": "aa17a184",
   "metadata": {},
   "outputs": [
    {
     "name": "stdout",
     "output_type": "stream",
     "text": [
      "{0: 10, 1: 20, 2: 30}\n"
     ]
    }
   ],
   "source": [
    "d={0: 10, 1: 20}\n",
    "d.update({2:30})\n",
    "print(d)"
   ]
  },
  {
   "cell_type": "code",
   "execution_count": 3,
   "id": "ded6f802",
   "metadata": {},
   "outputs": [
    {
     "name": "stdout",
     "output_type": "stream",
     "text": [
      "{1: 10, 2: 20, 3: 30, 4: 40, 5: 50, 6: 60}\n"
     ]
    }
   ],
   "source": [
    "dic1={1:10, 2:20}\n",
    "dic2={3:30, 4:40}\n",
    "dic3={5:50,6:60}\n",
    "res={}\n",
    "for i in (dic1,dic2,dic3):\n",
    "    res.update(i)\n",
    "print(res)"
   ]
  },
  {
   "cell_type": "code",
   "execution_count": 6,
   "id": "1151fc25",
   "metadata": {},
   "outputs": [
    {
     "name": "stdout",
     "output_type": "stream",
     "text": [
      "Key is exists\n",
      "False\n"
     ]
    }
   ],
   "source": [
    "d = {1: 10, 2: 20, 3: 30, 4: 40, 5: 50, 6: 60}\n",
    "if  2 in d:\n",
    "    print(\"Key is exists\")\n",
    "else:\n",
    "    print(\"Key is not  exists\")\n",
    "print(d.keys()>={2,34})"
   ]
  },
  {
   "cell_type": "code",
   "execution_count": 7,
   "id": "9e9c3c4f",
   "metadata": {},
   "outputs": [
    {
     "name": "stdout",
     "output_type": "stream",
     "text": [
      "{1: 1, 2: 4, 3: 9, 4: 16}\n"
     ]
    }
   ],
   "source": [
    "n=5\n",
    "print({i:i*i for i in range(1,\n",
    "                            5)})"
   ]
  },
  {
   "cell_type": "code",
   "execution_count": 8,
   "id": "f4df73e7",
   "metadata": {},
   "outputs": [
    {
     "name": "stdout",
     "output_type": "stream",
     "text": [
      "{'a': 1, 'b': 2, 'c': 3, 'd': 4}\n"
     ]
    }
   ],
   "source": [
    "l1=[\"a\",\"b\",\"c\",\"d\"]\n",
    "l2=[1,2,3,4]\n",
    "print(dict(zip(l1,l2)))"
   ]
  },
  {
   "cell_type": "code",
   "execution_count": 9,
   "id": "1e46d2e9",
   "metadata": {},
   "outputs": [
    {
     "name": "stdout",
     "output_type": "stream",
     "text": [
      "293\n"
     ]
    }
   ],
   "source": [
    "my_dict = {'data1': 100, 'data2': -54, 'data3': 247}\n",
    "print(sum(i for i in my_dict.values()))"
   ]
  },
  {
   "cell_type": "code",
   "execution_count": 10,
   "id": "5a456f4f",
   "metadata": {},
   "outputs": [
    {
     "name": "stdout",
     "output_type": "stream",
     "text": [
      "{'b': 2, 'c': 3, 'd': 4}\n"
     ]
    }
   ],
   "source": [
    "myDict = {'a': 1, 'b': 2, 'c': 3, 'd': 4}\n",
    "\n",
    "if \"a\" in myDict:\n",
    "    del myDict[\"a\"]\n",
    "print(myDict)"
   ]
  },
  {
   "cell_type": "code",
   "execution_count": 11,
   "id": "f70fa350",
   "metadata": {},
   "outputs": [
    {
     "name": "stdout",
     "output_type": "stream",
     "text": [
      "{'black': '#000000', 'green': '#008000', 'red': '#FF0000', 'white': '#FFFFFF'}\n"
     ]
    }
   ],
   "source": [
    "color_dict = {\n",
    "    'red': '#FF0000',\n",
    "    'green': '#008000',\n",
    "    'black': '#000000',\n",
    "    'white': '#FFFFFF'\n",
    "}\n",
    "l=dict(sorted(color_dict.items(),key=lambda x:x[0]))\n",
    "print(l)"
   ]
  },
  {
   "cell_type": "code",
   "execution_count": 16,
   "id": "b5b1ad1f",
   "metadata": {},
   "outputs": [
    {
     "name": "stdout",
     "output_type": "stream",
     "text": [
      "5874\n",
      "500\n"
     ]
    }
   ],
   "source": [
    "my_dict = {'x': 500, 'y': 5874, 'z': 560}\n",
    "max_val=max(i for i in my_dict.values())\n",
    "print(max_val)\n",
    "\n",
    "min_val=min(i for i in my_dict.values())\n",
    "print(min_val)"
   ]
  },
  {
   "cell_type": "code",
   "execution_count": 19,
   "id": "7ee346a1",
   "metadata": {},
   "outputs": [
    {
     "name": "stdout",
     "output_type": "stream",
     "text": [
      "{'id1': {'name': ['Sara'], 'class': ['V'], 'subject_integration': ['english, math, science']}, 'id2': {'name': ['David'], 'class': ['V'], 'subject_integration': ['english, math, science']}, 'id4': {'name': ['Surya'], 'class': ['V'], 'subject_integration': ['english, math, science']}}\n"
     ]
    }
   ],
   "source": [
    "student_data = {\n",
    "    'id1': {\n",
    "        'name': ['Sara'],\n",
    "        'class': ['V'],\n",
    "        'subject_integration': ['english, math, science']\n",
    "    },\n",
    "    'id2': {\n",
    "        'name': ['David'],\n",
    "        'class': ['V'],\n",
    "        'subject_integration': ['english, math, science']\n",
    "    },\n",
    "    'id3': {\n",
    "        'name': ['Sara'],\n",
    "        'class': ['V'],\n",
    "        'subject_integration': ['english, math, science']\n",
    "    },\n",
    "    'id4': {\n",
    "        'name': ['Surya'],\n",
    "        'class': ['V'],\n",
    "        'subject_integration': ['english, math, science']\n",
    "    }\n",
    "}\n",
    "result={}\n",
    "for i,j in student_data.items():\n",
    "    if j not in result.values():\n",
    "        result[i]=j\n",
    "print(result)"
   ]
  },
  {
   "cell_type": "code",
   "execution_count": 23,
   "id": "b3f09ab4",
   "metadata": {},
   "outputs": [
    {
     "name": "stdout",
     "output_type": "stream",
     "text": [
      "{'c': 300, 'd': 400, 'e': 900, 'b': 400, 'a': 400}\n"
     ]
    }
   ],
   "source": [
    "d1 = {'a': 100, 'b': 200, 'c':300}\n",
    "d2 = {'a': 300, 'b': 200, 'd':400,'e':900}\n",
    "l=d1.keys()|d2.keys()\n",
    "\n",
    "res={i: d1.get(i,0)+d2.get(i,0)   for i in l }\n",
    "print(res)"
   ]
  },
  {
   "cell_type": "code",
   "execution_count": 28,
   "id": "fcae9d06",
   "metadata": {},
   "outputs": [
    {
     "name": "stdout",
     "output_type": "stream",
     "text": [
      "{dict_values(['S001']), dict_values(['S009']), dict_values(['S005']), dict_values(['S007']), dict_values(['S005']), dict_values(['S001']), dict_values(['S002'])}\n"
     ]
    }
   ],
   "source": [
    "d=[{\"V\":\"S001\"}, {\"V\": \"S002\"}, {\"VI\": \"S001\"}, {\"VI\": \"S005\"}, {\"VII\":\"S005\"}, {\"V\":\"S009\"},{\"VIII\":\"S007\"}]\n",
    "s=set()\n",
    "for i in d:\n",
    "    value=i.values()\n",
    "    res=list(value)[0]\n",
    "    if res not in s:\n",
    "        s.add(res)\n",
    "print(s)"
   ]
  },
  {
   "cell_type": "code",
   "execution_count": 29,
   "id": "d4206e77",
   "metadata": {},
   "outputs": [
    {
     "name": "stdout",
     "output_type": "stream",
     "text": [
      "['a', 'b']\n",
      "['c', 'd']\n"
     ]
    }
   ],
   "source": [
    "d={'1':['a','b'], '2':['c','d']}\n",
    "\n",
    "for i in d.values():\n",
    "    print(i)"
   ]
  },
  {
   "cell_type": "code",
   "execution_count": 41,
   "id": "694dc92d",
   "metadata": {},
   "outputs": [
    {
     "name": "stdout",
     "output_type": "stream",
     "text": [
      "['b', 'e', 'c']\n"
     ]
    }
   ],
   "source": [
    "my_dict = {'a': 500, 'b': 5874, 'c': 560, 'd': 400, 'e': 5874, 'f': 20}\n",
    "p=dict(sorted(my_dict.items(),key=lambda x:x[1],reverse=True)[:3])\n",
    "print(list(p.keys()))"
   ]
  },
  {
   "cell_type": "code",
   "execution_count": 44,
   "id": "a018266a",
   "metadata": {},
   "outputs": [
    {
     "name": "stdout",
     "output_type": "stream",
     "text": [
      "{'item1': 1150, 'item2': 300}\n"
     ]
    }
   ],
   "source": [
    "d=[{'item': 'item1', 'amount': 400}, {'item': 'item2', 'amount': 300}, {'item': 'item1', 'amount': 750}]\n",
    "# print(d)\n",
    "r={}\n",
    "for i in d:\n",
    "    item1=i[\"item\"]\n",
    "    amount=i[\"amount\"]\n",
    "    if item1 not in r:\n",
    "        r[item1]=amount\n",
    "    else:\n",
    "        r[item1]+=amount\n",
    "print(r)"
   ]
  },
  {
   "cell_type": "code",
   "execution_count": 46,
   "id": "fd663eb4",
   "metadata": {},
   "outputs": [
    {
     "name": "stdout",
     "output_type": "stream",
     "text": [
      "{'w': 1, '3': 1, 'r': 2, 'e': 2, 's': 1, 'o': 1, 'u': 1, 'c': 1}\n",
      "{'w': 1, '3': 1, 'r': 2, 'e': 2, 's': 1, 'o': 1, 'u': 1, 'c': 1}\n"
     ]
    }
   ],
   "source": [
    "l=\"w3resource\"\n",
    "r={i:l.count(i) for i in l}\n",
    "print(r)\n",
    "d={}\n",
    "for i in l:\n",
    "    if i not in d:\n",
    "        d[i]=1\n",
    "    else:\n",
    "        d[i]+=1\n",
    "print(d)"
   ]
  },
  {
   "cell_type": "code",
   "execution_count": 50,
   "id": "ddd570e0",
   "metadata": {},
   "outputs": [
    {
     "name": "stdout",
     "output_type": "stream",
     "text": [
      "{'C1': [1, 2, 3], 'C2': [5, 6, 7], 'C3': [9, 10, 11]}\n",
      "C1 C2 C3\n",
      "1 5 9\n",
      "2 6 10\n",
      "3 7 11\n"
     ]
    }
   ],
   "source": [
    "my_dict = {'C1': [1, 2, 3], 'C2': [5, 6, 7], 'C3': [9, 10, 11]}\n",
    "print(my_dict)\n",
    "\n",
    "print(\"C1 C2 C3\")\n",
    "length=len(my_dict[\"C1\"])\n",
    "for i in range(length):\n",
    "    print(my_dict[\"C1\"][i],my_dict[\"C2\"][i],my_dict[\"C3\"][i])"
   ]
  },
  {
   "cell_type": "code",
   "execution_count": 54,
   "id": "9eca2671",
   "metadata": {},
   "outputs": [
    {
     "name": "stdout",
     "output_type": "stream",
     "text": [
      "6\n",
      "2\n"
     ]
    }
   ],
   "source": [
    "student = [{'id': 1, 'success': True, 'name': 'Lary'},\n",
    " {'id': 2, 'success': False, 'name': 'Rabi'},\n",
    " {'id': 3, 'success': True, 'name': 'Alex'}]\n",
    "c=0\n",
    "t=0\n",
    "for i in student:\n",
    "    id=i[\"id\"]\n",
    "    c+=id\n",
    "    success=i[\"success\"]\n",
    "    \n",
    "    if success:\n",
    "        t+=1\n",
    "print(c)\n",
    "print(t)\n",
    "    "
   ]
  },
  {
   "cell_type": "code",
   "execution_count": 55,
   "id": "baa10632",
   "metadata": {},
   "outputs": [
    {
     "name": "stdout",
     "output_type": "stream",
     "text": [
      "{'n1': [1, 2, 3], 'n2': [1, 2, 5], 'n3': [2, 3, 4]}\n"
     ]
    }
   ],
   "source": [
    "num = {'n1': [2, 3, 1], 'n2': [5, 1, 2], 'n3': [3, 2, 4]}\n",
    "d={i:sorted(j) for i,j in num.items()}\n",
    "print(d)"
   ]
  },
  {
   "cell_type": "code",
   "execution_count": 60,
   "id": "d86b22b1",
   "metadata": {},
   "outputs": [
    {
     "name": "stdout",
     "output_type": "stream",
     "text": [
      "item4 55\n",
      "item1 45.5\n",
      "item3 41.3\n"
     ]
    }
   ],
   "source": [
    "d={'item1': 45.50, 'item2':35, 'item3': 41.30, 'item4':55, 'item5': 24}\n",
    "p=dict(sorted(d.items(),key=lambda x:x[1],reverse=True)[:3])\n",
    "for i,j in p.items():\n",
    "    print(i,j)"
   ]
  },
  {
   "cell_type": "code",
   "execution_count": 63,
   "id": "1de10d5b",
   "metadata": {},
   "outputs": [
    {
     "name": "stdout",
     "output_type": "stream",
     "text": [
      "['Class-V', 'Class-VI', 'Class-VII', 'Class-VIII']\n",
      "[1, 2, 2, 3]\n",
      "{'Class-V': 1, 'Class-VI': 2, 'Class-VII': 3}\n"
     ]
    }
   ],
   "source": [
    "d1,d2=['Class-V', 'Class-VI', 'Class-VII', 'Class-VIII'], [1, 2, 2, 3]\n",
    "print(d1)\n",
    "print(d2)\n",
    "print(dict(zip(d1,set(d2))))"
   ]
  },
  {
   "cell_type": "code",
   "execution_count": 77,
   "id": "59582273",
   "metadata": {},
   "outputs": [
    {
     "name": "stdout",
     "output_type": "stream",
     "text": [
      "{'yellow': [1, 3], 'blue': [2, 4], 'red': [1]}\n"
     ]
    }
   ],
   "source": [
    "l=[('yellow', 1), ('blue', 2), ('yellow', 3), ('blue', 4), ('red', 1)]\n",
    "d={}\n",
    "for i in l:\n",
    "    k=i[0]\n",
    "    v=i[1]\n",
    "    if k not in d:\n",
    "        d[k]=[v]\n",
    "    else:\n",
    "        d[k].append(v)\n",
    "print(d)"
   ]
  },
  {
   "cell_type": "code",
   "execution_count": 88,
   "id": "193cb1e2",
   "metadata": {},
   "outputs": [
    {
     "name": "stdout",
     "output_type": "stream",
     "text": [
      "[{'Science': 88, 'Language': 77}, {'Science': 89, 'Language': 78}, {'Science': 62, 'Language': 84}, {'Science': 95, 'Language': 80}]\n"
     ]
    }
   ],
   "source": [
    "d={'Science': [88, 89, 62, 95], 'Language': [77, 78, 84, 80]}\n",
    "length=len(d[\"Science\"])\n",
    "# print(length)\n",
    "l=[{j:d[j][i] for j in d}   for i in range(length)]\n",
    "print(l)\n"
   ]
  },
  {
   "cell_type": "code",
   "execution_count": 90,
   "id": "756dee4d",
   "metadata": {},
   "outputs": [
    {
     "name": "stdout",
     "output_type": "stream",
     "text": [
      "[{'color': 'Red'}, {'id': '#800000', 'color': 'Maroon'}, {'id': '#FFFF00', 'color': 'Yellow'}, {'id': '#808000', 'color': 'Olive'}]\n"
     ]
    }
   ],
   "source": [
    "d=[{'id': '#FF0000', 'color': 'Red'}, {'id': '#800000', 'color': 'Maroon'}, {'id': '#FFFF00', 'color': 'Yellow'}, {'id': '#808000', 'color': 'Olive'}]\n",
    "for i in d:\n",
    "    if i[\"id\"]== \"#FF0000\":\n",
    "        del i[\"id\"]\n",
    "print(d)"
   ]
  },
  {
   "cell_type": "code",
   "execution_count": 94,
   "id": "e86272a5",
   "metadata": {},
   "outputs": [
    {
     "name": "stdout",
     "output_type": "stream",
     "text": [
      "[{'x': 10, 'y': 20, 'z': 30}, {'p': 40, 'q': 50, 'r': 60}]\n"
     ]
    }
   ],
   "source": [
    "l=[{'x': '10', 'y': '20', 'z': '30'}, {'p': '40', 'q': '50', 'r': '60'}]\n",
    "d=[]\n",
    "for i in l:\n",
    "    d.append({k:int(v) for k,v in i.items()})\n",
    "print(d)"
   ]
  },
  {
   "cell_type": "code",
   "execution_count": 96,
   "id": "b91db83a",
   "metadata": {},
   "outputs": [
    {
     "name": "stdout",
     "output_type": "stream",
     "text": [
      "90\n",
      "89\n",
      "92\n"
     ]
    }
   ],
   "source": [
    "d=[{'Math': 90, 'Science': 92}, {'Math': 89, 'Science': 94}, {'Math': 92, 'Science': 88}]\n",
    "for i in d:\n",
    "    print(i[\"Math\"])"
   ]
  },
  {
   "cell_type": "code",
   "execution_count": 107,
   "id": "967ad4bd",
   "metadata": {},
   "outputs": [
    {
     "name": "stdout",
     "output_type": "stream",
     "text": [
      "{'z', 'w', 'x', 'y'}\n",
      "{'z': [400, 600], 'w': [50, 0], 'x': [100, 300], 'y': ['Green', 'Red']}\n"
     ]
    }
   ],
   "source": [
    "d1={'w': 50, 'x': 100, 'y': 'Green', 'z': 400}\n",
    "d2={'x': 300, 'y': 'Red', 'z': 600}\n",
    "key=d1.keys()|d2.keys()\n",
    "print(key)\n",
    "d={i:[d1.get(i,''),d2.get(i,0)] for i in key}\n",
    "print(d)"
   ]
  },
  {
   "cell_type": "code",
   "execution_count": null,
   "id": "ba34d356",
   "metadata": {},
   "outputs": [],
   "source": []
  }
 ],
 "metadata": {
  "kernelspec": {
   "display_name": "Python 3 (ipykernel)",
   "language": "python",
   "name": "python3"
  },
  "language_info": {
   "codemirror_mode": {
    "name": "ipython",
    "version": 3
   },
   "file_extension": ".py",
   "mimetype": "text/x-python",
   "name": "python",
   "nbconvert_exporter": "python",
   "pygments_lexer": "ipython3",
   "version": "3.11.3"
  }
 },
 "nbformat": 4,
 "nbformat_minor": 5
}
