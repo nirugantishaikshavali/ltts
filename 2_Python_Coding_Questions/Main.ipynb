{
 "cells": [
  {
   "cell_type": "code",
   "execution_count": 1,
   "id": "b304a2e8",
   "metadata": {},
   "outputs": [
    {
     "name": "stdout",
     "output_type": "stream",
     "text": [
      "{1: 4, 2: 4, 3: 3}\n",
      "1\n",
      "2\n"
     ]
    }
   ],
   "source": [
    "l=[1,1,1,1,2,2,2,2,3,3,3]\n",
    "d={i:l.count(i) for i in l}\n",
    "print(d)\n",
    "if len(d)>0:\n",
    "    max_value=max(d.items(),key=lambda x:x[1])[1]\n",
    "else:\n",
    "    print(\"Elements are not founded\")\n",
    "    \n",
    "for k,v in d.items():\n",
    "    if v==max_value:\n",
    "        print(k)"
   ]
  },
  {
   "cell_type": "code",
   "execution_count": 23,
   "id": "bb4e9e58",
   "metadata": {},
   "outputs": [
    {
     "name": "stdout",
     "output_type": "stream",
     "text": [
      "{3: 4, 4: 3, 1: 2, 2: 1, 0: 0}\n"
     ]
    }
   ],
   "source": [
    "d = {1: 2, 3: 4, 4: 3, 2: 1, 0: 0}\n",
    "print(dict((sorted(d.items(),key=lambda x:x[1],reverse=True))))"
   ]
  },
  {
   "cell_type": "code",
   "execution_count": 25,
   "id": "145132af",
   "metadata": {},
   "outputs": [
    {
     "name": "stdout",
     "output_type": "stream",
     "text": [
      "{0: 10, 1: 20, 3: 30}\n"
     ]
    }
   ],
   "source": [
    "l={0: 10, 1: 20}\n",
    "l.update({3:30})\n",
    "print(l)"
   ]
  },
  {
   "cell_type": "code",
   "execution_count": 28,
   "id": "3a9f23ab",
   "metadata": {},
   "outputs": [
    {
     "name": "stdout",
     "output_type": "stream",
     "text": [
      "{1: 10, 2: 20, 3: 30, 4: 40, 5: 50, 6: 60}\n",
      "{1: 10, 2: 20, 3: 30, 4: 40, 5: 50, 6: 60}\n"
     ]
    }
   ],
   "source": [
    "dic1={1:10, 2:20}\n",
    "dic2={3:30, 4:40}\n",
    "dic3={5:50,6:60}\n",
    "res={}\n",
    "for i in (dic1,dic2,dic3):\n",
    "    res.update(i)\n",
    "print(res)\n",
    "\n",
    "res = {**dic1, **dic2, **dic3}\n",
    "print(res)"
   ]
  },
  {
   "cell_type": "code",
   "execution_count": 29,
   "id": "ef008005",
   "metadata": {},
   "outputs": [
    {
     "name": "stdout",
     "output_type": "stream",
     "text": [
      "Key is Existed\n"
     ]
    }
   ],
   "source": [
    "d = {1: 10, 2: 20, 3: 30, 4: 40, 5: 50, 6: 60}\n",
    "if 5 in d:\n",
    "    print(\"Key is Existed\")\n",
    "else:\n",
    "    print(\"Key is not Existed\")"
   ]
  },
  {
   "cell_type": "code",
   "execution_count": 31,
   "id": "6e87e784",
   "metadata": {},
   "outputs": [
    {
     "name": "stdout",
     "output_type": "stream",
     "text": [
      "{1: 1, 2: 4, 3: 9, 4: 16, 5: 25, 6: 36, 7: 49, 8: 64, 9: 81, 10: 100, 11: 121, 12: 144, 13: 169, 14: 196, 15: 225}\n"
     ]
    }
   ],
   "source": [
    "n=15\n",
    "# {1: 1, 2: 4, 3: 9, 4: 16, 5: 25}\n",
    "d={i:i*i for i in range(1,n+1)}\n",
    "print(d)"
   ]
  },
  {
   "cell_type": "code",
   "execution_count": 33,
   "id": "edccf986",
   "metadata": {},
   "outputs": [
    {
     "name": "stdout",
     "output_type": "stream",
     "text": [
      "293\n"
     ]
    }
   ],
   "source": [
    "my_dict = {'data1': 100, 'data2': -54, 'data3': 247}\n",
    "print(sum(my_dict.values()))"
   ]
  },
  {
   "cell_type": "code",
   "execution_count": 35,
   "id": "aa00014d",
   "metadata": {},
   "outputs": [
    {
     "name": "stdout",
     "output_type": "stream",
     "text": [
      "99\n"
     ]
    }
   ],
   "source": [
    "l=[1, 2, -8, 0,99]\n",
    "lar_num=0\n",
    "for i in l:\n",
    "    if i>lar_num:\n",
    "        lar_num=i\n",
    "print(lar_num)"
   ]
  },
  {
   "cell_type": "code",
   "execution_count": 36,
   "id": "78fe1ee4",
   "metadata": {},
   "outputs": [
    {
     "name": "stdout",
     "output_type": "stream",
     "text": [
      "2\n"
     ]
    }
   ],
   "source": [
    "l=['abc', 'xyz', 'aba', '1221']\n",
    "c=0\n",
    "for i in l:\n",
    "    if i==i[::-1]:\n",
    "        c+=1\n",
    "print(c)"
   ]
  },
  {
   "cell_type": "code",
   "execution_count": 41,
   "id": "df6b60bd",
   "metadata": {},
   "outputs": [
    {
     "name": "stdout",
     "output_type": "stream",
     "text": [
      "[(2, 1), (1, 2), (2, 3), (4, 4), (2, 5)]\n"
     ]
    }
   ],
   "source": [
    "l=[(2, 5), (1, 2), (4, 4), (2, 3), (2, 1)]\n",
    "r=sorted(l,key=lambda x:x[1])\n",
    "print(r)"
   ]
  },
  {
   "cell_type": "code",
   "execution_count": 52,
   "id": "51e01c52",
   "metadata": {},
   "outputs": [
    {
     "name": "stdout",
     "output_type": "stream",
     "text": [
      "2\n",
      "34\n",
      "YES\n",
      "34.9\n",
      "NO\n"
     ]
    }
   ],
   "source": [
    "n=int(input())\n",
    "for i in range(n):\n",
    "    l=input()\n",
    "    if \".\" in l:\n",
    "        index_num=l.find(\".\")\n",
    "        if int(l[index_num+1:])>0:\n",
    "            print(\"NO\")\n",
    "        else:\n",
    "            print(\"YES\")\n",
    "    else:\n",
    "        print(\"YES\")"
   ]
  },
  {
   "cell_type": "code",
   "execution_count": 56,
   "id": "34c63e67",
   "metadata": {},
   "outputs": [
    {
     "name": "stdout",
     "output_type": "stream",
     "text": [
      "{'act': [1, 4, 5], 'dgo': [2, 3]}\n"
     ]
    }
   ],
   "source": [
    "str1=[\"cat\",\"dog\",\"god\",\"tca\",\"act\"]\n",
    "d={}\n",
    "for i in range(len(str1)):\n",
    "    sorted_array=\"\".join(sorted(str1[i]))\n",
    "    if sorted_array not in d:\n",
    "        d[sorted_array]=[i+1]\n",
    "    else:\n",
    "        d[sorted_array].append(i+1)\n",
    "print(d)"
   ]
  },
  {
   "cell_type": "code",
   "execution_count": 62,
   "id": "d735592d",
   "metadata": {},
   "outputs": [
    {
     "name": "stdout",
     "output_type": "stream",
     "text": [
      "[['bat'], ['eat', 'tea', 'ate'], ['tan', 'nat']]\n"
     ]
    }
   ],
   "source": [
    "l=[\"eat\",\"tea\",\"tan\",\"ate\",\"nat\",\"bat\"]\n",
    "\n",
    "d={}\n",
    "for i in l:\n",
    "    sorted_l=\"\".join(sorted(i))\n",
    "    \n",
    "    if sorted_l not in d:\n",
    "        d[sorted_l]=[i]\n",
    "    else:\n",
    "        d[sorted_l].append(i)\n",
    "print(sorted(list(d.values())))\n"
   ]
  },
  {
   "cell_type": "markdown",
   "id": "eb6249b8",
   "metadata": {},
   "source": [
    "# Prime Number"
   ]
  },
  {
   "cell_type": "code",
   "execution_count": 66,
   "id": "72176ac7",
   "metadata": {},
   "outputs": [
    {
     "name": "stdout",
     "output_type": "stream",
     "text": [
      "Enter Number:2\n",
      "Prime Number\n"
     ]
    }
   ],
   "source": [
    "def prime_num(num):\n",
    "    for i in range(2,num):\n",
    "        if num%i==0:\n",
    "            print(\"Not prime Number\")\n",
    "            break\n",
    "    else:\n",
    "        print(\"Prime Number\")\n",
    "num=int(input(\"Enter Number:\"))\n",
    "prime_num(num)"
   ]
  },
  {
   "cell_type": "code",
   "execution_count": 67,
   "id": "d0a5f1e3",
   "metadata": {},
   "outputs": [
    {
     "name": "stdout",
     "output_type": "stream",
     "text": [
      "Prime Numbers:- 2\n",
      "Prime Numbers:- 3\n",
      "Prime Numbers:- 5\n",
      "Prime Numbers:- 7\n",
      "Prime Numbers:- 11\n",
      "Prime Numbers:- 13\n",
      "Prime Numbers:- 17\n",
      "Prime Numbers:- 19\n",
      "Prime Numbers:- 23\n",
      "Prime Numbers:- 29\n",
      "Prime Numbers:- 31\n",
      "Prime Numbers:- 37\n",
      "Prime Numbers:- 41\n",
      "Prime Numbers:- 43\n",
      "Prime Numbers:- 47\n",
      "Prime Numbers:- 53\n",
      "Prime Numbers:- 59\n",
      "Prime Numbers:- 61\n",
      "Prime Numbers:- 67\n",
      "Prime Numbers:- 71\n",
      "Prime Numbers:- 73\n",
      "Prime Numbers:- 79\n",
      "Prime Numbers:- 83\n",
      "Prime Numbers:- 89\n",
      "Prime Numbers:- 97\n"
     ]
    }
   ],
   "source": [
    "def prime_num_range(num):\n",
    "    for n in range(2,num):\n",
    "        prime_num=True\n",
    "        for i in range(2,n):\n",
    "            if n%i==0:\n",
    "                prime_num=False\n",
    "                \n",
    "        \n",
    "        if prime_num:\n",
    "            print(\"Prime Numbers:-\",n)\n",
    "            \n",
    "num=100\n",
    "prime_num_range(num)"
   ]
  },
  {
   "cell_type": "markdown",
   "id": "15dce07c",
   "metadata": {},
   "source": [
    "# Fibonnaci Series"
   ]
  },
  {
   "cell_type": "code",
   "execution_count": 70,
   "id": "1827b198",
   "metadata": {},
   "outputs": [
    {
     "name": "stdout",
     "output_type": "stream",
     "text": [
      "0\n",
      "1\n",
      "1\n",
      "3\n",
      "6\n",
      "12\n",
      "24\n"
     ]
    }
   ],
   "source": [
    "a=0\n",
    "b=1\n",
    "print(a)\n",
    "print(b)\n",
    "for i in range(5):\n",
    "    temp=a+b\n",
    "\n",
    "    print(temp)\n",
    "    a=b\n",
    "    b=a+b"
   ]
  },
  {
   "cell_type": "code",
   "execution_count": 74,
   "id": "9d082574",
   "metadata": {},
   "outputs": [
    {
     "name": "stdout",
     "output_type": "stream",
     "text": [
      "[0, 1, 1, 2, 3, 5]\n"
     ]
    }
   ],
   "source": [
    "def fib_ser(num):\n",
    "    if num<=1:\n",
    "        return num\n",
    "    else:\n",
    "        return fib_ser(num-1)+fib_ser(num-2)\n",
    "    \n",
    "num=5\n",
    "l=[fib_ser(i) for i in range(num+1)]\n",
    "print(l)"
   ]
  },
  {
   "cell_type": "code",
   "execution_count": 77,
   "id": "443330b3",
   "metadata": {},
   "outputs": [
    {
     "name": "stdout",
     "output_type": "stream",
     "text": [
      "[0, 1, 1, 2, 3]\n"
     ]
    }
   ],
   "source": [
    "fib=lambda x:x if x<=1 else fib(x-1)+fib(x-2)\n",
    "print([fib(i) for i in range(5)])"
   ]
  },
  {
   "cell_type": "code",
   "execution_count": 80,
   "id": "2d47ed73",
   "metadata": {},
   "outputs": [
    {
     "name": "stdout",
     "output_type": "stream",
     "text": [
      "0\n",
      "1\n",
      "1\n",
      "2\n",
      "3\n"
     ]
    }
   ],
   "source": [
    "def fib_ser():\n",
    "    a,b=0,1\n",
    "    while True:\n",
    "        yield a\n",
    "        a,b=b,a+b\n",
    "n=fib_ser()\n",
    "for i in range(5):\n",
    "    print(next(n))"
   ]
  },
  {
   "cell_type": "markdown",
   "id": "4bc7b0d7",
   "metadata": {},
   "source": [
    "# Longest common sub string between str1 & str2"
   ]
  },
  {
   "cell_type": "code",
   "execution_count": 84,
   "id": "e69b4077",
   "metadata": {},
   "outputs": [
    {
     "name": "stdout",
     "output_type": "stream",
     "text": [
      "xyz\n"
     ]
    }
   ],
   "source": [
    "str1 = \"xyzlopp\"\n",
    "str2 = \"popxyz\"\n",
    "m=len(str1)\n",
    "n=len(str2)\n",
    "dp=[ [0 for j in range(n+1)]  for i in range(m+1)]\n",
    "longest_str=0\n",
    "end_index=0\n",
    "for i in range(1,m+1):\n",
    "    for j in range(1,n+1):\n",
    "        \n",
    "        if str1[i-1]==str2[j-1]:\n",
    "            dp[i][j]=dp[i-1][j-1]+1\n",
    "            \n",
    "            if dp[i][j]>longest_str:\n",
    "                longest_str=dp[i][j]\n",
    "                end_index=i\n",
    "\n",
    "print(str1[longest_str-end_index:end_index])"
   ]
  },
  {
   "cell_type": "markdown",
   "id": "5e5db0da",
   "metadata": {},
   "source": [
    "# Leap Year"
   ]
  },
  {
   "cell_type": "code",
   "execution_count": 88,
   "id": "42d989db",
   "metadata": {},
   "outputs": [
    {
     "name": "stdout",
     "output_type": "stream",
     "text": [
      "Leap Year\n"
     ]
    }
   ],
   "source": [
    "def leap_year(year):\n",
    "    return ((year%4==0 and year%100!=0) or (year%400==0))\n",
    "\n",
    "year=2024\n",
    "if leap_year(year):\n",
    "    print(\"Leap Year\")\n",
    "else:\n",
    "    print(\"Not Leap Year\")\n"
   ]
  },
  {
   "cell_type": "code",
   "execution_count": 91,
   "id": "2592c35e",
   "metadata": {},
   "outputs": [
    {
     "name": "stdout",
     "output_type": "stream",
     "text": [
      "abc\n"
     ]
    }
   ],
   "source": [
    "str1=\"xyz\"\n",
    "res=\"\"\n",
    "steps=3\n",
    "for i in str1:\n",
    "    if i.isalpha():\n",
    "        if i.islower():\n",
    "            forward=ord(i)+steps\n",
    "            if forward>ord(\"z\"):\n",
    "                forward-=26\n",
    "            elif forward<ord(\"a\"):\n",
    "                forward+=26\n",
    "        else:\n",
    "            forward=ord(i)+steps\n",
    "            if forward>ord(\"Z\"):\n",
    "                forward-=26\n",
    "            elif forward<ord(\"A\"):\n",
    "                forward+=26    \n",
    "        res+=chr(forward)\n",
    "    else:\n",
    "        res+=i\n",
    "print(res)        "
   ]
  },
  {
   "cell_type": "markdown",
   "id": "24531145",
   "metadata": {},
   "source": [
    "# Balanced Brackets"
   ]
  },
  {
   "cell_type": "code",
   "execution_count": 98,
   "id": "b244bd27",
   "metadata": {},
   "outputs": [
    {
     "name": "stdout",
     "output_type": "stream",
     "text": [
      "Not Valid\n"
     ]
    }
   ],
   "source": [
    "def balanced_brackets(str1):\n",
    "    stack=[]\n",
    "    for i in str1:\n",
    "        if i in [\"[\",\"{\",\"(\"]:\n",
    "            stack.append(i)\n",
    "        else:\n",
    "            if not stack:\n",
    "                print(\"Not Valid\")\n",
    "            current_element=stack.pop()\n",
    "            \n",
    "            if current_element==\"]\":\n",
    "                if i!=\"[\":\n",
    "                    print(\"Not Valid\")\n",
    "            if current_element==\")\":\n",
    "                if i!=\"(\":\n",
    "                    print(\"Not Valid\")\n",
    "            if current_element==\"}\":\n",
    "                if i!=\"{\":\n",
    "                    print(\"Not Valid\")\n",
    "    if stack:\n",
    "        print(\"Not Valid\")\n",
    "    else:\n",
    "        print(\"Valid\")\n",
    "    \n",
    "str1=\"[]{}()[\"\n",
    "balanced_brackets(str1)"
   ]
  },
  {
   "cell_type": "code",
   "execution_count": 107,
   "id": "348bc61e",
   "metadata": {},
   "outputs": [
    {
     "name": "stdout",
     "output_type": "stream",
     "text": [
      "mom\n",
      "rdadr\n",
      "dad\n"
     ]
    }
   ],
   "source": [
    "def palindrome(str1):\n",
    "    return str1==str1[::-1]\n",
    "\n",
    "def palindrome_str(str1):\n",
    "    for i in range(len(str1)):\n",
    "        for j in range(3,len(str1)+1):\n",
    "            res=str1[i:j]\n",
    "            if palindrome(res) and len(res)>=3:\n",
    "                    print(res)\n",
    "                \n",
    "str1 = 'retumomyrrdadr'\n",
    "palindrome_str(str1)\n",
    "\n"
   ]
  },
  {
   "cell_type": "markdown",
   "id": "66541142",
   "metadata": {},
   "source": [
    "# Maximum Sum Subarray"
   ]
  },
  {
   "cell_type": "code",
   "execution_count": 112,
   "id": "f6a4c591",
   "metadata": {},
   "outputs": [
    {
     "name": "stdout",
     "output_type": "stream",
     "text": [
      "([2, 3, 1, -2, -3, 6], 7)\n"
     ]
    }
   ],
   "source": [
    "def maximum_sum_subarray(l):\n",
    "    max_array=0\n",
    "    current_sum=0\n",
    "    start=0\n",
    "    end=0\n",
    "    pos=0\n",
    "    \n",
    "    for i in range(len(l)):\n",
    "        current_sum+=l[i]\n",
    "        if current_sum>max_array:\n",
    "            max_array=current_sum\n",
    "            start=pos\n",
    "            end=i\n",
    "            \n",
    "        if current_sum<0:\n",
    "            current_sum=0\n",
    "            pos=i+1\n",
    "    return l[start:end+1],max_array\n",
    "            \n",
    "        \n",
    "    \n",
    "l=[4,-3,-2,2,3,1,-2,-3,6,-6,-4,2,1]\n",
    "print(maximum_sum_subarray(l))"
   ]
  },
  {
   "cell_type": "markdown",
   "id": "5c367458",
   "metadata": {},
   "source": [
    "# Longest substrings without repeating characters are"
   ]
  },
  {
   "cell_type": "code",
   "execution_count": 2,
   "id": "d1c3065d",
   "metadata": {},
   "outputs": [
    {
     "name": "stdout",
     "output_type": "stream",
     "text": [
      "['ABCDEFG', 'BCDEFGA', 'CDEFGAB']\n"
     ]
    }
   ],
   "source": [
    "str1=\"ABCDEFGABEF\"\n",
    "\n",
    "n=len(str1)\n",
    "dup_str=[]\n",
    "for i in range(n):\n",
    "    for j in range(n):\n",
    "        res=str1[i:j]\n",
    "        d=\"\".join(list({i:res.count(i) for i in res  if res.count(i)==1}.keys()))\n",
    "        dup_str.append(d)\n",
    "max_len=len(max(dup_str,key=len))\n",
    "l=[i for i in dup_str if len(i)==max_len]\n",
    "print(l)"
   ]
  },
  {
   "cell_type": "markdown",
   "id": "f5f4dad4",
   "metadata": {},
   "source": [
    "# finds the longest sequence of consecutive '0's in a binary string"
   ]
  },
  {
   "cell_type": "code",
   "execution_count": 126,
   "id": "05793231",
   "metadata": {},
   "outputs": [
    {
     "name": "stdout",
     "output_type": "stream",
     "text": [
      "00000000\n"
     ]
    }
   ],
   "source": [
    "l=\"00000111111100000000\"\n",
    "print(max(l.split(\"1\"),key=len))"
   ]
  },
  {
   "cell_type": "markdown",
   "id": "fa04f884",
   "metadata": {},
   "source": [
    "# Find Rotatory string"
   ]
  },
  {
   "cell_type": "code",
   "execution_count": 130,
   "id": "02177fe3",
   "metadata": {},
   "outputs": [
    {
     "name": "stdout",
     "output_type": "stream",
     "text": [
      "netsetos\n",
      "etsetosn\n",
      "tsetosne\n",
      "setosnet\n",
      "etosnets\n",
      "tosnetse\n",
      "osnetset\n",
      "snetseto\n"
     ]
    }
   ],
   "source": [
    "str1=\"netsetos\"\n",
    "res=str1+str1\n",
    "n=len(str1)\n",
    "for i in range(n):\n",
    "    for j in range(n):\n",
    "        print(\"\".join(res[i+j]),end=\"\")\n",
    "    print()"
   ]
  },
  {
   "cell_type": "markdown",
   "id": "5b014859",
   "metadata": {},
   "source": [
    "# Two comman letters between strings"
   ]
  },
  {
   "cell_type": "code",
   "execution_count": 132,
   "id": "5669afd3",
   "metadata": {},
   "outputs": [
    {
     "name": "stdout",
     "output_type": "stream",
     "text": [
      "['N']\n"
     ]
    }
   ],
   "source": [
    "l1=\"NAINA\"\n",
    "l2=\"REENE\"\n",
    "print(list(set(l1)&set(l2)))"
   ]
  },
  {
   "cell_type": "markdown",
   "id": "15abcbd7",
   "metadata": {},
   "source": [
    "# Difference between two strings"
   ]
  },
  {
   "cell_type": "code",
   "execution_count": 134,
   "id": "7237c03a",
   "metadata": {},
   "outputs": [
    {
     "name": "stdout",
     "output_type": "stream",
     "text": [
      "mju\n"
     ]
    }
   ],
   "source": [
    "l1=\"ram\"\n",
    "l2=\"raju\"\n",
    "l=[i for i in l1+l2 if i not in l1 or i not in l2 ]\n",
    "print(\"\".join(l))"
   ]
  },
  {
   "cell_type": "markdown",
   "id": "1c531fa7",
   "metadata": {},
   "source": [
    "# Missing number in an array"
   ]
  },
  {
   "cell_type": "code",
   "execution_count": 147,
   "id": "80bab734",
   "metadata": {},
   "outputs": [
    {
     "name": "stdout",
     "output_type": "stream",
     "text": [
      "3\n",
      "3\n",
      "3\n"
     ]
    }
   ],
   "source": [
    "l=[1,2,4,5,6,7]\n",
    "n=l[-1]\n",
    "res=n*(n+1)//2\n",
    "sum_res=sum(l)\n",
    "print(res-sum_res)\n",
    "\n",
    "l2=[i for i in range(1,n+1)]\n",
    "res2=[i for i in l+l2 if i not in l or i not in l2]\n",
    "print(res2[0])\n",
    "\n",
    "x1=0\n",
    "for i in range(0,n):\n",
    "    x1=x1^i\n",
    "x2=0\n",
    "for j in range(len(l)-1):\n",
    "    x2=x2^l[j]\n",
    "    \n",
    "print(x1^x2)"
   ]
  },
  {
   "cell_type": "markdown",
   "id": "0463442e",
   "metadata": {},
   "source": [
    "# Find out pairs with given sum value of an array"
   ]
  },
  {
   "cell_type": "code",
   "execution_count": 155,
   "id": "83cf31f8",
   "metadata": {},
   "outputs": [],
   "source": [
    "arr=[5,7,4,3,93,8,19,21]\n",
    "arr.sort()\n",
    "sum1=17\n",
    "l=0\n",
    "r=len(arr)-1\n",
    "\n",
    "while l<=r:\n",
    "    if arr[l]+arr[r]==sum1:\n",
    "        print(arr[l],arr[r],\"--->\",sum1)\n",
    "        l=l+1\n",
    "        r=r-1\n",
    "    elif arr[l]+arr[r]>sum1:\n",
    "        r=r-1\n",
    "    elif  arr[l]+arr[r]<sum1:\n",
    "        l=l+1\n",
    "    else:\n",
    "        print(\"NOt founded\")\n",
    "\n",
    "    "
   ]
  },
  {
   "cell_type": "markdown",
   "id": "cb41fdfd",
   "metadata": {},
   "source": [
    "# Remove Duplicates"
   ]
  },
  {
   "cell_type": "code",
   "execution_count": 158,
   "id": "3c22f039",
   "metadata": {},
   "outputs": [
    {
     "name": "stdout",
     "output_type": "stream",
     "text": [
      "[1, 2, 3, 4, 5]\n"
     ]
    }
   ],
   "source": [
    "l=[1,1,2,2,2,3,4,4,4,5,5]\n",
    "temp=0\n",
    "res=[0]*len(l)\n",
    "for i in range(len(l)-1):\n",
    "    if l[i]!=l[i+1]:\n",
    "        res[temp]=l[i]\n",
    "        temp+=1\n",
    "res[temp]=l[-1]\n",
    "print(res[:temp+1])\n",
    "        "
   ]
  },
  {
   "cell_type": "markdown",
   "id": "4c7124c7",
   "metadata": {},
   "source": [
    "# Rain Trapping"
   ]
  },
  {
   "cell_type": "code",
   "execution_count": 173,
   "id": "aaa2655d",
   "metadata": {},
   "outputs": [
    {
     "name": "stdout",
     "output_type": "stream",
     "text": [
      "[0, 0, 0, 0, 0, 0, 0, 0, 0, 0]\n",
      "[0, 0, 0, 0, 0, 0, 0, 0, 0, 0]\n",
      "[1, 1, 2, 2, 2, 2, 3, 3, 3, 3]\n",
      "[3, 3, 3, 3, 3, 3, 3, 2, 2, 2]\n",
      "9\n"
     ]
    }
   ],
   "source": [
    "A=[1,0,2,0,1,0,3,1,0,2]\n",
    "left_array=[0]*len(A)\n",
    "right_array=[0]*len(A)\n",
    "print(left_array)\n",
    "print(right_array)\n",
    "\n",
    "max_left=A[0]\n",
    "max_right=A[-1]\n",
    "for i in range(len(A)):\n",
    "    if A[i]>max_left:\n",
    "        max_left=A[i]     \n",
    "        left_array[i]=max_left\n",
    "    else:\n",
    "        left_array[i]=max_left\n",
    "print(left_array)\n",
    "\n",
    "for i in range(len(A)-1,-1,-1):\n",
    "    if A[i]>max_right:\n",
    "        max_right=A[i]\n",
    "        right_array[i]=max_right\n",
    "        \n",
    "    else:\n",
    "        right_array[i]=max_right\n",
    "\n",
    "        \n",
    "print(right_array)\n",
    "w=0\n",
    "for i in range(len(A)):\n",
    "    w+=min(left_array[i],right_array[i])-A[i]\n",
    "print(w)\n",
    " \n",
    "        \n",
    "    \n"
   ]
  },
  {
   "cell_type": "code",
   "execution_count": null,
   "id": "50d955a6",
   "metadata": {},
   "outputs": [],
   "source": []
  }
 ],
 "metadata": {
  "kernelspec": {
   "display_name": "Python 3 (ipykernel)",
   "language": "python",
   "name": "python3"
  },
  "language_info": {
   "codemirror_mode": {
    "name": "ipython",
    "version": 3
   },
   "file_extension": ".py",
   "mimetype": "text/x-python",
   "name": "python",
   "nbconvert_exporter": "python",
   "pygments_lexer": "ipython3",
   "version": "3.11.3"
  }
 },
 "nbformat": 4,
 "nbformat_minor": 5
}
