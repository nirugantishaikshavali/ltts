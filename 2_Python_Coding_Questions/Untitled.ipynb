{
 "cells": [
  {
   "cell_type": "code",
   "execution_count": 1,
   "id": "3a912e00",
   "metadata": {},
   "outputs": [
    {
     "name": "stdout",
     "output_type": "stream",
     "text": [
      "[1, 2, 3, 4]\n"
     ]
    }
   ],
   "source": [
    "l=[1,2,3,4]\n",
    "print(l)"
   ]
  },
  {
   "cell_type": "code",
   "execution_count": 2,
   "id": "c57874b9",
   "metadata": {},
   "outputs": [
    {
     "name": "stdout",
     "output_type": "stream",
     "text": [
      "[1, 2, 3]\n"
     ]
    }
   ],
   "source": [
    "l2=[]\n",
    "l2.append(1)\n",
    "l2.append(2)\n",
    "l2.append(3)\n",
    "print(l2)"
   ]
  },
  {
   "cell_type": "code",
   "execution_count": 3,
   "id": "6852a868",
   "metadata": {},
   "outputs": [
    {
     "name": "stdout",
     "output_type": "stream",
     "text": [
      "[1, 2, 3, 4, 5]\n"
     ]
    }
   ],
   "source": [
    "l3=[]\n",
    "l3.extend([1,2,3,4,5])\n",
    "print(l3)"
   ]
  },
  {
   "cell_type": "code",
   "execution_count": 4,
   "id": "3c6e6dee",
   "metadata": {},
   "outputs": [
    {
     "name": "stdout",
     "output_type": "stream",
     "text": [
      "1\n",
      "2\n",
      "3\n",
      "4\n",
      "5\n"
     ]
    }
   ],
   "source": [
    "n=len(l3)\n",
    "for i in range(n):\n",
    "    print(l3[i])"
   ]
  },
  {
   "cell_type": "code",
   "execution_count": 5,
   "id": "98837a5b",
   "metadata": {},
   "outputs": [
    {
     "name": "stdout",
     "output_type": "stream",
     "text": [
      "1\n",
      "2\n",
      "3\n",
      "4\n",
      "5\n"
     ]
    }
   ],
   "source": [
    "for i in l3:\n",
    "    print(i)"
   ]
  },
  {
   "cell_type": "code",
   "execution_count": 6,
   "id": "ed5430fb",
   "metadata": {},
   "outputs": [
    {
     "name": "stdout",
     "output_type": "stream",
     "text": [
      "0 1\n",
      "1 2\n",
      "2 3\n",
      "3 4\n",
      "4 5\n"
     ]
    }
   ],
   "source": [
    "#index\n",
    "for i,j in enumerate(l3):\n",
    "    print(i,j)"
   ]
  },
  {
   "cell_type": "code",
   "execution_count": 30,
   "id": "9444d67b",
   "metadata": {},
   "outputs": [
    {
     "name": "stdout",
     "output_type": "stream",
     "text": [
      "100\n",
      "5\n",
      "[2, 500, 3]\n",
      "[2, 3]\n",
      "[3, 4, 500]\n",
      "[5, 500, 4, 3, 500, 2, 100]\n",
      "[100, 2, 500, 500, 3, 4, 500, 5]\n",
      "None\n",
      "count 2\n",
      "[2, 3, 4, 5, 100, 500, 500]\n"
     ]
    }
   ],
   "source": [
    "#Access Data\n",
    "print(l3[0])\n",
    "print(l3[-1])\n",
    "print(l3[1:4])\n",
    "print(l3[1:4:2])\n",
    "print(l3[-4:-1])\n",
    "\n",
    "#reverse\n",
    "print(l3[::-1])\n",
    "\n",
    "\n",
    "#index\n",
    "l3.insert(2,500)\n",
    "print(l3)\n",
    "\n",
    "#remove\n",
    "t=l3.remove(500)\n",
    "print(t)\n",
    "\n",
    "#count\n",
    "res=l3.count(500)\n",
    "print(\"count\",res)\n",
    "\n",
    "#sorted\n",
    "print(sorted(l3))\n"
   ]
  },
  {
   "cell_type": "code",
   "execution_count": 15,
   "id": "73f5b403",
   "metadata": {},
   "outputs": [
    {
     "name": "stdout",
     "output_type": "stream",
     "text": [
      "[100, 2, 3, 4, 5]\n"
     ]
    }
   ],
   "source": [
    "#Update data based upon index\n",
    "l3[0]=100\n",
    "print(l3)"
   ]
  },
  {
   "cell_type": "code",
   "execution_count": 16,
   "id": "687f9d49",
   "metadata": {},
   "outputs": [
    {
     "name": "stdout",
     "output_type": "stream",
     "text": [
      "[1, 2, 3]\n"
     ]
    }
   ],
   "source": [
    "l4=[\"1\",\"2\",\"3\"]\n",
    "print(list(map(int,l4)))"
   ]
  },
  {
   "cell_type": "code",
   "execution_count": 21,
   "id": "4cce873b",
   "metadata": {},
   "outputs": [
    {
     "name": "stdout",
     "output_type": "stream",
     "text": [
      "['HI', 'hello']\n"
     ]
    }
   ],
   "source": [
    "l=[\"hi\",\"HELLO\"]\n",
    "res=[]\n",
    "for i in l:\n",
    "    if i.isupper():\n",
    "        res.append(i.lower())\n",
    "    else :\n",
    "        res.append(i.upper())\n",
    "print(res)"
   ]
  },
  {
   "cell_type": "code",
   "execution_count": 3,
   "id": "28ea89f2",
   "metadata": {},
   "outputs": [
    {
     "name": "stdout",
     "output_type": "stream",
     "text": [
      "dict_keys([1, 3, 4, 2, 0])\n",
      "dict_values([2, 4, 3, 1, 0])\n",
      "dict_items([(1, 2), (3, 4), (4, 3), (2, 1), (0, 0)])\n",
      "1 2\n",
      "3 4\n",
      "4 3\n",
      "2 1\n",
      "0 0\n"
     ]
    }
   ],
   "source": [
    "d = {1: 2, 3: 4, 4: 3, 2: 1, 0: 0}\n",
    "print(d.keys())\n",
    "print(d.values())\n",
    "print(d.items())\n",
    "for k,v in d.items():\n",
    "    print(k,v)"
   ]
  },
  {
   "cell_type": "code",
   "execution_count": null,
   "id": "d509950a",
   "metadata": {},
   "outputs": [],
   "source": []
  }
 ],
 "metadata": {
  "kernelspec": {
   "display_name": "Python 3 (ipykernel)",
   "language": "python",
   "name": "python3"
  },
  "language_info": {
   "codemirror_mode": {
    "name": "ipython",
    "version": 3
   },
   "file_extension": ".py",
   "mimetype": "text/x-python",
   "name": "python",
   "nbconvert_exporter": "python",
   "pygments_lexer": "ipython3",
   "version": "3.11.3"
  }
 },
 "nbformat": 4,
 "nbformat_minor": 5
}
