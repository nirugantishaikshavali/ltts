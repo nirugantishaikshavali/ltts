{
 "cells": [
  {
   "cell_type": "markdown",
   "id": "c496fc2a",
   "metadata": {},
   "source": [
    "# 1.Right Angled Triangle Pattern"
   ]
  },
  {
   "cell_type": "code",
   "execution_count": 2,
   "id": "781bca32",
   "metadata": {},
   "outputs": [
    {
     "name": "stdout",
     "output_type": "stream",
     "text": [
      "\n",
      "*\n",
      "**\n",
      "***\n",
      "****\n",
      "*****\n"
     ]
    }
   ],
   "source": [
    "n=5\n",
    "for i in range(n+1):\n",
    "    print(i*\"*\")"
   ]
  },
  {
   "cell_type": "markdown",
   "id": "e189d16c",
   "metadata": {},
   "source": [
    "# 2.Inverted Right Angled Triangle"
   ]
  },
  {
   "cell_type": "code",
   "execution_count": 4,
   "id": "b535948d",
   "metadata": {},
   "outputs": [
    {
     "name": "stdout",
     "output_type": "stream",
     "text": [
      "*****\n",
      "****\n",
      "***\n",
      "**\n",
      "*\n",
      "\n"
     ]
    }
   ],
   "source": [
    "n=5\n",
    "for i in range(n+1-1,-1,-1):\n",
    "    print(\"*\"*i)"
   ]
  },
  {
   "cell_type": "markdown",
   "id": "7d9dbce0",
   "metadata": {},
   "source": [
    "# 3.Square Patterns"
   ]
  },
  {
   "cell_type": "code",
   "execution_count": 5,
   "id": "e15c2b2a",
   "metadata": {},
   "outputs": [
    {
     "name": "stdout",
     "output_type": "stream",
     "text": [
      "*****\n",
      "*****\n",
      "*****\n",
      "*****\n",
      "*****\n"
     ]
    }
   ],
   "source": [
    "n=5\n",
    "for i in range(n):\n",
    "    for j in range(n):\n",
    "        print(\"*\",end=\"\")\n",
    "    print()"
   ]
  },
  {
   "cell_type": "markdown",
   "id": "5fe92728",
   "metadata": {},
   "source": [
    "# 4.Diamond Pattern"
   ]
  },
  {
   "cell_type": "code",
   "execution_count": 9,
   "id": "89849bca",
   "metadata": {},
   "outputs": [
    {
     "name": "stdout",
     "output_type": "stream",
     "text": [
      "     \n",
      "    * \n",
      "   * * \n",
      "  * * * \n",
      " * * * * \n",
      "* * * * * \n",
      " * * * * \n",
      "  * * * \n",
      "   * * \n",
      "    * \n",
      "     \n"
     ]
    }
   ],
   "source": [
    "n=5\n",
    "for i in range(n):\n",
    "    print((n-i)*\" \"+\"* \"*i)\n",
    "    \n",
    "\n",
    "for i in range(n,-1,-1):\n",
    "    print((n-i)*\" \"+\"* \"*i)"
   ]
  },
  {
   "cell_type": "markdown",
   "id": "7169e5cc",
   "metadata": {},
   "source": [
    "# 5.Pyramid Pattern"
   ]
  },
  {
   "cell_type": "code",
   "execution_count": 12,
   "id": "69a9d513",
   "metadata": {},
   "outputs": [
    {
     "name": "stdout",
     "output_type": "stream",
     "text": [
      "     \n",
      "    *\n",
      "   ***\n",
      "  *****\n",
      " *******\n",
      "*********\n",
      " *******\n",
      "  *****\n",
      "   ***\n",
      "    *\n",
      "     \n"
     ]
    }
   ],
   "source": [
    "n=5\n",
    "for i in range(n):\n",
    "    print(\" \"*(n-i)+\"*\"*(2*i-1))\n",
    "    \n",
    "for i in range(n,-1,-1):\n",
    "    print(\" \"*(n-i)+\"*\"*(2*i-1))"
   ]
  },
  {
   "cell_type": "markdown",
   "id": "707266b4",
   "metadata": {},
   "source": [
    "# 6.Right Angled Number Triangle"
   ]
  },
  {
   "cell_type": "code",
   "execution_count": 13,
   "id": "a71e9513",
   "metadata": {},
   "outputs": [
    {
     "name": "stdout",
     "output_type": "stream",
     "text": [
      "1 \n",
      "1 2 \n",
      "1 2 3 \n",
      "1 2 3 4 \n",
      "1 2 3 4 5 \n"
     ]
    }
   ],
   "source": [
    "# 1 \n",
    "# 1 2 \n",
    "# 1 2 3 \n",
    "# 1 2 3 4 \n",
    "# 1 2 3 4 5 \n",
    "n=5\n",
    "for i in range(1,n+1):\n",
    "    for j in range(1,i+1):\n",
    "        print(j,end=\" \")\n",
    "    print()"
   ]
  },
  {
   "cell_type": "markdown",
   "id": "93cc0972",
   "metadata": {},
   "source": [
    "# 7.Pascal's Triangle"
   ]
  },
  {
   "cell_type": "code",
   "execution_count": 17,
   "id": "940d4c53",
   "metadata": {},
   "outputs": [
    {
     "name": "stdout",
     "output_type": "stream",
     "text": [
      "     1\n",
      "    1 1\n",
      "   1 2 1\n",
      "  1 3 3 1\n",
      " 1 4 6 4 1\n"
     ]
    }
   ],
   "source": [
    "#      1\n",
    "#     1 1\n",
    "#    1 2 1\n",
    "#   1 3 3 1\n",
    "#  1 4 6 4 1\n",
    "\n",
    "n=5\n",
    "list1=[]\n",
    "for i in range(n+1):\n",
    "    temp=[]\n",
    "    for j in range(i+1):\n",
    "        if j==0 or i==j:\n",
    "            temp.append(1)\n",
    "        else:\n",
    "            temp.append(list1[i-1][j-1]+list1[i-1][j])\n",
    "    list1.append(temp)\n",
    "for i in range(n):\n",
    "    print(\" \"*(n-i)+\" \".join(map(str,list1[i])))"
   ]
  },
  {
   "cell_type": "markdown",
   "id": "c6f66cde",
   "metadata": {},
   "source": [
    "# 8.Floyd's Triangle"
   ]
  },
  {
   "cell_type": "code",
   "execution_count": 26,
   "id": "b3403ca0",
   "metadata": {
    "scrolled": true
   },
   "outputs": [
    {
     "name": "stdout",
     "output_type": "stream",
     "text": [
      "1 \n",
      "2 3 \n",
      "4 5 6 \n",
      "7 8 9 10 \n",
      "11 12 13 14 15 \n"
     ]
    }
   ],
   "source": [
    "# 1 \n",
    "# 2 3 \n",
    "# 4 5 6 \n",
    "# 7 8 9 10 \n",
    "# 11 12 13 14 15\n",
    "n=1\n",
    "num=5\n",
    "for i in range(num):\n",
    "    for j in range(i+1):\n",
    "        print(n,end=\" \")\n",
    "        n+=1\n",
    "    print()\n"
   ]
  },
  {
   "cell_type": "markdown",
   "id": "85cb147a",
   "metadata": {},
   "source": [
    "# 9.Binary Number Triangle Pattern"
   ]
  },
  {
   "cell_type": "code",
   "execution_count": 28,
   "id": "bd352d99",
   "metadata": {},
   "outputs": [
    {
     "name": "stdout",
     "output_type": "stream",
     "text": [
      "1 \n",
      "1 0 \n",
      "1 0 1 \n",
      "1 0 1 0 \n",
      "1 0 1 0 1 \n"
     ]
    }
   ],
   "source": [
    "# 1 \n",
    "# 1 0 \n",
    "# 1 0 1 \n",
    "# 1 0 1 0 \n",
    "# 1 0 1 0 1\n",
    "\n",
    "n=5\n",
    "for i in range(n):\n",
    "    for j in range(i+1):\n",
    "        if j%2==0:\n",
    "            print(\"1\",end=\" \")\n",
    "        else:\n",
    "            print(\"0\",end=\" \")\n",
    "    print()\n",
    "\n"
   ]
  },
  {
   "cell_type": "markdown",
   "id": "12d5b94f",
   "metadata": {},
   "source": [
    "# 10.Zig Zag Pattern"
   ]
  },
  {
   "cell_type": "code",
   "execution_count": 30,
   "id": "3a3d022c",
   "metadata": {},
   "outputs": [
    {
     "name": "stdout",
     "output_type": "stream",
     "text": [
      "*               * \n",
      "  *           *   \n",
      "    *       *     \n",
      "      *   *       \n",
      "        *         \n"
     ]
    }
   ],
   "source": [
    "def print_zigzag_pattern(n):\n",
    "    length=2*n-1\n",
    "    for i in range(n):\n",
    "        for j in range(length):\n",
    "            if j==i or j==length-i-1:\n",
    "                print(\"*\",end=\" \")\n",
    "            else:\n",
    "                print(\" \",end=\" \")\n",
    "        print()\n",
    "n = 5\n",
    "print_zigzag_pattern(n)"
   ]
  },
  {
   "cell_type": "code",
   "execution_count": null,
   "id": "31034331",
   "metadata": {},
   "outputs": [],
   "source": []
  }
 ],
 "metadata": {
  "kernelspec": {
   "display_name": "Python 3 (ipykernel)",
   "language": "python",
   "name": "python3"
  },
  "language_info": {
   "codemirror_mode": {
    "name": "ipython",
    "version": 3
   },
   "file_extension": ".py",
   "mimetype": "text/x-python",
   "name": "python",
   "nbconvert_exporter": "python",
   "pygments_lexer": "ipython3",
   "version": "3.11.3"
  }
 },
 "nbformat": 4,
 "nbformat_minor": 5
}
