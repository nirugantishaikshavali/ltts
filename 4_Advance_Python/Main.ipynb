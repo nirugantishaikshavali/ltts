{
 "cells": [
  {
   "cell_type": "markdown",
   "id": "e6992944",
   "metadata": {},
   "source": [
    "# 1.Try-Catch Exception"
   ]
  },
  {
   "cell_type": "code",
   "execution_count": 2,
   "id": "9044d517",
   "metadata": {},
   "outputs": [
    {
     "name": "stdout",
     "output_type": "stream",
     "text": [
      "Error---> integer modulo by zero\n",
      "Successfully Completed\n"
     ]
    }
   ],
   "source": [
    "try:\n",
    "    n=20\n",
    "    res=n%0\n",
    "    print(\"Result--->\",res)\n",
    "except Exception as e:\n",
    "    print(\"Error--->\",str(e))\n",
    "finally:\n",
    "    print(\"Successfully Completed\")"
   ]
  },
  {
   "cell_type": "markdown",
   "id": "ac0ba7c1",
   "metadata": {},
   "source": [
    "# 2.Custom Exception"
   ]
  },
  {
   "cell_type": "code",
   "execution_count": 4,
   "id": "179a57af",
   "metadata": {},
   "outputs": [
    {
     "name": "stdout",
     "output_type": "stream",
     "text": [
      "Your Age is Eligable\n"
     ]
    }
   ],
   "source": [
    "class Error(Exception):\n",
    "    pass\n",
    "class Agelimit(Error):\n",
    "    pass\n",
    "\n",
    "try:\n",
    "    age=18\n",
    "    if age>=18:\n",
    "        print(\"Your Age is Eligable\")\n",
    "    else:\n",
    "        raise Agelimit\n",
    "        \n",
    "except Agelimit:\n",
    "    print(\"Your Age is not eligable\")"
   ]
  },
  {
   "cell_type": "markdown",
   "id": "41857aec",
   "metadata": {},
   "source": [
    "# 3.List vs Shallow Copy vs Deep Copy"
   ]
  },
  {
   "cell_type": "code",
   "execution_count": 9,
   "id": "2fcb1997",
   "metadata": {},
   "outputs": [
    {
     "name": "stdout",
     "output_type": "stream",
     "text": [
      "Copy List---> [[100, 2, 3, 4, 5], [10, 20, 30, 40]]\n",
      "Normal List---> [[1, 2, 3, 4, 5], [10, 20, 30, 40]]\n"
     ]
    }
   ],
   "source": [
    "# L1=[1,2,3,4,5]\n",
    "# L2=L1\n",
    "# L2[0]=100\n",
    "# print(\"Copy List--->\",L2)\n",
    "# print(\"Normal List--->\",L1)\n",
    "\n",
    "\n",
    "#Shallow Copy\n",
    "# L1=[1,2,3,4,5]\n",
    "# L2=L1.copy()\n",
    "# L2[0]=100\n",
    "# print(\"Copy List--->\",L2)\n",
    "# print(\"Normal List--->\",L1)\n",
    "\n",
    "# L1=[[1,2,3,4,5],[10,20,30,40]]\n",
    "# L2=L1.copy()\n",
    "# L2[0][0]=100\n",
    "# print(\"Copy List--->\",L2)\n",
    "# print(\"Normal List--->\",L1)\n",
    "\n",
    "\n",
    "#Deep Copy\n",
    "# import copy\n",
    "# L1=[1,2,3,4,5]\n",
    "# L2=copy.deepcopy(L1)\n",
    "\n",
    "# L2[0]=100\n",
    "# print(\"Copy List--->\",L2)\n",
    "# print(\"Normal List--->\",L1)\n",
    "\n",
    "L1=[[1,2,3,4,5],[10,20,30,40]]\n",
    "L2=copy.deepcopy(L1)\n",
    "L2[0][0]=100\n",
    "print(\"Copy List--->\",L2)\n",
    "print(\"Normal List--->\",L1)\n"
   ]
  },
  {
   "cell_type": "markdown",
   "id": "5f5f9040",
   "metadata": {},
   "source": [
    "# 4.Closures and Decorators"
   ]
  },
  {
   "cell_type": "raw",
   "id": "ba2ccdae",
   "metadata": {},
   "source": [
    "Closures:-A function calling inside the function\n",
    "Decorators:-High Ordered Function,function calling inside the function and passing has a parameter."
   ]
  },
  {
   "cell_type": "code",
   "execution_count": 10,
   "id": "b7b1a6c1",
   "metadata": {},
   "outputs": [
    {
     "name": "stdout",
     "output_type": "stream",
     "text": [
      "FrontEnd-ReactJs\n",
      "Integration-RestApi's\n",
      "BackEnd-Python\n"
     ]
    }
   ],
   "source": [
    "# Closures\n",
    "def main_fun(l):\n",
    "    def sub_fun():\n",
    "        print(\"FrontEnd-ReactJs\")\n",
    "        print(l)\n",
    "        print(\"BackEnd-Python\")\n",
    "    return sub_fun()\n",
    "main_fun(\"Integration-RestApi's\")"
   ]
  },
  {
   "cell_type": "code",
   "execution_count": 11,
   "id": "e0fc0753",
   "metadata": {},
   "outputs": [
    {
     "name": "stdout",
     "output_type": "stream",
     "text": [
      "FrontEnd-ReactJs\n",
      "Integration-RestApi's\n",
      "BackEnd-Python\n"
     ]
    }
   ],
   "source": [
    "# Decorators\n",
    "def main_fun(l):\n",
    "    def sub_fun():\n",
    "        print(\"FrontEnd-ReactJs\")\n",
    "        l()\n",
    "        print(\"BackEnd-Python\")  \n",
    "    return sub_fun()\n",
    "\n",
    "@main_fun\n",
    "def Rest_Apis():\n",
    "    print(\"Integration-RestApi's\")"
   ]
  },
  {
   "cell_type": "markdown",
   "id": "6737c46e",
   "metadata": {},
   "source": [
    "# 5.Iterators and Generators"
   ]
  },
  {
   "cell_type": "raw",
   "id": "3e25a2d6",
   "metadata": {},
   "source": [
    "In Python, both generators and iterators are used to iterate over data,\n",
    "1.To create iterator we use iter() and to create generator we using function along with yield keyword.\n",
    "2.Generator uses the yield keyword.It saves the local variable.\n",
    "3.Generator in python helps us to write fast and compact code.\n",
    "4.Python iterator is much more memory efficient.\n",
    "5.In iterator we iter the next iterator we use next keyword."
   ]
  },
  {
   "cell_type": "code",
   "execution_count": 15,
   "id": "b4ea0e12",
   "metadata": {},
   "outputs": [
    {
     "name": "stdout",
     "output_type": "stream",
     "text": [
      "1\n",
      "2\n",
      "3\n",
      "4\n",
      "5\n"
     ]
    }
   ],
   "source": [
    "# Iterator\n",
    "L=[1,2,3,4,5]\n",
    "data=iter(L)\n",
    "while True:\n",
    "    try:\n",
    "        print(next(data))\n",
    "    except Exception as e:\n",
    "        break"
   ]
  },
  {
   "cell_type": "code",
   "execution_count": 19,
   "id": "7297fb12",
   "metadata": {},
   "outputs": [
    {
     "name": "stdout",
     "output_type": "stream",
     "text": [
      "0\n",
      "1\n",
      "1\n",
      "2\n",
      "3\n",
      "5\n",
      "8\n",
      "13\n",
      "21\n",
      "34\n"
     ]
    }
   ],
   "source": [
    "#Generator:-it returns an iterator that produces sequences of values one at a time .we use the yield keyword to produce values.\n",
    "def fib_ser():\n",
    "    a,b=0,1\n",
    "    while True:\n",
    "        yield a\n",
    "        a,b=b,a+b\n",
    "temp=fib_ser()\n",
    "for i in range(10):\n",
    "    print(next(temp))"
   ]
  },
  {
   "cell_type": "markdown",
   "id": "e43fb5c3",
   "metadata": {},
   "source": [
    "# 6.*args vs **kwargs"
   ]
  },
  {
   "cell_type": "raw",
   "id": "fd2be0f3",
   "metadata": {},
   "source": [
    "args:-No of positional arguments\n",
    "kwargs:-No of Keyword arguments"
   ]
  },
  {
   "cell_type": "code",
   "execution_count": 20,
   "id": "89393f26",
   "metadata": {},
   "outputs": [
    {
     "name": "stdout",
     "output_type": "stream",
     "text": [
      "ID's---> (1, 2, 3, 5)\n",
      "Identity---> {'name': 'ram', 'age': 42}\n"
     ]
    }
   ],
   "source": [
    "def profile(*args,**kwargs):\n",
    "    print(\"ID's--->\",args)\n",
    "    print(\"Identity--->\",kwargs)\n",
    "    \n",
    "profile(1,2,3,5,name=\"ram\",age=42)"
   ]
  },
  {
   "cell_type": "markdown",
   "id": "95507481",
   "metadata": {},
   "source": [
    "# 7.Static Method vs Class Method"
   ]
  },
  {
   "cell_type": "raw",
   "id": "2c78a83b",
   "metadata": {},
   "source": [
    "Difference between static method vs class method\n",
    "1.It define using @staticmethod decorator         1. It define using @classmethod decorator\n",
    "2.It won't take any cls,self parameter in method        2.Takes 'cls' as the first parameter to refer to tge class\n",
    "3.Cannot access or modify instance data           3.Cannot access instance data but can modify class state\n",
    "4.Static method does not interact with any instance or class-specific data    4.class method interacts with the class level attribute class_attribute"
   ]
  },
  {
   "cell_type": "code",
   "execution_count": 24,
   "id": "dc37a16e",
   "metadata": {},
   "outputs": [
    {
     "name": "stdout",
     "output_type": "stream",
     "text": [
      "shaiksha | 45\n"
     ]
    },
    {
     "data": {
      "text/plain": [
       "100"
      ]
     },
     "execution_count": 24,
     "metadata": {},
     "output_type": "execute_result"
    }
   ],
   "source": [
    "# In Python we have 2 types of variables and 3 types of methods\n",
    "# Two Types of Varibles:-\n",
    "#             1)Instance\n",
    "#             2)class\n",
    "# Three Types of Varibles:-\n",
    "#             1)Instance Method\n",
    "#             2)class Method\n",
    "#             3)static Method\n",
    "\n",
    "            \n",
    "class Student:\n",
    "    college_name=\"xyz\"\n",
    "    counter=100\n",
    "    def __init__(self,name,age):\n",
    "        self.name=name#instance variable\n",
    "        self.age=age\n",
    "        \n",
    "    #instance method\n",
    "    def msg(self):\n",
    "        print(self.name+\" | \"+str(self.age))\n",
    "        \n",
    "    @classmethod\n",
    "    def object_count(cls):\n",
    "        return cls.counter\n",
    "\n",
    "sobj=Student(\"shaiksha\",45)\n",
    "sobj.msg()\n",
    "\n",
    "\n",
    "# sobj.object_count()\n",
    "Student.object_count()"
   ]
  },
  {
   "cell_type": "code",
   "execution_count": 25,
   "id": "93d42ed6",
   "metadata": {},
   "outputs": [
    {
     "name": "stdout",
     "output_type": "stream",
     "text": [
      "ramu got 560\n",
      "belong to school\n"
     ]
    }
   ],
   "source": [
    "class student:\n",
    "    def __init__(self,name,maarks):\n",
    "        self.name=name\n",
    "        self.marks=marks\n",
    "        \n",
    "    def msg(self):\n",
    "        print(self.name+\" got \"+self.marks)\n",
    "    \n",
    "    @classmethod\n",
    "    def get_per(cls,name,marks):\n",
    "        return cls(name,str((int(marks)/600)*100))\n",
    "    @staticmethod\n",
    "    def get_Age(age):\n",
    "        if age<17:\n",
    "            print(\"belong to school\")\n",
    "        else:\n",
    "            print(\"don't belongs to school\")\n",
    "    \n",
    "name=\"ramu\"\n",
    "marks=\"560\"\n",
    "s1=student.get_per(name,marks)\n",
    "s1.msg()\n",
    "s1.get_Age(16)"
   ]
  },
  {
   "cell_type": "markdown",
   "id": "4aeda39b",
   "metadata": {},
   "source": [
    "# 8.Pickle and Unpickle"
   ]
  },
  {
   "cell_type": "code",
   "execution_count": 27,
   "id": "673d906e",
   "metadata": {},
   "outputs": [],
   "source": [
    "import pickle\n",
    "data={\"name1\":\"Alla Ram\"}\n",
    "with open(\"sample.pkl\",\"wb\") as file:\n",
    "    pickle.dump(data,file)"
   ]
  },
  {
   "cell_type": "code",
   "execution_count": 28,
   "id": "c5c77289",
   "metadata": {},
   "outputs": [
    {
     "name": "stdout",
     "output_type": "stream",
     "text": [
      "{'name1': 'Alla Ram'}\n"
     ]
    }
   ],
   "source": [
    "with open(\"sample.pkl\",\"rb\") as file:\n",
    "    data=pickle.load(file)\n",
    "print(data)"
   ]
  },
  {
   "cell_type": "markdown",
   "id": "ac238238",
   "metadata": {},
   "source": [
    "# 9.Package"
   ]
  },
  {
   "cell_type": "code",
   "execution_count": 1,
   "id": "66983237",
   "metadata": {},
   "outputs": [
    {
     "name": "stdout",
     "output_type": "stream",
     "text": [
      "C:\\Users\\40019115\\SHAIKSHA\\Backend\\4_Advance_Python\\Main1.py\n",
      "Hello\n"
     ]
    }
   ],
   "source": [
    "# #Main.py\n",
    "# import Main1\n",
    "# # sum() is function\n",
    "# print(Main1.Add())\n",
    "\n",
    "# import Main1\n",
    "# Main1.Add()\n",
    "import Main1\n",
    "print(Main1.__file__)\n",
    "Main1.Add()"
   ]
  },
  {
   "cell_type": "code",
   "execution_count": null,
   "id": "6fbd80b4",
   "metadata": {},
   "outputs": [],
   "source": []
  },
  {
   "cell_type": "code",
   "execution_count": null,
   "id": "b26bad12",
   "metadata": {},
   "outputs": [],
   "source": []
  },
  {
   "cell_type": "code",
   "execution_count": null,
   "id": "acc451f7",
   "metadata": {},
   "outputs": [],
   "source": []
  }
 ],
 "metadata": {
  "kernelspec": {
   "display_name": "Python 3 (ipykernel)",
   "language": "python",
   "name": "python3"
  },
  "language_info": {
   "codemirror_mode": {
    "name": "ipython",
    "version": 3
   },
   "file_extension": ".py",
   "mimetype": "text/x-python",
   "name": "python",
   "nbconvert_exporter": "python",
   "pygments_lexer": "ipython3",
   "version": "3.11.3"
  }
 },
 "nbformat": 4,
 "nbformat_minor": 5
}
