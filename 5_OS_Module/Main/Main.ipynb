{
 "cells": [
  {
   "cell_type": "code",
   "execution_count": 1,
   "id": "ad4e1b72",
   "metadata": {},
   "outputs": [
    {
     "name": "stdout",
     "output_type": "stream",
     "text": [
      "['DirEntry', 'EX_OK', 'F_OK', 'GenericAlias', 'Mapping', 'MutableMapping', 'O_APPEND', 'O_BINARY', 'O_CREAT', 'O_EXCL', 'O_NOINHERIT', 'O_RANDOM', 'O_RDONLY', 'O_RDWR', 'O_SEQUENTIAL', 'O_SHORT_LIVED', 'O_TEMPORARY', 'O_TEXT', 'O_TRUNC', 'O_WRONLY', 'P_DETACH', 'P_NOWAIT', 'P_NOWAITO', 'P_OVERLAY', 'P_WAIT', 'PathLike', 'R_OK', 'SEEK_CUR', 'SEEK_END', 'SEEK_SET', 'TMP_MAX', 'W_OK', 'X_OK', '_AddedDllDirectory', '_Environ', '__all__', '__builtins__', '__doc__', '__file__', '__loader__', '__name__', '__package__', '__spec__', '_check_methods', '_execvpe', '_exists', '_exit', '_fspath', '_get_exports_list', '_walk', '_wrap_close', 'abc', 'abort', 'access', 'add_dll_directory', 'altsep', 'chdir', 'chmod', 'close', 'closerange', 'cpu_count', 'curdir', 'defpath', 'device_encoding', 'devnull', 'dup', 'dup2', 'environ', 'error', 'execl', 'execle', 'execlp', 'execlpe', 'execv', 'execve', 'execvp', 'execvpe', 'extsep', 'fdopen', 'fsdecode', 'fsencode', 'fspath', 'fstat', 'fsync', 'ftruncate', 'get_exec_path', 'get_handle_inheritable', 'get_inheritable', 'get_terminal_size', 'getcwd', 'getcwdb', 'getenv', 'getlogin', 'getpid', 'getppid', 'isatty', 'kill', 'linesep', 'link', 'listdir', 'lseek', 'lstat', 'makedirs', 'mkdir', 'name', 'open', 'pardir', 'path', 'pathsep', 'pipe', 'popen', 'putenv', 'read', 'readlink', 'remove', 'removedirs', 'rename', 'renames', 'replace', 'rmdir', 'scandir', 'sep', 'set_handle_inheritable', 'set_inheritable', 'spawnl', 'spawnle', 'spawnv', 'spawnve', 'st', 'startfile', 'stat', 'stat_result', 'statvfs_result', 'strerror', 'supports_bytes_environ', 'supports_dir_fd', 'supports_effective_ids', 'supports_fd', 'supports_follow_symlinks', 'symlink', 'sys', 'system', 'terminal_size', 'times', 'times_result', 'truncate', 'umask', 'uname_result', 'unlink', 'unsetenv', 'urandom', 'utime', 'waitpid', 'waitstatus_to_exitcode', 'walk', 'write']\n"
     ]
    }
   ],
   "source": [
    "import os\n",
    "print(dir(os))"
   ]
  },
  {
   "cell_type": "markdown",
   "id": "15eb7f2e",
   "metadata": {},
   "source": [
    "# Current Working Directory"
   ]
  },
  {
   "cell_type": "code",
   "execution_count": 2,
   "id": "91689548",
   "metadata": {},
   "outputs": [
    {
     "name": "stdout",
     "output_type": "stream",
     "text": [
      "C:\\Users\\40019115\\SHAIKSHA\\Backend\\5_OS_Module\\Main\n"
     ]
    }
   ],
   "source": [
    "print(os.getcwd())"
   ]
  },
  {
   "cell_type": "markdown",
   "id": "da51cb69",
   "metadata": {},
   "source": [
    "# list of files in current working Directory"
   ]
  },
  {
   "cell_type": "code",
   "execution_count": 3,
   "id": "673223a7",
   "metadata": {},
   "outputs": [
    {
     "name": "stdout",
     "output_type": "stream",
     "text": [
      "['.ipynb_checkpoints', 'Untitled.ipynb']\n"
     ]
    }
   ],
   "source": [
    "print(os.listdir())"
   ]
  },
  {
   "cell_type": "markdown",
   "id": "2a107f18",
   "metadata": {},
   "source": [
    "# Change Directory"
   ]
  },
  {
   "cell_type": "code",
   "execution_count": 5,
   "id": "cbe07241",
   "metadata": {},
   "outputs": [],
   "source": [
    "os.chdir(r\"C:\\Users\\40019115\\SHAIKSHA\\Backend\\5_OS_Module\")"
   ]
  },
  {
   "cell_type": "code",
   "execution_count": 6,
   "id": "d3711677",
   "metadata": {},
   "outputs": [
    {
     "name": "stdout",
     "output_type": "stream",
     "text": [
      "['.ipynb_checkpoints', 'Main']\n"
     ]
    }
   ],
   "source": [
    "print(os.listdir())"
   ]
  },
  {
   "cell_type": "code",
   "execution_count": 7,
   "id": "8cead880",
   "metadata": {},
   "outputs": [],
   "source": [
    "os.chdir(r\"C:\\Users\\40019115\\SHAIKSHA\\Backend\\5_OS_Module\\Main\")"
   ]
  },
  {
   "cell_type": "code",
   "execution_count": 8,
   "id": "f08ff5a2",
   "metadata": {},
   "outputs": [
    {
     "name": "stdout",
     "output_type": "stream",
     "text": [
      "['.ipynb_checkpoints', 'Untitled.ipynb']\n"
     ]
    }
   ],
   "source": [
    "print(os.listdir())"
   ]
  },
  {
   "cell_type": "markdown",
   "id": "de3b1f40",
   "metadata": {},
   "source": [
    "# Make Folders"
   ]
  },
  {
   "cell_type": "code",
   "execution_count": 13,
   "id": "9dda1836",
   "metadata": {},
   "outputs": [],
   "source": [
    "folder=\"data\"\n",
    "d={\n",
    "    \"csv\":os.path.join(folder,\"csv\"),\n",
    "    \"xlsx\":os.path.join(folder,\"xlsx\"),\n",
    "    \"pdf\":os.path.join(folder,\"pdf\"),\n",
    "    \"json\":os.path.join(folder,\"json\"),\n",
    "\n",
    "}\n",
    "for value in d.values():\n",
    "    os.makedirs(value,exist_ok=True)"
   ]
  },
  {
   "cell_type": "markdown",
   "id": "773d324d",
   "metadata": {},
   "source": [
    "# Check Files"
   ]
  },
  {
   "cell_type": "code",
   "execution_count": 14,
   "id": "6b3e5f2e",
   "metadata": {},
   "outputs": [
    {
     "name": "stdout",
     "output_type": "stream",
     "text": [
      "False\n",
      "True\n",
      "True\n",
      "C:\\Users\\40019115\\Interview_Preparation\\BackEnd\n",
      "1_OS_Module\n",
      "('C:\\\\Users\\\\40019115\\\\Interview_Preparation\\\\BackEnd', '1_OS_Module')\n",
      "('C:\\\\Users\\\\40019115\\\\Interview_Preparation\\\\BackEnd\\\\1_OS_Module\\\\sample', '.txt')\n"
     ]
    }
   ],
   "source": [
    "print(os.path.isfile(r\"C:\\Users\\40019115\\Interview_Preparation\\BackEnd\\1_OS_Module\\sample.py\"))\n",
    "print(os.path.isdir(r\"C:\\Users\\40019115\\Interview_Preparation\\BackEnd\\1_OS_Module\"))\n",
    "print(os.path.exists(r\"C:\\Users\\40019115\\Interview_Preparation\\BackEnd\\1_OS_Module\"))\n",
    "print(os.path.dirname(r\"C:\\Users\\40019115\\Interview_Preparation\\BackEnd\\1_OS_Module\"))\n",
    "print(os.path.basename(r\"C:\\Users\\40019115\\Interview_Preparation\\BackEnd\\1_OS_Module\"))\n",
    "print(os.path.split(r\"C:\\Users\\40019115\\Interview_Preparation\\BackEnd\\1_OS_Module\"))\n",
    "print(os.path.splitext(r\"C:\\Users\\40019115\\Interview_Preparation\\BackEnd\\1_OS_Module\\sample.txt\"))"
   ]
  },
  {
   "cell_type": "markdown",
   "id": "880277aa",
   "metadata": {},
   "source": [
    "# Remove Single file,Single folder,Multiple folder"
   ]
  },
  {
   "cell_type": "code",
   "execution_count": 15,
   "id": "b83ee227",
   "metadata": {},
   "outputs": [],
   "source": [
    "# if os.path.isfile(r\"C:\\Users\\40019115\\Interview_Preparation\\BackEnd\\1_OS_Module\\sample.txt\"):\n",
    "#     os.remove(r\"C:\\Users\\40019115\\Interview_Preparation\\BackEnd\\1_OS_Module\\sample.txt\")\n",
    "#     print(\"File is removed\")\n",
    "# else:\n",
    "#     print(\"File is not existed\")\n",
    "    \n",
    "    \n",
    "#Single File Removed\n",
    "# if os.path.exists(r\"C:\\Users\\40019115\\Interview_Preparation\\BackEnd\\1_OS_Module\\data\\pdfs\"):\n",
    "#     os.rmdir(r\"C:\\Users\\40019115\\Interview_Preparation\\BackEnd\\1_OS_Module\\data\\pdfs\")\n",
    "#     print(\"Single folder deleted\")\n",
    "\n",
    "import shutil\n",
    "if os.path.exists(r\"C:\\Users\\40019115\\Interview_Preparation\\BackEnd\\1_OS_Module\\data\"):\n",
    "    shutil.rmtree(r\"C:\\Users\\40019115\\Interview_Preparation\\BackEnd\\1_OS_Module\\data\")\n",
    "    print(\"Data folder deleted\")\n"
   ]
  },
  {
   "cell_type": "markdown",
   "id": "558e0c7e",
   "metadata": {},
   "source": [
    "# Replace"
   ]
  },
  {
   "cell_type": "code",
   "execution_count": 16,
   "id": "21a51587",
   "metadata": {},
   "outputs": [
    {
     "ename": "FileNotFoundError",
     "evalue": "[WinError 2] The system cannot find the file specified: 'sample.txt' -> 'sample_final.txt'",
     "output_type": "error",
     "traceback": [
      "\u001b[1;31m---------------------------------------------------------------------------\u001b[0m",
      "\u001b[1;31mFileNotFoundError\u001b[0m                         Traceback (most recent call last)",
      "Cell \u001b[1;32mIn[16], line 2\u001b[0m\n\u001b[0;32m      1\u001b[0m \u001b[38;5;28;01mif\u001b[39;00m os\u001b[38;5;241m.\u001b[39mpath\u001b[38;5;241m.\u001b[39mexists(\u001b[38;5;124mr\u001b[39m\u001b[38;5;124m\"\u001b[39m\u001b[38;5;124mC:\u001b[39m\u001b[38;5;124m\\\u001b[39m\u001b[38;5;124mUsers\u001b[39m\u001b[38;5;124m\\\u001b[39m\u001b[38;5;124m40019115\u001b[39m\u001b[38;5;124m\\\u001b[39m\u001b[38;5;124mInterview_Preparation\u001b[39m\u001b[38;5;124m\\\u001b[39m\u001b[38;5;124mBackEnd\u001b[39m\u001b[38;5;124m\\\u001b[39m\u001b[38;5;124m1_OS_Module\u001b[39m\u001b[38;5;124m\\\u001b[39m\u001b[38;5;124msample.txt\u001b[39m\u001b[38;5;124m\"\u001b[39m):\n\u001b[1;32m----> 2\u001b[0m     os\u001b[38;5;241m.\u001b[39mreplace(\u001b[38;5;124m\"\u001b[39m\u001b[38;5;124msample.txt\u001b[39m\u001b[38;5;124m\"\u001b[39m,\u001b[38;5;124m\"\u001b[39m\u001b[38;5;124msample_final.txt\u001b[39m\u001b[38;5;124m\"\u001b[39m)\n\u001b[0;32m      3\u001b[0m     \u001b[38;5;28mprint\u001b[39m(\u001b[38;5;124m\"\u001b[39m\u001b[38;5;124mFile is replaced\u001b[39m\u001b[38;5;124m\"\u001b[39m)\n",
      "\u001b[1;31mFileNotFoundError\u001b[0m: [WinError 2] The system cannot find the file specified: 'sample.txt' -> 'sample_final.txt'"
     ]
    }
   ],
   "source": [
    "if os.path.exists(r\"C:\\Users\\40019115\\Interview_Preparation\\BackEnd\\1_OS_Module\\sample.txt\"):\n",
    "    os.replace(\"sample.txt\",\"sample_final.txt\")\n",
    "    print(\"File is replaced\")"
   ]
  },
  {
   "cell_type": "markdown",
   "id": "2230102f",
   "metadata": {},
   "source": [
    "# Rename"
   ]
  },
  {
   "cell_type": "code",
   "execution_count": null,
   "id": "2c58e80f",
   "metadata": {},
   "outputs": [],
   "source": [
    "if os.path.exists(r\"C:\\Users\\40019115\\Interview_Preparation\\BackEnd\\1_OS_Module\\sample_final.txt\"):\n",
    "    os.rename(\"sample_final.txt\",\"sample.txt\")\n",
    "    print(\"File Renamed\")"
   ]
  }
 ],
 "metadata": {
  "kernelspec": {
   "display_name": "Python 3 (ipykernel)",
   "language": "python",
   "name": "python3"
  },
  "language_info": {
   "codemirror_mode": {
    "name": "ipython",
    "version": 3
   },
   "file_extension": ".py",
   "mimetype": "text/x-python",
   "name": "python",
   "nbconvert_exporter": "python",
   "pygments_lexer": "ipython3",
   "version": "3.11.3"
  }
 },
 "nbformat": 4,
 "nbformat_minor": 5
}
