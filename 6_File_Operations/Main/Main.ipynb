{
 "cells": [
  {
   "cell_type": "code",
   "execution_count": 1,
   "id": "3035e9ed",
   "metadata": {},
   "outputs": [
    {
     "name": "stdout",
     "output_type": "stream",
     "text": [
      "C:\\Users\\40019115\\SHAIKSHA\\Backend\\6_File_Operations\\Main\n"
     ]
    }
   ],
   "source": [
    "import os\n",
    "print(os.getcwd())"
   ]
  },
  {
   "cell_type": "code",
   "execution_count": 2,
   "id": "39486695",
   "metadata": {},
   "outputs": [],
   "source": [
    "file_name=\"sample.txt\"\n",
    "with open(file_name,\"w\") as file:\n",
    "    pass"
   ]
  },
  {
   "cell_type": "code",
   "execution_count": 7,
   "id": "87405a6e",
   "metadata": {},
   "outputs": [],
   "source": [
    "with open(file_name,\"w\") as file:\n",
    "    file.write('''The HPCL Visakh refinery, also known as the Vishakhapatnam refinery,\n",
    "               in Andhra Pradesh, India is undergoing an expansion cum modernisation project to increase its processing capacity from 8.33 million\n",
    "               tonnes per annum (Mtpa) to 15Mtpa.''')\n",
    "    file.close()"
   ]
  },
  {
   "cell_type": "code",
   "execution_count": 8,
   "id": "5867734a",
   "metadata": {},
   "outputs": [
    {
     "name": "stdout",
     "output_type": "stream",
     "text": [
      "The HPCL Visakh refinery, also known as the Vishakhapatnam refinery,\n",
      "               in Andhra Pradesh, India is undergoing an expansion cum modernisation project to increase its processing capacity from 8.33 million\n",
      "               tonnes per annum (Mtpa) to 15Mtpa.\n"
     ]
    }
   ],
   "source": [
    "with open(file_name,\"r\") as file:\n",
    "    file_data=file.read()\n",
    "    print(file_data)\n",
    "    file.close()"
   ]
  },
  {
   "cell_type": "code",
   "execution_count": 9,
   "id": "15334750",
   "metadata": {},
   "outputs": [
    {
     "name": "stdout",
     "output_type": "stream",
     "text": [
      "The HPCL Visakh refinery, also known as the Vishakhapatnam refinery,\n",
      "\n"
     ]
    }
   ],
   "source": [
    "with open(file_name,\"r\") as file:\n",
    "    file_data=file.readline()\n",
    "    print(file_data)\n",
    "    file.close()"
   ]
  },
  {
   "cell_type": "code",
   "execution_count": 10,
   "id": "63e8e7bd",
   "metadata": {},
   "outputs": [
    {
     "name": "stdout",
     "output_type": "stream",
     "text": [
      "['The HPCL Visakh refinery, also known as the Vishakhapatnam refinery,\\n', '               in Andhra Pradesh, India is undergoing an expansion cum modernisation project to increase its processing capacity from 8.33 million\\n', '               tonnes per annum (Mtpa) to 15Mtpa.']\n"
     ]
    }
   ],
   "source": [
    "with open(file_name,\"r\") as file:\n",
    "    file_data=file.readlines()\n",
    "    print(file_data)\n",
    "    file.close()"
   ]
  },
  {
   "cell_type": "markdown",
   "id": "fa831ab2",
   "metadata": {},
   "source": [
    "# Tell"
   ]
  },
  {
   "cell_type": "code",
   "execution_count": 16,
   "id": "60d5178b",
   "metadata": {},
   "outputs": [
    {
     "name": "stdout",
     "output_type": "stream",
     "text": [
      "0\n",
      "The HPCL Visakh refinery, also known as the Vishakhapatnam refinery,\n",
      "               in Andhra Pradesh, India is undergoing an expansion cum modernisation project to increase its processing capacity from 8.33 million\n",
      "               tonnes per annum (Mtpa) to 15Mtpa.\n"
     ]
    }
   ],
   "source": [
    "with open(file_name,\"r\") as file:\n",
    "    print(file.tell())\n",
    "    data=file.read()\n",
    "    print(data)"
   ]
  },
  {
   "cell_type": "markdown",
   "id": "6429c0f8",
   "metadata": {},
   "source": [
    "# Seek"
   ]
  },
  {
   "cell_type": "code",
   "execution_count": 19,
   "id": "be30e104",
   "metadata": {},
   "outputs": [
    {
     "name": "stdout",
     "output_type": "stream",
     "text": [
      "25\n",
      " also known as the Vishakhapatnam refinery,\n",
      "               in Andhra Pradesh, India is undergoing an expansion cum modernisation project to increase its processing capacity from 8.33 million\n",
      "               tonnes per annum (Mtpa) to 15Mtpa.\n"
     ]
    }
   ],
   "source": [
    "with open(file_name,\"r\") as file:\n",
    "    file.seek(25)\n",
    "    print(file.tell())\n",
    "    data=file.read()\n",
    "    print(data)"
   ]
  },
  {
   "cell_type": "markdown",
   "id": "b1048cd7",
   "metadata": {},
   "source": [
    "# Append"
   ]
  },
  {
   "cell_type": "code",
   "execution_count": 21,
   "id": "f0a5824c",
   "metadata": {},
   "outputs": [],
   "source": [
    "with open(file_name,\"a\") as file:\n",
    "    file.write(\"......\")\n",
    "    file.close()"
   ]
  },
  {
   "cell_type": "code",
   "execution_count": 22,
   "id": "e447cb2c",
   "metadata": {},
   "outputs": [
    {
     "name": "stdout",
     "output_type": "stream",
     "text": [
      "The HPCL Visakh refinery, also known as the Vishakhapatnam refinery,\n",
      "               in Andhra Pradesh, India is undergoing an expansion cum modernisation project to increase its processing capacity from 8.33 million\n",
      "               tonnes per annum (Mtpa) to 15Mtpa.......\n"
     ]
    }
   ],
   "source": [
    "with open(file_name,\"r\") as file:\n",
    "    r=file.read()\n",
    "    print(r)\n",
    "    file.close()"
   ]
  },
  {
   "cell_type": "code",
   "execution_count": null,
   "id": "67c9eebf",
   "metadata": {},
   "outputs": [],
   "source": []
  }
 ],
 "metadata": {
  "kernelspec": {
   "display_name": "Python 3 (ipykernel)",
   "language": "python",
   "name": "python3"
  },
  "language_info": {
   "codemirror_mode": {
    "name": "ipython",
    "version": 3
   },
   "file_extension": ".py",
   "mimetype": "text/x-python",
   "name": "python",
   "nbconvert_exporter": "python",
   "pygments_lexer": "ipython3",
   "version": "3.11.3"
  }
 },
 "nbformat": 4,
 "nbformat_minor": 5
}
