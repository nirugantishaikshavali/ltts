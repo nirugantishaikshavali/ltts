{
 "cells": [
  {
   "cell_type": "raw",
   "id": "6dc5fe3a",
   "metadata": {},
   "source": [
    "What is Oops and when we use it?\n",
    "A.Oops Stands for Object-Oriented Programming ,it is based upon creating objects\n",
    "which can contains data in the form of fields(properties,variables)and code (methods)\n",
    "\n",
    "->This approach helps us to execue the \"DRY\" (don't repeat yourself) approach.\n",
    "->Helps in making reusable applications with less code and shorter development time.\n",
    "\n",
    "->Oops allows for organization of code into reusable modular structure ,maling it easier to manage and maintain software projects."
   ]
  },
  {
   "cell_type": "raw",
   "id": "e3e5e504",
   "metadata": {},
   "source": [
    "class:-It is a set of statement which contains data and methods\n",
    "Object:-Instance of Class\n",
    "Rules:-1.By using \"class\" keyword we declare Class and class name.\n",
    "    2.Here we can'nt directly access the variables and methods.\n",
    "    3.By using object we can access the variable and methods\n",
    "    4.inside the function must and should declare the \"self\" keyword (self key represents that particular variable or methods related to this class )"
   ]
  },
  {
   "cell_type": "markdown",
   "id": "c88027ca",
   "metadata": {},
   "source": [
    "# Class & Object"
   ]
  },
  {
   "cell_type": "code",
   "execution_count": 1,
   "id": "73c34596",
   "metadata": {},
   "outputs": [
    {
     "name": "stdout",
     "output_type": "stream",
     "text": [
      "Car Color-> black\n",
      "Car Price-> 450000\n",
      "outside access car color---> black\n"
     ]
    }
   ],
   "source": [
    "class car:\n",
    "    def __init__(self,car_color,price):\n",
    "        self.car_color=car_color\n",
    "        self.price=price\n",
    "        \n",
    "    def car_feature(self):\n",
    "        print(\"Car Color->\",self.car_color)\n",
    "        print(\"Car Price->\",self.price)\n",
    "        \n",
    "        \n",
    "        \n",
    "obj_car=car(\"black\",450000)\n",
    "obj_car.car_feature()   \n",
    "print(\"outside access car color--->\",obj_car.car_color)"
   ]
  },
  {
   "cell_type": "markdown",
   "id": "13271d2b",
   "metadata": {},
   "source": [
    "# Inheritence"
   ]
  },
  {
   "cell_type": "raw",
   "id": "84cba6c6",
   "metadata": {},
   "source": [
    "Inheritence:-Acquiring the properties of one class to another class.\n",
    "\n",
    "Single Inheritence:-It have only one parent class and child class.\n",
    "    \n",
    "Multi-Level Inheritence:-It have one parent class and one child class at the same time at one level.\n",
    "\n",
    "Multiple Inheritence:-A child can have more than one parent class.\n",
    "    \n",
    "hierarchy inheritance:-it have only One Parent class and multiple  Child class."
   ]
  },
  {
   "cell_type": "code",
   "execution_count": 2,
   "id": "f1b3dfe5",
   "metadata": {},
   "outputs": [
    {
     "name": "stdout",
     "output_type": "stream",
     "text": [
      "Motor Vehicle\n",
      "Updated Motor Vehicle \n"
     ]
    }
   ],
   "source": [
    "# Single Inheritence\n",
    "class parent:\n",
    "    def motor(self):\n",
    "        print(\"Motor Vehicle\")\n",
    "class child(parent):\n",
    "    def update_motor(self):\n",
    "        print(\"Updated Motor Vehicle \")\n",
    "obj1=child()\n",
    "obj1.motor()\n",
    "obj1.update_motor()"
   ]
  },
  {
   "cell_type": "code",
   "execution_count": 3,
   "id": "0e657355",
   "metadata": {},
   "outputs": [
    {
     "name": "stdout",
     "output_type": "stream",
     "text": [
      "Two Parties Only\n",
      "Five Parties Only\n",
      "Now 25 Parties are there\n"
     ]
    }
   ],
   "source": [
    "# Multi-Level Inheritence\n",
    "\n",
    "class Old_Generation:\n",
    "    def old_government(self):\n",
    "        print(\"Two Parties Only\")\n",
    "    \n",
    "class update_Generation(Old_Generation):\n",
    "    def update_government(self):\n",
    "        print(\"Five Parties Only\")\n",
    "        \n",
    "class recent_Generation(update_Generation):\n",
    "    def updated_government(self):\n",
    "        print(\"Now 25 Parties are there\")\n",
    "        \n",
    "obj1=recent_Generation()\n",
    "obj1.old_government()\n",
    "obj1.update_government()\n",
    "obj1.updated_government()\n"
   ]
  },
  {
   "cell_type": "code",
   "execution_count": 4,
   "id": "95a2f1cf",
   "metadata": {},
   "outputs": [
    {
     "name": "stdout",
     "output_type": "stream",
     "text": [
      "My propertie belongs to my  child\n",
      "My whole Life belongs to my  child\n",
      "My Parents Love is Infinity💗\n"
     ]
    }
   ],
   "source": [
    "#Multiple level Inheritence\n",
    "class Father:\n",
    "    def Property(self):\n",
    "        print(\"My propertie belongs to my  child\")\n",
    "    \n",
    "class Mother:\n",
    "    def Life(self):\n",
    "        print(\"My whole Life belongs to my  child\")\n",
    "        \n",
    "\n",
    "class Child(Father,Mother):\n",
    "    def Love(self):\n",
    "        print(\"My Parents Love is Infinity💗\")\n",
    "        \n",
    "obj1=Child()\n",
    "obj1.Property()\n",
    "obj1.Life()\n",
    "obj1.Love()\n",
    "    \n"
   ]
  },
  {
   "cell_type": "code",
   "execution_count": 5,
   "id": "f36bc9d0",
   "metadata": {},
   "outputs": [
    {
     "name": "stdout",
     "output_type": "stream",
     "text": [
      "PM is Most Powerful Seat\n",
      "MLA is Most Powerful Seat\n",
      "\n",
      "PM is Most Powerful Seat\n",
      "MP is Most Powerful Seat\n"
     ]
    }
   ],
   "source": [
    "# Hierarchy inheritance\n",
    "class MP:\n",
    "    def Government(self):\n",
    "        print(\"PM is Most Powerful Seat\")\n",
    "    \n",
    "class MLA(MP):\n",
    "    def MP_Power(self):\n",
    "        print(\"MP is Most Powerful Seat\")\n",
    "    \n",
    "    \n",
    "    \n",
    "class People(MP):\n",
    "    def MLA_Power(self):\n",
    "            print(\"MLA is Most Powerful Seat\")\n",
    "\n",
    "obj1=People()\n",
    "obj1.Government()\n",
    "obj1.MLA_Power()\n",
    "\n",
    "print()\n",
    "obj2=MLA()\n",
    "obj2.Government()\n",
    "obj2.MP_Power()"
   ]
  },
  {
   "cell_type": "markdown",
   "id": "68ba5e0f",
   "metadata": {},
   "source": [
    "# Polymorphism"
   ]
  },
  {
   "cell_type": "raw",
   "id": "7b966cd3",
   "metadata": {},
   "source": [
    "Polymorphism:-Implement same thing in different ways\n",
    "->Here we have two methods\n",
    "        -Compile Time Polymorphism:- By using Method Overloading we can achieve Compile Time\n",
    "        -Run Time Polymorphism:-By using Method Overriding we can achieve Run Time.\n",
    "\n",
    "Note:-\n",
    "->In python Method Overloading directly won't support ,by using default parameters(*args,**kwargs) it will support "
   ]
  },
  {
   "cell_type": "raw",
   "id": "eb9d3093",
   "metadata": {},
   "source": [
    "->Method Overloading:-\n",
    "    *Same Function Name but different no of arguments\n",
    "    *By using default argument method overloading support it\n",
    "->Method Overriding:-\n",
    "    * Same Function Name and Same Parameters\n",
    "    ex:-if parent class function won't satisfy then we overriding by using child class\n",
    "  "
   ]
  },
  {
   "cell_type": "code",
   "execution_count": 6,
   "id": "d2b34fd3",
   "metadata": {},
   "outputs": [
    {
     "name": "stdout",
     "output_type": "stream",
     "text": [
      "Total Price:-75\n"
     ]
    }
   ],
   "source": [
    "# Method Overloading\n",
    "class Sample:\n",
    "    \n",
    "    def total_price(self,a,b,c=20,d=50):\n",
    "        return f\"Total Price:-{a+b+c+d}\"\n",
    "    \n",
    "sobj=Sample()\n",
    "print(sobj.total_price(2,3))"
   ]
  },
  {
   "cell_type": "code",
   "execution_count": 7,
   "id": "1ebc8356",
   "metadata": {},
   "outputs": [
    {
     "name": "stdout",
     "output_type": "stream",
     "text": [
      "Bike\n"
     ]
    }
   ],
   "source": [
    "#Method Overriding\n",
    "class Parent:\n",
    "    def transport(self):\n",
    "        print(\"Cycle\")\n",
    "class Child(Parent):\n",
    "    def transport(self):\n",
    "        print(\"Bike\")\n",
    "        \n",
    "obj=Child()\n",
    "obj.transport()"
   ]
  },
  {
   "cell_type": "markdown",
   "id": "44c93a12",
   "metadata": {},
   "source": [
    "# Abstraction"
   ]
  },
  {
   "cell_type": "raw",
   "id": "3d68c645",
   "metadata": {},
   "source": [
    "->Hiding the complex implementation details and showing only the essential features of an object to the user\n",
    "If we need to implement Abstraction we should to \n",
    "->import abc module\n",
    "->inside abc module we have ABC class\n",
    "Abstract Class:-Atleast one abstract method is there, then only we called Abstract Class\n",
    "Abstract Method:-\n",
    "->Hide the information\n",
    "->Only function call with empty defination i mean no logic implemented there ,if we need to implement then we need to declare\n",
    "decorator->@abstract method then only it consider as abstract method.\n",
    "\n",
    "Disadvantage of abstract class is obj won't created \n",
    "->if we need to implement object in abstract class then we should convert abstract method into concrete class(No abstract method).\n",
    "->for only concrete class we can create objects so for abstract class won't created objects so we need to override \n",
    "the abstract method to concrete class.\n"
   ]
  },
  {
   "cell_type": "code",
   "execution_count": 8,
   "id": "89c16099",
   "metadata": {},
   "outputs": [
    {
     "name": "stdout",
     "output_type": "stream",
     "text": [
      "HousingInterest 8.5%\n",
      "VehicleInterest 8.2%\n"
     ]
    }
   ],
   "source": [
    "from abc import ABC,abstractmethod\n",
    "class AbstractDemo(ABC):   # Abstract class\n",
    "    @abstractmethod        #Abstract method\n",
    "    def HousingInterest(self):\n",
    "        None\n",
    "    \n",
    "    @abstractmethod\n",
    "    def VehicleInterest(self):\n",
    "        None\n",
    "        \n",
    "        \n",
    "class SBI(AbstractDemo):  #CONCRETE Class\n",
    "    def HousingInterest(self):\n",
    "        print(\"HousingInterest 8.5%\")\n",
    "    def VehicleInterest(self):\n",
    "        print(\"VehicleInterest 8.2%\")\n",
    "\n",
    "sbiobj=SBI()\n",
    "sbiobj.HousingInterest()\n",
    "sbiobj.VehicleInterest()\n",
    "\n",
    "\n",
    "#see here whatever methods we have in abstract class those entire methods also implemented if one method took \n",
    "# another method left then it is not a abstract class\n",
    "\n",
    "# ex:-\n",
    "# from abc import ABC,abstractmethod\n",
    "# class AbstractDemo(ABC):   # Abstract class\n",
    "#     @abstractmethod        #Abstract method\n",
    "#     def HousingInterest(self):\n",
    "#         None\n",
    "#     @abstractmethod\n",
    "#     def VehicleInterest(self):\n",
    "#         None\n",
    "        \n",
    "# class SBI(AbstractDemo):  #Abstract Class\n",
    "    \n",
    "#     def VehicleInterest(self):\n",
    "#         print(\"VehicleInterest 8.2%\")\n",
    "\n",
    "# sbiobj=SBI()\n",
    "# sbiobj.HousingInterest()\n",
    "# sbiobj.VehicleInterest()\n",
    "\n",
    "\n",
    "# see TypeError\n",
    "# TypeError                                 Traceback (most recent call last)\n",
    "# Cell In[70], line 37\n",
    "#      34     def VehicleInterest(self):\n",
    "#      35         print(\"VehicleInterest 8.2%\")\n",
    "# ---> 37 sbiobj=SBI()\n",
    "#      38 sbiobj.HousingInterest()\n",
    "#      39 sbiobj.VehicleInterest()\n",
    "\n",
    "# TypeError: Can't instantiate abstract class SBI with abstract method HousingInterest\n",
    "        "
   ]
  },
  {
   "cell_type": "markdown",
   "id": "639ec664",
   "metadata": {},
   "source": [
    "# Encapsulation"
   ]
  },
  {
   "cell_type": "raw",
   "id": "8ac6fe69",
   "metadata": {},
   "source": [
    "Encapsulation:-Wrapping of data(variables) and methods into single entity.\n",
    "->Data Hiding (security)->\n",
    "Access Modifiers are public and protected, private access member.\n",
    "->Private variables indicate by Two Underscoes(__a) ->Access the data  within class access.\n",
    "->Protected vrible indicted by single Underscoes(_) ->Protected variables are accessible within the class they're defined and any subclasses, but not from outside the class hierarchy.\n",
    "\n",
    "Protected variables are intended to be accessible only within the class and its subclasses. \n",
    "->Public variables (a) -> Access the data within class and outside class access."
   ]
  },
  {
   "cell_type": "code",
   "execution_count": 9,
   "id": "f7059eb3",
   "metadata": {},
   "outputs": [
    {
     "name": "stdout",
     "output_type": "stream",
     "text": [
      "Public Vaariaable-------> 20\n",
      "b within class outside can't access 30\n",
      "Protected Variable------> 40\n"
     ]
    },
    {
     "ename": "AttributeError",
     "evalue": "'Demo' object has no attribute '__b'",
     "output_type": "error",
     "traceback": [
      "\u001b[1;31m---------------------------------------------------------------------------\u001b[0m",
      "\u001b[1;31mAttributeError\u001b[0m                            Traceback (most recent call last)",
      "Cell \u001b[1;32mIn[9], line 18\u001b[0m\n\u001b[0;32m     15\u001b[0m obj\u001b[38;5;241m.\u001b[39mdisplay()\n\u001b[0;32m     17\u001b[0m \u001b[38;5;28mprint\u001b[39m(\u001b[38;5;124m\"\u001b[39m\u001b[38;5;124mProtected Variable------>\u001b[39m\u001b[38;5;124m\"\u001b[39m,obj\u001b[38;5;241m.\u001b[39m_c)\n\u001b[1;32m---> 18\u001b[0m \u001b[38;5;28mprint\u001b[39m(\u001b[38;5;124m\"\u001b[39m\u001b[38;5;124mPrivate Variable------>\u001b[39m\u001b[38;5;124m\"\u001b[39m,obj\u001b[38;5;241m.\u001b[39m__b)\n\u001b[0;32m     20\u001b[0m \u001b[38;5;66;03m#if you want to access private method outside of the function then you should declare \u001b[39;00m\n\u001b[0;32m     21\u001b[0m \u001b[38;5;66;03m# that private method inside the public method then only we can access the private method outside the class\u001b[39;00m\n\u001b[0;32m     22\u001b[0m obj\u001b[38;5;241m.\u001b[39mdisplay3()\n",
      "\u001b[1;31mAttributeError\u001b[0m: 'Demo' object has no attribute '__b'"
     ]
    }
   ],
   "source": [
    "class Demo:\n",
    "    a=20#public method\n",
    "    __b=30#private variable\n",
    "    _c=40#protect variable\n",
    "    def display(self):\n",
    "        print(\"b within class outside can't access\",self.__b)\n",
    "    def __display2(self):#private method\n",
    "        print(\"display2 method within class outside can't access\")\n",
    "    def display3(self):\n",
    "        self.__display2()\n",
    "    \n",
    "obj=Demo()\n",
    "print(\"Public Vaariaable------->\",obj.a)\n",
    "\n",
    "obj.display()\n",
    "\n",
    "print(\"Protected Variable------>\",obj._c)\n",
    "print(\"Private Variable------>\",obj.__b)\n",
    "\n",
    "#if you want to access private method outside of the function then you should declare \n",
    "# that private method inside the public method then only we can access the private method outside the class\n",
    "obj.display3()\n",
    "\n"
   ]
  },
  {
   "cell_type": "markdown",
   "id": "ac9108f3",
   "metadata": {},
   "source": [
    "# Instance Methods \n"
   ]
  },
  {
   "cell_type": "raw",
   "id": "2fb363c7",
   "metadata": {},
   "source": [
    "In Instance Methods have two methods.\n",
    "1.setter Method:-set values of instance variables.\n",
    "2.getter Method:-get values of instance variables."
   ]
  },
  {
   "cell_type": "code",
   "execution_count": 120,
   "id": "e7343eb5",
   "metadata": {},
   "outputs": [],
   "source": [
    "# Normal Example:-\n",
    "# Protected Variables: By using a protected variable (_age), you signal to other developers that this variable is intended \n",
    "# to be accessed only within the class and its subclasses. This helps maintain encapsulation, \n",
    "# which is the principle of hiding the internal state of an object and only exposing what is necessary.\n",
    "\n",
    "\n",
    "# Public Variables: If you use a public variable (age), it can be accessed and modified directly from outside the class,\n",
    "# which can lead to unintended side effects and make the class harder to maintain.\n",
    "\n",
    "class Human:\n",
    "    def __init__(self,first,last,age):\n",
    "        self.first=first\n",
    "        self.last=last\n",
    "        \n",
    "        #instance attribute\n",
    "        if age>=0:\n",
    "            self._age=age\n",
    "        else:\n",
    "            self._age=0\n",
    "    \n",
    "    def getAge(self):\n",
    "        return self._age\n",
    "    \n",
    "    def setAge(self,newage):\n",
    "        \n",
    "        if newage>=0:\n",
    "            self._age=newage\n",
    "        else:\n",
    "            self._age=0\n",
    "            "
   ]
  },
  {
   "cell_type": "code",
   "execution_count": 121,
   "id": "9208c893",
   "metadata": {},
   "outputs": [
    {
     "data": {
      "text/plain": [
       "20"
      ]
     },
     "execution_count": 121,
     "metadata": {},
     "output_type": "execute_result"
    }
   ],
   "source": [
    "a=Human(\"rohit\",\"kumar\",20)\n",
    "a.getAge()"
   ]
  },
  {
   "cell_type": "code",
   "execution_count": 122,
   "id": "eb64304d",
   "metadata": {},
   "outputs": [
    {
     "data": {
      "text/plain": [
       "50"
      ]
     },
     "execution_count": 122,
     "metadata": {},
     "output_type": "execute_result"
    }
   ],
   "source": [
    "a.setAge(50)\n",
    "a.getAge()"
   ]
  },
  {
   "cell_type": "markdown",
   "id": "3614ae9b",
   "metadata": {},
   "source": [
    "# Advance level by using property for getter and setter"
   ]
  },
  {
   "cell_type": "code",
   "execution_count": 144,
   "id": "c76a83cf",
   "metadata": {},
   "outputs": [
    {
     "name": "stdout",
     "output_type": "stream",
     "text": [
      "20\n",
      "75\n"
     ]
    }
   ],
   "source": [
    "class Human:\n",
    "    def __init__(self, first, last, age):\n",
    "        self.first = first\n",
    "        self.last = last\n",
    "\n",
    "        # Instance attribute with validation\n",
    "        if age >= 0:\n",
    "            self._age = age\n",
    "        else:\n",
    "            self._age = 0\n",
    "\n",
    "    @property\n",
    "    def age(self):\n",
    "        return self._age\n",
    "\n",
    "    @age.setter\n",
    "    def age(self, newAge):\n",
    "        if newAge >= 0:\n",
    "            self._age = newAge\n",
    "        else:\n",
    "            raise ValueError(\"Age cannot be negative\")\n",
    "\n",
    "# Creating an instance of Human\n",
    "a = Human(\"rohit\", \"kumar\", 20)\n",
    "\n",
    "# Accessing the age property\n",
    "print(a.age)  # Output: 20\n",
    "\n",
    "# Setting the age property\n",
    "a.age = 75\n",
    "print(a.age)  # Output: 75\n"
   ]
  },
  {
   "cell_type": "code",
   "execution_count": 142,
   "id": "b4cfe374",
   "metadata": {},
   "outputs": [
    {
     "name": "stdout",
     "output_type": "stream",
     "text": [
      "20\n"
     ]
    }
   ],
   "source": []
  },
  {
   "cell_type": "code",
   "execution_count": 143,
   "id": "4718021e",
   "metadata": {},
   "outputs": [
    {
     "ename": "NameError",
     "evalue": "name 'newage' is not defined",
     "output_type": "error",
     "traceback": [
      "\u001b[1;31m---------------------------------------------------------------------------\u001b[0m",
      "\u001b[1;31mNameError\u001b[0m                                 Traceback (most recent call last)",
      "Cell \u001b[1;32mIn[143], line 3\u001b[0m\n\u001b[0;32m      1\u001b[0m \u001b[38;5;66;03m# Here we directly assign 75 for age function it will automtically assign for             self._age=age\u001b[39;00m\n\u001b[1;32m----> 3\u001b[0m a\u001b[38;5;241m.\u001b[39mage\u001b[38;5;241m=\u001b[39m\u001b[38;5;241m75\u001b[39m\n",
      "Cell \u001b[1;32mIn[141], line 18\u001b[0m, in \u001b[0;36mHuman.age\u001b[1;34m(self, newAge)\u001b[0m\n\u001b[0;32m     16\u001b[0m \u001b[38;5;129m@age\u001b[39m\u001b[38;5;241m.\u001b[39msetter\n\u001b[0;32m     17\u001b[0m \u001b[38;5;28;01mdef\u001b[39;00m \u001b[38;5;21mage\u001b[39m(\u001b[38;5;28mself\u001b[39m,newAge):\n\u001b[1;32m---> 18\u001b[0m     \u001b[38;5;28;01mif\u001b[39;00m newage\u001b[38;5;241m>\u001b[39m\u001b[38;5;241m=\u001b[39m\u001b[38;5;241m0\u001b[39m:\n\u001b[0;32m     19\u001b[0m         \u001b[38;5;28mself\u001b[39m\u001b[38;5;241m.\u001b[39m_age\u001b[38;5;241m=\u001b[39mnewage\n\u001b[0;32m     20\u001b[0m     \u001b[38;5;28;01melse\u001b[39;00m:\n",
      "\u001b[1;31mNameError\u001b[0m: name 'newage' is not defined"
     ]
    }
   ],
   "source": []
  },
  {
   "cell_type": "markdown",
   "id": "28d8950e",
   "metadata": {},
   "source": [
    "# What is Self in Python?"
   ]
  },
  {
   "cell_type": "raw",
   "id": "0867c882",
   "metadata": {},
   "source": [
    "It is a special type of statement that is used to point the address of current object."
   ]
  },
  {
   "cell_type": "markdown",
   "id": "496db1ff",
   "metadata": {},
   "source": [
    "# The super() function is designed to be used within instance methods or class methods"
   ]
  },
  {
   "cell_type": "code",
   "execution_count": 9,
   "id": "8a09cad2",
   "metadata": {},
   "outputs": [
    {
     "name": "stdout",
     "output_type": "stream",
     "text": [
      "c\n",
      "A\n"
     ]
    }
   ],
   "source": [
    "# Here super method used inside the class method\n",
    "class A:\n",
    "    def method1(self):\n",
    "        print(\"A\")\n",
    "\n",
    "class B:\n",
    "    def method2(self):\n",
    "        print(\"B\")\n",
    "class C(A,B):\n",
    "    def method3(self):\n",
    "        print(\"c\")\n",
    "        super().method1()\n",
    "\n",
    "c=C()\n",
    "c.method3()"
   ]
  },
  {
   "cell_type": "code",
   "execution_count": 11,
   "id": "83188c72",
   "metadata": {},
   "outputs": [
    {
     "ename": "RuntimeError",
     "evalue": "super(): no arguments",
     "output_type": "error",
     "traceback": [
      "\u001b[1;31m---------------------------------------------------------------------------\u001b[0m",
      "\u001b[1;31mRuntimeError\u001b[0m                              Traceback (most recent call last)",
      "Cell \u001b[1;32mIn[11], line 10\u001b[0m\n\u001b[0;32m      8\u001b[0m     \u001b[38;5;28;01mdef\u001b[39;00m \u001b[38;5;21mmethod2\u001b[39m(\u001b[38;5;28mself\u001b[39m):\n\u001b[0;32m      9\u001b[0m         \u001b[38;5;28mprint\u001b[39m(\u001b[38;5;124m\"\u001b[39m\u001b[38;5;124mB\u001b[39m\u001b[38;5;124m\"\u001b[39m)\n\u001b[1;32m---> 10\u001b[0m \u001b[38;5;28;01mclass\u001b[39;00m \u001b[38;5;21;01mC\u001b[39;00m(A,B):\n\u001b[0;32m     11\u001b[0m         \u001b[38;5;28msuper\u001b[39m()\u001b[38;5;241m.\u001b[39mmethod1()\n\u001b[0;32m     12\u001b[0m c\u001b[38;5;241m=\u001b[39mC()\n",
      "Cell \u001b[1;32mIn[11], line 11\u001b[0m, in \u001b[0;36mC\u001b[1;34m()\u001b[0m\n\u001b[0;32m     10\u001b[0m \u001b[38;5;28;01mclass\u001b[39;00m \u001b[38;5;21;01mC\u001b[39;00m(A,B):\n\u001b[1;32m---> 11\u001b[0m         \u001b[38;5;28msuper\u001b[39m()\u001b[38;5;241m.\u001b[39mmethod1()\n",
      "\u001b[1;31mRuntimeError\u001b[0m: super(): no arguments"
     ]
    }
   ],
   "source": [
    "# Here super method does not used inside the instance method or class method\n",
    "\n",
    "class A:\n",
    "    def method1(self):\n",
    "        print(\"A\")\n",
    "\n",
    "class B:\n",
    "    def method2(self):\n",
    "        print(\"B\")\n",
    "class C(A,B):\n",
    "        super().method1()\n",
    "c=C()"
   ]
  },
  {
   "cell_type": "code",
   "execution_count": 13,
   "id": "72169700",
   "metadata": {},
   "outputs": [
    {
     "name": "stdout",
     "output_type": "stream",
     "text": [
      "A\n",
      "B\n"
     ]
    }
   ],
   "source": [
    "class A:\n",
    "    def method1(self):\n",
    "        print(\"A\")\n",
    "\n",
    "class B:\n",
    "    def method2(self):\n",
    "        print(\"B\")\n",
    "class C(A,B):\n",
    "    def __init__(self):\n",
    "        super().method1()\n",
    "        super().method2()\n",
    "\n",
    "c=C()"
   ]
  },
  {
   "cell_type": "code",
   "execution_count": 33,
   "id": "327919d4",
   "metadata": {},
   "outputs": [
    {
     "name": "stdout",
     "output_type": "stream",
     "text": [
      "class A\n",
      "class B\n",
      "class A\n",
      "class A\n"
     ]
    }
   ],
   "source": [
    "# The code you provided demonstrates the concepts of multiple inheritance and method resolution order (MRO) in Python\n",
    "# Method Resolution Order (MRO):\n",
    "# When a class inherits from multiple parent classes, Python uses the Method Resolution Order (MRO) to determine the order in which base classes are searched for a method. The MRO is a linearization of the class hierarchy.\n",
    "class A:\n",
    "    def new_method(self):\n",
    "\t    print('class A')\n",
    "class B:\n",
    "    def new_method(self):\n",
    "\t    print('class B')\n",
    "class C1(A,B):\n",
    "    def __init__(self):\n",
    "        pass\n",
    "        super().new_method()\n",
    "        B.new_method(self)\n",
    "        super().new_method()\n",
    "\n",
    "c= C1()\n",
    " \n",
    "c.new_method()"
   ]
  },
  {
   "cell_type": "code",
   "execution_count": 34,
   "id": "34c33df1",
   "metadata": {},
   "outputs": [
    {
     "name": "stdout",
     "output_type": "stream",
     "text": [
      "(<class '__main__.C'>, <class '__main__.A'>, <class '__main__.B'>, <class 'object'>)\n"
     ]
    }
   ],
   "source": [
    "# Method Resolution Order (MRO):\n",
    "#  It is particularly important in the context of multiple inheritance,where a class inherits from more than one parent class.\n",
    "print(C.__mro__)\n"
   ]
  },
  {
   "cell_type": "markdown",
   "id": "4def8346",
   "metadata": {},
   "source": [
    "# Static method  VS Class method"
   ]
  },
  {
   "cell_type": "raw",
   "id": "25c83f8a",
   "metadata": {},
   "source": [
    "Difference between static method vs class method\n",
    "1.It define using @staticmethod decorator         1. It define using @classmethod decorator\n",
    "2.It won't take any cls,self parameter in method        2.Takes 'cls' as the first parameter to refer to tge class\n",
    "3.Cannot access or modify instance data           3.Cannot access instance data but can modify class state\n",
    "4.Static method does not interact with any instance or class-specific data    4.class method interacts with the class level attribute class_attribute"
   ]
  },
  {
   "cell_type": "code",
   "execution_count": 42,
   "id": "6c579837",
   "metadata": {},
   "outputs": [
    {
     "name": "stdout",
     "output_type": "stream",
     "text": [
      "Class variable updated to: 5\n",
      "Class variable after class method call: 5\n",
      "Static method called with value: 15\n",
      "Instance variable: 10\n",
      "Instance variable: 20\n"
     ]
    }
   ],
   "source": [
    "\n",
    "class MyClass:\n",
    "    class_variable = 0  # Class-level attribute\n",
    "\n",
    "    def __init__(self, instance_variable):\n",
    "        self.instance_variable = instance_variable  # Instance-level attribute\n",
    "\n",
    "    @classmethod\n",
    "    def class_method(cls, value):\n",
    "        cls.class_variable = value\n",
    "        print(f\"Class variable updated to: {cls.class_variable}\")\n",
    "\n",
    "    @staticmethod\n",
    "    def static_method(value):\n",
    "        print(f\"Static method called with value: {value}\")\n",
    "\n",
    "    def instance_method(self):\n",
    "        print(f\"Instance variable: {self.instance_variable}\")\n",
    "\n",
    "# Creating instances of MyClass\n",
    "obj1 = MyClass(10)\n",
    "obj2 = MyClass(20)\n",
    "\n",
    "# Calling class method\n",
    "MyClass.class_method(5)  # Updates the class variable\n",
    "print(f\"Class variable after class method call: {MyClass.class_variable}\")\n",
    "\n",
    "# # Calling static method\n",
    "MyClass.static_method(15)  # Does not modify any class or instance attributes\n",
    "\n",
    "# # Calling instance method\n",
    "obj1.instance_method()  # Accesses instance-level attribute\n",
    "obj2.instance_method()  # Accesses instance-level attribute\n"
   ]
  },
  {
   "cell_type": "markdown",
   "id": "fd06c86f",
   "metadata": {},
   "source": [
    "# psuedocodes"
   ]
  },
  {
   "cell_type": "code",
   "execution_count": 53,
   "id": "45c78785",
   "metadata": {},
   "outputs": [
    {
     "name": "stdout",
     "output_type": "stream",
     "text": [
      "Total pizzas created: 3\n"
     ]
    }
   ],
   "source": [
    "class Pizza:\n",
    "    count = 0  # Class-level attribute to keep track of the number of pizzas\n",
    "\n",
    "    def __init__(self, ingredients):\n",
    "        self.ingredients = ingredients\n",
    "        Pizza.count += 1\n",
    "\n",
    "    @classmethod\n",
    "    def get_count(cls):\n",
    "        return cls.count\n",
    "\n",
    "    @classmethod\n",
    "    def create_margherita(cls):\n",
    "        return cls(['tomatoes', 'mozzarella', 'basil'])\n",
    "\n",
    "    @classmethod\n",
    "    def create_pepperoni(cls):\n",
    "        return cls(['tomatoes', 'mozzarella', 'pepperoni'])\n",
    "\n",
    "    @classmethod\n",
    "    def create_pepperonil(cls):\n",
    "        return cls(['tomatoes', 'mozzarella', 'pepperoni'])\n",
    "\n",
    "# Creating instances using class methods\n",
    "pizza1 = Pizza.create_margherita()\n",
    "pizza2 = Pizza.create_pepperoni()\n",
    "pizza3 = Pizza.create_pepperonil()\n",
    "\n",
    "\n",
    "# Getting the count of pizzas created\n",
    "print(f\"Total pizzas created: {Pizza.get_count()}\")\n"
   ]
  },
  {
   "cell_type": "code",
   "execution_count": 54,
   "id": "c47e13fd",
   "metadata": {},
   "outputs": [
    {
     "name": "stdout",
     "output_type": "stream",
     "text": [
      "Addition result: 8\n",
      "Subtraction result: 6\n"
     ]
    }
   ],
   "source": [
    "class MathUtils:\n",
    "    @staticmethod\n",
    "    def add(a, b):\n",
    "        return a + b\n",
    "\n",
    "    @staticmethod\n",
    "    def subtract(a, b):\n",
    "        return a - b\n",
    "\n",
    "# Using static methods\n",
    "result1 = MathUtils.add(5, 3)\n",
    "result2 = MathUtils.subtract(10, 4)\n",
    "\n",
    "print(f\"Addition result: {result1}\")\n",
    "print(f\"Subtraction result: {result2}\")\n"
   ]
  },
  {
   "cell_type": "code",
   "execution_count": 59,
   "id": "c8066e79",
   "metadata": {},
   "outputs": [
    {
     "name": "stdout",
     "output_type": "stream",
     "text": [
      "(10, 'shaik')\n",
      "(15, 'shaheena')\n"
     ]
    }
   ],
   "source": [
    "class Example:\n",
    "    def __init__(self,num,name):\n",
    "        self.num=num\n",
    "        self.name=name\n",
    "        \n",
    "    def set_num(self,num,name):\n",
    "        self.num=num\n",
    "        self.name=name\n",
    "        \n",
    "    def get_num(self):\n",
    "        return self.num,self.name\n",
    "    \n",
    "obj=Example(10,\"shaik\")\n",
    "print(obj.get_num())\n",
    "\n",
    "obj.set_num(15,\"shaheena\")\n",
    "print(obj.get_num())\n"
   ]
  },
  {
   "cell_type": "code",
   "execution_count": 63,
   "id": "23ace0a7",
   "metadata": {},
   "outputs": [
    {
     "name": "stdout",
     "output_type": "stream",
     "text": [
      "10\n",
      "10\n"
     ]
    }
   ],
   "source": [
    "class Example:\n",
    "    def __init__(self,num):\n",
    "        self.num=num\n",
    "        \n",
    "    def set_num(self,num):\n",
    "        num=num\n",
    "        \n",
    "    def get_num(self):\n",
    "        return self.num\n",
    "    \n",
    "obj=Example(10)\n",
    "print(obj.get_num())\n",
    "\n",
    "obj.set_num(15)\n",
    "print(obj.get_num())"
   ]
  },
  {
   "cell_type": "code",
   "execution_count": 73,
   "id": "5319cf0c",
   "metadata": {},
   "outputs": [
    {
     "name": "stdout",
     "output_type": "stream",
     "text": [
      "100\n"
     ]
    }
   ],
   "source": [
    "# class Customer:\n",
    "#     def __init__(self):\n",
    "#         cust_id=100\n",
    "# c1=Customer()\n",
    "# print(c1.cust_id)\n",
    "# AttributeError: 'Customer' object has no attribute 'cust_id'\n",
    "\n",
    "\n",
    "\n",
    "class Customer:\n",
    "    def __init__(self):\n",
    "        self.cust_id=100\n",
    "c1=Customer()\n",
    "print(c1.cust_id)"
   ]
  },
  {
   "cell_type": "code",
   "execution_count": 74,
   "id": "887a9ce0",
   "metadata": {},
   "outputs": [
    {
     "name": "stdout",
     "output_type": "stream",
     "text": [
      "100\n"
     ]
    }
   ],
   "source": [
    "class Customer:\n",
    "    def __init__(self):\n",
    "        self.id=100\n",
    "c1=Customer()\n",
    "print(c1.id)"
   ]
  },
  {
   "cell_type": "code",
   "execution_count": 77,
   "id": "daf3fddb",
   "metadata": {},
   "outputs": [
    {
     "ename": "AttributeError",
     "evalue": "'Customer' object has no attribute 'id'",
     "output_type": "error",
     "traceback": [
      "\u001b[1;31m---------------------------------------------------------------------------\u001b[0m",
      "\u001b[1;31mAttributeError\u001b[0m                            Traceback (most recent call last)",
      "Cell \u001b[1;32mIn[77], line 5\u001b[0m\n\u001b[0;32m      3\u001b[0m         \u001b[38;5;28mid\u001b[39m\u001b[38;5;241m=\u001b[39m\u001b[38;5;241m100\u001b[39m\n\u001b[0;32m      4\u001b[0m c1\u001b[38;5;241m=\u001b[39mCustomer(\u001b[38;5;241m200\u001b[39m)\n\u001b[1;32m----> 5\u001b[0m \u001b[38;5;28mprint\u001b[39m(c1\u001b[38;5;241m.\u001b[39mid)\n",
      "\u001b[1;31mAttributeError\u001b[0m: 'Customer' object has no attribute 'id'"
     ]
    }
   ],
   "source": [
    "class Customer:\n",
    "    def __init__(self,id):\n",
    "        id=100\n",
    "c1=Customer(200)\n",
    "print(c1.id)"
   ]
  },
  {
   "cell_type": "code",
   "execution_count": 80,
   "id": "42e022e1",
   "metadata": {},
   "outputs": [
    {
     "ename": "AttributeError",
     "evalue": "'Customer' object has no attribute 'id1'",
     "output_type": "error",
     "traceback": [
      "\u001b[1;31m---------------------------------------------------------------------------\u001b[0m",
      "\u001b[1;31mAttributeError\u001b[0m                            Traceback (most recent call last)",
      "Cell \u001b[1;32mIn[80], line 5\u001b[0m\n\u001b[0;32m      3\u001b[0m         \u001b[38;5;28mself\u001b[39m\u001b[38;5;241m.\u001b[39mid\u001b[38;5;241m=\u001b[39mid1\n\u001b[0;32m      4\u001b[0m c1\u001b[38;5;241m=\u001b[39mCustomer(\u001b[38;5;241m200\u001b[39m)\n\u001b[1;32m----> 5\u001b[0m \u001b[38;5;28mprint\u001b[39m(c1\u001b[38;5;241m.\u001b[39mid1)\n",
      "\u001b[1;31mAttributeError\u001b[0m: 'Customer' object has no attribute 'id1'"
     ]
    }
   ],
   "source": [
    "class Customer:\n",
    "    def __init__(self,id1):\n",
    "        self.id=id1\n",
    "c1=Customer(200)\n",
    "print(c1.id1)"
   ]
  },
  {
   "cell_type": "code",
   "execution_count": 83,
   "id": "291c6548",
   "metadata": {},
   "outputs": [
    {
     "name": "stdout",
     "output_type": "stream",
     "text": [
      "My faviour is Head third program\n",
      "your faviour is Head second program\n"
     ]
    }
   ],
   "source": [
    "class Book:\n",
    "    def __init__(self):\n",
    "        self.title=None\n",
    "        \n",
    "my=Book()\n",
    "my.title=\"Head first program\"\n",
    "your=Book()\n",
    "your.title=\"Head second program\"\n",
    "my.title=\"Head third program\"\n",
    "\n",
    "print(\"My faviour is\",my.title)\n",
    "print(\"your faviour is\",your.title)"
   ]
  },
  {
   "cell_type": "markdown",
   "id": "11cc96b8",
   "metadata": {},
   "source": [
    "# Encapsulation"
   ]
  },
  {
   "cell_type": "code",
   "execution_count": null,
   "id": "95dd2603",
   "metadata": {},
   "outputs": [],
   "source": []
  },
  {
   "cell_type": "code",
   "execution_count": 108,
   "id": "f099ed7c",
   "metadata": {},
   "outputs": [
    {
     "name": "stdout",
     "output_type": "stream",
     "text": [
      "Public Variable: Public Value\n",
      "Protected Variable: Protected Value\n",
      "Accessing public variable directly: Public Value\n",
      "Accessing protected variable directly: Protected Value\n",
      "\n",
      "Derived Variable: Derived Value2\n",
      "Public Variable from Base: Public Value1\n",
      "Protected Variable from Base: Protected Value2\n",
      "\n",
      "Accessing public variable directly from derived class: Public Value1\n",
      "Accessing protected variable directly from derived class: Protected Value2\n"
     ]
    }
   ],
   "source": [
    "class BaseClass:\n",
    "    def __init__(self, public_var, protected_var):\n",
    "        self.public_var = public_var  # Public variable\n",
    "        self._protected_var = protected_var  # Protected variable\n",
    "\n",
    "    def display(self):\n",
    "        print(f\"Public Variable: {self.public_var}\")\n",
    "        print(f\"Protected Variable: {self._protected_var}\")\n",
    "\n",
    "class DerivedClass(BaseClass):\n",
    "    def __init__(self, public_var, protected_var, derived_var):\n",
    "        super().__init__(public_var, protected_var)\n",
    "        self.derived_var = derived_var  # Public variable in derived class\n",
    "\n",
    "    def display_derived(self):\n",
    "        print(f\"Derived Variable: {self.derived_var}\")\n",
    "        print(f\"Public Variable from Base: {self.public_var}\")\n",
    "        print(f\"Protected Variable from Base: {self._protected_var}\")\n",
    "\n",
    "# Creating an instance of BaseClass\n",
    "base = BaseClass(\"Public Value\", \"Protected Value\")\n",
    "base.display()\n",
    "\n",
    "# # Accessing public variable directly\n",
    "print(f\"Accessing public variable directly: {base.public_var}\")\n",
    "\n",
    "# # Accessing protected variable directly (not recommended, but possible)\n",
    "print(f\"Accessing protected variable directly: {base._protected_var}\")\n",
    "\n",
    "# # Creating an instance of DerivedClass\n",
    "derived = DerivedClass(\"Public Value1\", \"Protected Value2\", \"Derived Value2\")\n",
    "print()\n",
    "derived.display_derived()\n",
    "\n",
    "print()\n",
    "# # Accessing public variable directly from derived class\n",
    "print(f\"Accessing public variable directly from derived class: {derived.public_var}\")\n",
    "\n",
    "# # Accessing protected variable directly from derived class (not recommended, but possible)\n",
    "print(f\"Accessing protected variable directly from derived class: {derived._protected_var}\")\n"
   ]
  },
  {
   "cell_type": "code",
   "execution_count": 109,
   "id": "8080b41d",
   "metadata": {},
   "outputs": [
    {
     "name": "stdout",
     "output_type": "stream",
     "text": [
      "Protected Variable: Protected Value\n",
      "Accessing protected variable directly (bad practice): Protected Value\n",
      "Derived Variable: Derived Value\n",
      "Protected Variable from Base: Protected Value\n",
      "Accessing protected variable directly from derived class (bad practice): Protected Value\n"
     ]
    }
   ],
   "source": [
    "# To demonstrate that protected variables should not be accessed outside the class and its subclasses,\n",
    "# we can show an example where accessing a protected variable directly from outside the class is considered bad practice\n",
    "\n",
    "class BaseClass:\n",
    "    def __init__(self, protected_var):\n",
    "        self._protected_var = protected_var  # Protected variable\n",
    "\n",
    "    def display(self):\n",
    "        print(f\"Protected Variable: {self._protected_var}\")\n",
    "\n",
    "class DerivedClass(BaseClass):\n",
    "    def __init__(self, protected_var, derived_var):\n",
    "        super().__init__(protected_var)\n",
    "        self.derived_var = derived_var  # Public variable in derived class\n",
    "\n",
    "    def display_derived(self):\n",
    "        print(f\"Derived Variable: {self.derived_var}\")\n",
    "        print(f\"Protected Variable from Base: {self._protected_var}\")\n",
    "\n",
    "# Creating an instance of BaseClass\n",
    "base = BaseClass(\"Protected Value\")\n",
    "base.display()\n",
    "\n",
    "# Accessing protected variable directly (not recommended, but possible)\n",
    "print(f\"Accessing protected variable directly (bad practice): {base._protected_var}\")\n",
    "\n",
    "# Creating an instance of DerivedClass\n",
    "derived = DerivedClass(\"Protected Value\", \"Derived Value\")\n",
    "derived.display_derived()\n",
    "\n",
    "# Accessing protected variable directly from derived class (not recommended, but possible)\n",
    "print(f\"Accessing protected variable directly from derived class (bad practice): {derived._protected_var}\")\n"
   ]
  },
  {
   "cell_type": "code",
   "execution_count": null,
   "id": "aa46ed56",
   "metadata": {},
   "outputs": [],
   "source": []
  }
 ],
 "metadata": {
  "kernelspec": {
   "display_name": "Python 3 (ipykernel)",
   "language": "python",
   "name": "python3"
  },
  "language_info": {
   "codemirror_mode": {
    "name": "ipython",
    "version": 3
   },
   "file_extension": ".py",
   "mimetype": "text/x-python",
   "name": "python",
   "nbconvert_exporter": "python",
   "pygments_lexer": "ipython3",
   "version": "3.11.3"
  }
 },
 "nbformat": 4,
 "nbformat_minor": 5
}
