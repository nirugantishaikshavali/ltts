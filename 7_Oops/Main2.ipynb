{
 "cells": [
  {
   "cell_type": "raw",
   "id": "a2ab82ae",
   "metadata": {},
   "source": [
    "1)How constructor behave in Inheritance.\n",
    "2)super() in Inheritance\n",
    "3)Method resolution order"
   ]
  },
  {
   "cell_type": "code",
   "execution_count": 4,
   "id": "db963f0a",
   "metadata": {},
   "outputs": [
    {
     "name": "stdout",
     "output_type": "stream",
     "text": [
      "You can access locker1\n",
      "You can access locker2\n",
      "You can access locker3\n",
      "You can access locker4\n"
     ]
    }
   ],
   "source": [
    "class GrandFather:\n",
    "    def Locker1(self):\n",
    "        print(\"You can access locker1\")\n",
    "    def Locker2(self):\n",
    "        print(\"You can access locker2\")\n",
    "class Father(GrandFather):\n",
    "    def Locker3(self):\n",
    "        print(\"You can access locker3\")\n",
    "    def Locker4(self):\n",
    "        print(\"You can access locker4\")\n",
    "raj=Father()\n",
    "raj.Locker1()\n",
    "raj.Locker2()\n",
    "raj.Locker3()\n",
    "raj.Locker4()"
   ]
  },
  {
   "cell_type": "code",
   "execution_count": 5,
   "id": "e26490de",
   "metadata": {},
   "outputs": [
    {
     "name": "stdout",
     "output_type": "stream",
     "text": [
      "Inside GrandFather's Room\n"
     ]
    }
   ],
   "source": [
    "class GrandFather:\n",
    "    def __init__(self):\n",
    "        print(\"Inside GrandFather's Room\")\n",
    "    def Locker1(self):\n",
    "        print(\"You can access locker1\")\n",
    "    def Locker2(self):\n",
    "        print(\"You can access locker2\")\n",
    "class Father(GrandFather):\n",
    "    def Locker3(self):\n",
    "        print(\"You can access locker3\")\n",
    "    def Locker4(self):\n",
    "        print(\"You can access locker4\")\n",
    "raj=Father()"
   ]
  },
  {
   "cell_type": "code",
   "execution_count": 6,
   "id": "a07a7484",
   "metadata": {},
   "outputs": [
    {
     "name": "stdout",
     "output_type": "stream",
     "text": [
      "Inside Father's Room\n"
     ]
    }
   ],
   "source": [
    "class GrandFather:\n",
    "    def __init__(self):\n",
    "        print(\"Inside GrandFather's Room\")\n",
    "    def Locker1(self):\n",
    "        print(\"You can access locker1\")\n",
    "    def Locker2(self):\n",
    "        print(\"You can access locker2\")\n",
    "class Father(GrandFather):\n",
    "    def __init__(self):\n",
    "        print(\"Inside Father's Room\")\n",
    "    def Locker3(self):\n",
    "        print(\"You can access locker3\")\n",
    "    def Locker4(self):\n",
    "        print(\"You can access locker4\")\n",
    "raj=Father()"
   ]
  },
  {
   "cell_type": "code",
   "execution_count": 8,
   "id": "c365cc2a",
   "metadata": {},
   "outputs": [
    {
     "name": "stdout",
     "output_type": "stream",
     "text": [
      "Inside Father's Room\n",
      "Inside GrandFather's Room\n"
     ]
    }
   ],
   "source": [
    "class GrandFather:\n",
    "    def __init__(self):\n",
    "        print(\"Inside GrandFather's Room\")\n",
    "    def Locker1(self):\n",
    "        print(\"You can access locker1\")\n",
    "    def Locker2(self):\n",
    "        print(\"You can access locker2\")\n",
    "class Father(GrandFather):\n",
    "    def __init__(self):\n",
    "        print(\"Inside Father's Room\")\n",
    "        super().__init__()\n",
    "    def Locker3(self):\n",
    "        print(\"You can access locker3\")\n",
    "    def Locker4(self):\n",
    "        print(\"You can access locker4\")\n",
    "raj=Father()"
   ]
  },
  {
   "cell_type": "markdown",
   "id": "b1b101fa",
   "metadata": {},
   "source": [
    "# Method resolution order"
   ]
  },
  {
   "cell_type": "code",
   "execution_count": 10,
   "id": "b877bc28",
   "metadata": {},
   "outputs": [
    {
     "name": "stdout",
     "output_type": "stream",
     "text": [
      "Inside GrandFather's Room\n"
     ]
    }
   ],
   "source": [
    "# Method resoltion order it is manily used in multiple inheritance it will focued on base class (left to right)\n",
    "class GrandFather:\n",
    "    def __init__(self):\n",
    "        print(\"Inside GrandFather's Room\")\n",
    "    def Locker1(self):\n",
    "        print(\"You can access locker1\")\n",
    "    def Locker2(self):\n",
    "        print(\"You can access locker2\")\n",
    "class Father:\n",
    "    def __init__(self):\n",
    "        print(\"Inside Father's Room\")\n",
    "    def Locker3(self):\n",
    "        print(\"You can access locker3\")\n",
    "    def Locker4(self):\n",
    "        print(\"You can access locker4\")\n",
    "        \n",
    "class Child(GrandFather,Father):#left to right so it fetching GrandFather init method\n",
    "    def Locker5(self):\n",
    "        print(\"You can access locker5\")\n",
    "rahul=Child()   \n"
   ]
  },
  {
   "cell_type": "code",
   "execution_count": 12,
   "id": "ebbf0a25",
   "metadata": {},
   "outputs": [
    {
     "name": "stdout",
     "output_type": "stream",
     "text": [
      "Inside Father's Room\n"
     ]
    }
   ],
   "source": [
    "class GrandFather:\n",
    "    def __init__(self):\n",
    "        print(\"Inside GrandFather's Room\")\n",
    "    def Locker1(self):\n",
    "        print(\"You can access locker1\")\n",
    "    def Locker2(self):\n",
    "        print(\"You can access locker2\")\n",
    "class Father:\n",
    "    def __init__(self):\n",
    "        print(\"Inside Father's Room\")\n",
    "    def Locker3(self):\n",
    "        print(\"You can access locker3\")\n",
    "    def Locker4(self):\n",
    "        print(\"You can access locker4\")\n",
    "        \n",
    "class Child(Father,GrandFather):#left to right so it fetching Father init method\n",
    "    def Locker5(self):\n",
    "        print(\"You can access locker5\")\n",
    "rahul=Child()   "
   ]
  },
  {
   "cell_type": "markdown",
   "id": "25a86649",
   "metadata": {},
   "source": [
    "# Super()"
   ]
  },
  {
   "cell_type": "code",
   "execution_count": 14,
   "id": "ad5ccc85",
   "metadata": {},
   "outputs": [
    {
     "name": "stdout",
     "output_type": "stream",
     "text": [
      "Inside Father's Room\n",
      "Inside GrandFather's Room\n"
     ]
    }
   ],
   "source": [
    "class GrandFather:\n",
    "    def __init__(self):\n",
    "        print(\"Inside GrandFather's Room\")\n",
    "    def Locker1(self):\n",
    "        print(\"You can access locker1\")\n",
    "    def Locker2(self):\n",
    "        print(\"You can access locker2\")\n",
    "class Father:\n",
    "    def __init__(self):\n",
    "        print(\"Inside Father's Room\")\n",
    "        super().__init__()\n",
    "    def Locker3(self):\n",
    "        print(\"You can access locker3\")\n",
    "    def Locker4(self):\n",
    "        print(\"You can access locker4\")\n",
    "        \n",
    "class Child(Father,GrandFather):#left to right so it fetching GrandFather init method\n",
    "    def Locker5(self):\n",
    "        print(\"You can access locker5\")\n",
    "rahul=Child()   "
   ]
  },
  {
   "cell_type": "code",
   "execution_count": 16,
   "id": "04388dc1",
   "metadata": {},
   "outputs": [
    {
     "name": "stdout",
     "output_type": "stream",
     "text": [
      "class B\n"
     ]
    }
   ],
   "source": [
    "class A:\n",
    "    def new_method(self):\n",
    "\t    print('class A')\n",
    "class B:\n",
    "    def new_method(self):\n",
    "\t    print('class B')\n",
    "class C(A,B):\n",
    "\tpass\n",
    "c= C()\n",
    " \n",
    "c.new_method()"
   ]
  },
  {
   "cell_type": "code",
   "execution_count": 17,
   "id": "d1fde04d",
   "metadata": {},
   "outputs": [
    {
     "name": "stdout",
     "output_type": "stream",
     "text": [
      "class A\n",
      "class B\n"
     ]
    }
   ],
   "source": [
    "class A:\n",
    "\tprint('class A')\n",
    " \n",
    "class B:\n",
    "\tprint('class B')\n",
    "class C(A,B):\n",
    "\tpass\n",
    "c= C()"
   ]
  },
  {
   "cell_type": "markdown",
   "id": "fc8a8f2b",
   "metadata": {},
   "source": [
    "# MultiThreading"
   ]
  },
  {
   "cell_type": "raw",
   "id": "85f97d0c",
   "metadata": {},
   "source": [
    "MultiThreading -it acheive the mutitasking(at a time work on multiple tasks)\n",
    "Multithreading have two ways we can acheive:\n",
    "    1)Synchronous:You wait for it to finish before moving on to another task.\n",
    "            Ex:-Suppose in python it will work line by line right,if one is get error then next line won't executed\n",
    "    2)ASynchronous:You can move on to another task before it finishes\n",
    "        Ex:-In phone at a time we open multiple tabs and we listen listens and open insta so here with out waiting other task they doing their task parallely\n",
    "            "
   ]
  },
  {
   "cell_type": "code",
   "execution_count": 19,
   "id": "c69dc7a9",
   "metadata": {},
   "outputs": [
    {
     "name": "stdout",
     "output_type": "stream",
     "text": [
      "rahul\n",
      "rahul\n",
      "rahul\n",
      "rahul\n",
      "rahul\n",
      "rohit\n",
      "rohit\n",
      "rohit\n",
      "rohit\n",
      "rohit\n"
     ]
    }
   ],
   "source": [
    "class rahul:\n",
    "    def run(self):\n",
    "        for i in range(5):\n",
    "            print(\"rahul\")\n",
    "class rohit:\n",
    "    def run(self):\n",
    "        for i in range(5):\n",
    "            print(\"rohit\")\n",
    "r1=rahul()\n",
    "r2=rohit()\n",
    "r1.run()\n",
    "r2.run()"
   ]
  },
  {
   "cell_type": "raw",
   "id": "6b250d5e",
   "metadata": {},
   "source": [
    "When creating a thread in Python using the Thread class from the threading module,\n",
    "you typically need to override the run method. The run method contains the code that will be executed when the thread is started. \n",
    "Here's a breakdown of the key concepts and steps involved in your code:"
   ]
  },
  {
   "cell_type": "code",
   "execution_count": 26,
   "id": "e78b76f3",
   "metadata": {},
   "outputs": [
    {
     "name": "stdout",
     "output_type": "stream",
     "text": [
      "rahul\n",
      "\n",
      "rohit\n",
      "\n",
      "rohit\n",
      "\n",
      "rohit\n",
      "\n",
      "rohit\n",
      "\n",
      "rohit\n",
      "\n",
      "rahul\n",
      "\n",
      "rahul\n",
      "\n",
      "rahul\n",
      "\n",
      "rahul\n",
      "\n",
      "END\n"
     ]
    }
   ],
   "source": [
    "from threading import Thread\n",
    "from time import sleep\n",
    "class rahul(Thread):\n",
    "    def run(self):\n",
    "        for i in range(5):\n",
    "            print(\"rahul\\n\")\n",
    "            sleep(1)\n",
    "class rohit(Thread):\n",
    "    def run(self):\n",
    "        for i in range(5):\n",
    "            print(\"rohit\\n\")\n",
    "\n",
    "r1=rahul()\n",
    "r2=rohit()\n",
    "r1.start()\n",
    "r2.start()\n",
    "\n",
    "r1.join()\n",
    "r2.join()\n",
    "print(\"END\")"
   ]
  },
  {
   "cell_type": "code",
   "execution_count": 27,
   "id": "cca49785",
   "metadata": {},
   "outputs": [
    {
     "name": "stdout",
     "output_type": "stream",
     "text": [
      "END\n"
     ]
    }
   ],
   "source": []
  },
  {
   "cell_type": "code",
   "execution_count": null,
   "id": "8960f462",
   "metadata": {},
   "outputs": [],
   "source": []
  }
 ],
 "metadata": {
  "kernelspec": {
   "display_name": "Python 3 (ipykernel)",
   "language": "python",
   "name": "python3"
  },
  "language_info": {
   "codemirror_mode": {
    "name": "ipython",
    "version": 3
   },
   "file_extension": ".py",
   "mimetype": "text/x-python",
   "name": "python",
   "nbconvert_exporter": "python",
   "pygments_lexer": "ipython3",
   "version": "3.11.3"
  }
 },
 "nbformat": 4,
 "nbformat_minor": 5
}
