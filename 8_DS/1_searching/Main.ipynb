{
 "cells": [
  {
   "cell_type": "markdown",
   "id": "6e904526",
   "metadata": {},
   "source": [
    "# Linear Search"
   ]
  },
  {
   "cell_type": "code",
   "execution_count": 3,
   "id": "c3221cbd",
   "metadata": {},
   "outputs": [
    {
     "name": "stdout",
     "output_type": "stream",
     "text": [
      "Element found at  2\n"
     ]
    }
   ],
   "source": [
    "def linear_search(elements,search_key):\n",
    "    n=len(elements)\n",
    "    element=False\n",
    "    for i in range(n):\n",
    "        if elements[i]==search_key:\n",
    "            element=True\n",
    "            break\n",
    "    if element:\n",
    "        print(\"Element found at \",i)\n",
    "    else:\n",
    "        print(\"Element are not founded\")\n",
    "            \n",
    "elements=[10, 50, 30, 70, 80, 60, 20, 90, 40]\n",
    "search_key=30\n",
    "linear_search(elements,search_key)"
   ]
  },
  {
   "cell_type": "markdown",
   "id": "d89b5e44",
   "metadata": {},
   "source": [
    "# Binary Search"
   ]
  },
  {
   "cell_type": "code",
   "execution_count": 13,
   "id": "d9566086",
   "metadata": {},
   "outputs": [
    {
     "name": "stdout",
     "output_type": "stream",
     "text": [
      "[10, 20, 30, 40, 50, 60, 70, 80, 90]\n",
      "Element Found at pos 2\n"
     ]
    }
   ],
   "source": [
    "def binary_search(elements,search_key):\n",
    "    left=0\n",
    "    right=len(elements)-1\n",
    "    \n",
    "    while left<=right:\n",
    "        mid=(left+right)//2\n",
    "        if search_key>elements[mid]:\n",
    "            left=left+1\n",
    "        elif search_key<elements[mid]:\n",
    "            right=right-1\n",
    "        elif search_key==elements[mid]:\n",
    "            print(\"Element Found at pos\",mid)\n",
    "            right=right-1\n",
    "            left=left+1\n",
    "            break\n",
    "    else:\n",
    "        print(\"Element not founded\")\n",
    "        \n",
    "            \n",
    "    \n",
    "elements=[10, 50, 30, 70, 80, 60, 20, 90, 40]\n",
    "elements.sort()\n",
    "print(elements)\n",
    "search_key=30\n",
    "binary_search(elements,search_key)"
   ]
  },
  {
   "cell_type": "markdown",
   "id": "d81b529d",
   "metadata": {},
   "source": [
    "# Difference between Linear Search vs Binary Search"
   ]
  },
  {
   "cell_type": "raw",
   "id": "e09e95c8",
   "metadata": {},
   "source": [
    "Linear Search                                      Binary Search\n",
    "Elements are in random order                      Elements are in sorted order\n",
    "Access is slow                                    Access is fast\n",
    "single and multidimentional array is sorted used  only single dimentional array is sorted used\n",
    "time complexity-O(n)                              time complexity-O(log2N)"
   ]
  },
  {
   "cell_type": "code",
   "execution_count": 7,
   "id": "ce9b2040",
   "metadata": {},
   "outputs": [
    {
     "name": "stdout",
     "output_type": "stream",
     "text": [
      "[10, 20, 30, 40, 50, 60, 70, 80, 90]\n",
      "Element is not\n"
     ]
    }
   ],
   "source": [
    "#linear serch\n",
    "def binary_search(elements,search_key):\n",
    "    l=0\n",
    "    r=len(elements)-1\n",
    "    \n",
    "    while l<=r:\n",
    "        mid=(l+r)//2\n",
    "        \n",
    "        if elements[mid]>search_key:\n",
    "            r=mid-1\n",
    "        elif elements[mid]<search_key:\n",
    "            l=mid+1\n",
    "        else:\n",
    "            print(\"Element is founded\",mid+1)\n",
    "            break\n",
    "    else:\n",
    "        print(\"Element is not founded\")\n",
    "elements.sort()\n",
    "print(elements)\n",
    "search_key=300\n",
    "binary_search(elements,search_key)\n"
   ]
  },
  {
   "cell_type": "code",
   "execution_count": null,
   "id": "b631a36b",
   "metadata": {},
   "outputs": [],
   "source": []
  }
 ],
 "metadata": {
  "kernelspec": {
   "display_name": "Python 3 (ipykernel)",
   "language": "python",
   "name": "python3"
  },
  "language_info": {
   "codemirror_mode": {
    "name": "ipython",
    "version": 3
   },
   "file_extension": ".py",
   "mimetype": "text/x-python",
   "name": "python",
   "nbconvert_exporter": "python",
   "pygments_lexer": "ipython3",
   "version": "3.11.3"
  }
 },
 "nbformat": 4,
 "nbformat_minor": 5
}
