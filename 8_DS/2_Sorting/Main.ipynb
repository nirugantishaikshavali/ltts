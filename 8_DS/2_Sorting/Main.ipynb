{
 "cells": [
  {
   "cell_type": "markdown",
   "id": "70b50f5b",
   "metadata": {},
   "source": [
    "# Bubble Sort"
   ]
  },
  {
   "cell_type": "code",
   "execution_count": 1,
   "id": "fed12b8f",
   "metadata": {},
   "outputs": [
    {
     "name": "stdout",
     "output_type": "stream",
     "text": [
      "[-9, -2, 0, 11, 45]\n"
     ]
    }
   ],
   "source": [
    "def bubble_sort(ele):\n",
    "    n=len(ele)\n",
    "    for i in range(n):\n",
    "        for j in range(n-i-1):\n",
    "            if ele[j]>ele[j+1]:\n",
    "                ele[j],ele[j+1]=ele[j+1],ele[j]\n",
    "    return ele\n",
    "\n",
    "\n",
    "\n",
    "ele=[-2, 45, 0, 11, -9]\n",
    "print(bubble_sort(ele))"
   ]
  },
  {
   "cell_type": "markdown",
   "id": "5abaf7b7",
   "metadata": {},
   "source": [
    "# Selection Sort"
   ]
  },
  {
   "cell_type": "code",
   "execution_count": 3,
   "id": "2d54e56b",
   "metadata": {},
   "outputs": [
    {
     "data": {
      "text/plain": [
       "[-9, -2, 0, 11, 45]"
      ]
     },
     "execution_count": 3,
     "metadata": {},
     "output_type": "execute_result"
    }
   ],
   "source": [
    "def selection_sort(ele):\n",
    "    n=len(ele)\n",
    "    for i in range(n):\n",
    "        min_index=i\n",
    "        for j in range(i+1,n):\n",
    "            if ele[min_index]>ele[j]:\n",
    "                min_index=j\n",
    "        \n",
    "        ele[min_index],ele[i]=ele[i],ele[min_index]\n",
    "    return ele\n",
    " \n",
    "    \n",
    "ele=[-2, 45, 0, 11, -9]\n",
    "selection_sort(ele)"
   ]
  },
  {
   "cell_type": "markdown",
   "id": "ba91c373",
   "metadata": {},
   "source": [
    "# Insertion Sort"
   ]
  },
  {
   "cell_type": "code",
   "execution_count": 6,
   "id": "9cbd54a3",
   "metadata": {},
   "outputs": [
    {
     "data": {
      "text/plain": [
       "[-9, -2, 0, 11, 45]"
      ]
     },
     "execution_count": 6,
     "metadata": {},
     "output_type": "execute_result"
    }
   ],
   "source": [
    "def Insertion_sort(ele):\n",
    "    n=len(ele)\n",
    "    for i in range(1,n):\n",
    "        current_ele=ele[i]\n",
    "        index=i\n",
    "        \n",
    "        while index>0 and current_ele<ele[index-1]:\n",
    "            ele[index]=ele[index-1]\n",
    "            index=index-1\n",
    "            \n",
    "        ele[index]=current_ele\n",
    "    return ele\n",
    "\n",
    "ele=[-2, 45, 0, 11, -9]\n",
    "Insertion_sort(ele)"
   ]
  },
  {
   "cell_type": "markdown",
   "id": "c003481d",
   "metadata": {},
   "source": [
    "# Merge Sort"
   ]
  },
  {
   "cell_type": "code",
   "execution_count": 14,
   "id": "e5c45fea",
   "metadata": {},
   "outputs": [
    {
     "name": "stdout",
     "output_type": "stream",
     "text": [
      "[-9, -2, 0, 11, 45]\n"
     ]
    }
   ],
   "source": [
    "def merge_sort(ele):\n",
    "    if len(ele)>1:\n",
    "        l=0\n",
    "        r=len(ele)\n",
    "        mid=(l+r)//2\n",
    "        \n",
    "        left_array=ele[:mid]\n",
    "        right_array=ele[mid:]\n",
    "        merge_sort(left_array)\n",
    "        merge_sort(right_array)\n",
    "        i=0\n",
    "        j=0\n",
    "        k=0\n",
    "\n",
    "        while i<len(left_array) and j<len(right_array):\n",
    "            if left_array[i]<right_array[j]:\n",
    "                ele[k]=left_array[i]\n",
    "                k+=1\n",
    "                i+=1\n",
    "            else:\n",
    "                ele[k]=right_array[j]\n",
    "                k+=1\n",
    "                j+=1\n",
    "                \n",
    "                \n",
    "        while i<len(left_array):\n",
    "            ele[k]=left_array[i]\n",
    "            k+=1\n",
    "            i+=1\n",
    "            \n",
    "        while j<len(right_array):\n",
    "            ele[k]=right_array[j]\n",
    "            k+=1\n",
    "            j+=1\n",
    "\n",
    "\n",
    "ele=[-2, 45, 0, 11, -9]\n",
    "merge_sort(ele)\n",
    "print(ele)"
   ]
  },
  {
   "cell_type": "markdown",
   "id": "10158215",
   "metadata": {},
   "source": [
    "# Quick_sort"
   ]
  },
  {
   "cell_type": "code",
   "execution_count": 20,
   "id": "6e3607d9",
   "metadata": {},
   "outputs": [
    {
     "name": "stdout",
     "output_type": "stream",
     "text": [
      "[12, 12, 13, 21, 23, 45, 56, 67, 89, 98]\n"
     ]
    }
   ],
   "source": [
    "def pivot_ele(list1,first,last):\n",
    "    pivot_element=list1[first]\n",
    "    left=first+1\n",
    "    right=last\n",
    "    \n",
    "    while True:\n",
    "        while left<=right and list1[left]<=pivot_element:\n",
    "            left=left+1\n",
    "        while left<=right and list1[right]>=pivot_element:\n",
    "            right=right-1\n",
    "            \n",
    "        if right<left:\n",
    "            break\n",
    "        else:\n",
    "            list1[left],list1[right]=list1[right],list1[left]\n",
    "    list1[first],list1[right]=list1[right],list1[first]\n",
    "    return right\n",
    "\n",
    "def quick_sort(list1,first,last):\n",
    "    if first<last:\n",
    "        p=pivot_ele(list1,first,last)\n",
    "        quick_sort(list1,first,p-1)\n",
    "        quick_sort(list1,p+1,last)\n",
    "elements=[21,56,13,45,67,23,12,98,89,12]\n",
    "\n",
    "quick_sort(elements,0,len(elements)-1)\n",
    "\n",
    "print(elements)\n",
    "\n",
    "        "
   ]
  },
  {
   "cell_type": "code",
   "execution_count": 7,
   "id": "3eb1a675",
   "metadata": {},
   "outputs": [
    {
     "data": {
      "text/plain": [
       "[-9, -2, 0, 11, 45]"
      ]
     },
     "execution_count": 7,
     "metadata": {},
     "output_type": "execute_result"
    }
   ],
   "source": [
    "def Insertion_sort(ele):\n",
    "    n=len(ele)\n",
    "    for i in range(1,n):\n",
    "        curr_ele=ele[i]\n",
    "        pos=i\n",
    "        \n",
    "        while pos>0 and curr_ele<ele[pos-1]:\n",
    "            ele[pos]=ele[pos-1]\n",
    "            pos=pos-1\n",
    "        ele[pos]=curr_ele\n",
    "    return ele\n",
    "ele=[-2, 45, 0, 11, -9]\n",
    "Insertion_sort(ele)"
   ]
  },
  {
   "cell_type": "code",
   "execution_count": null,
   "id": "4bfd25ab",
   "metadata": {},
   "outputs": [],
   "source": [
    "    n=len(ele)\n",
    "    for i in range(1,n):\n",
    "        current_ele=ele[i]\n",
    "        index=i\n",
    "        \n",
    "        while index>0 and current_ele<ele[index-1]:\n",
    "            ele[index]=ele[index-1]\n",
    "            index=index-1\n",
    "            \n",
    "        ele[index]=current_ele\n",
    "    return ele"
   ]
  }
 ],
 "metadata": {
  "kernelspec": {
   "display_name": "Python 3 (ipykernel)",
   "language": "python",
   "name": "python3"
  },
  "language_info": {
   "codemirror_mode": {
    "name": "ipython",
    "version": 3
   },
   "file_extension": ".py",
   "mimetype": "text/x-python",
   "name": "python",
   "nbconvert_exporter": "python",
   "pygments_lexer": "ipython3",
   "version": "3.11.3"
  }
 },
 "nbformat": 4,
 "nbformat_minor": 5
}
