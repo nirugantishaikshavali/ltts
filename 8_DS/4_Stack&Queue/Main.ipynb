{
 "cells": [
  {
   "cell_type": "raw",
   "id": "10ae2b9d",
   "metadata": {},
   "source": [
    "Stack is a Linear Data Structure that follows the Last-In/First-Out (LIFO) principle,\n",
    "In stack, a new element is added at one end and an element is removed from that end only. \n",
    "The insert and delete operations are often called push and pop.\n",
    "\n",
    "Stack in Python can be implemented using the following ways: \n",
    "list\n",
    "Collections.deque\n",
    "queue.LifoQueue\n",
    "\n",
    "The functions associated with stack are:\n",
    "\n",
    "empty() – Returns whether the stack is empty – Time Complexity: O(1)\n",
    "size() – Returns the size of the stack – Time Complexity: O(1)\n",
    "top() / peek() – Returns a reference to the topmost element of the stack – Time Complexity: O(1)\n",
    "push(a) – Inserts the element ‘a’ at the top of the stack – Time Complexity: O(1)\n",
    "pop() – Deletes the topmost element of the stack – Time Complexity: O(1)\n",
    "Implementation:"
   ]
  },
  {
   "cell_type": "code",
   "execution_count": 1,
   "id": "44900284",
   "metadata": {},
   "outputs": [
    {
     "name": "stdout",
     "output_type": "stream",
     "text": [
      "Select the operation 1.push 2.pop 3.quit\n",
      "1\n",
      "Enter the element:1\n",
      "['1']\n",
      "Select the operation 1.push 2.pop 3.quit\n",
      "1\n",
      "Enter the element:1\n",
      "['1', '1']\n",
      "Select the operation 1.push 2.pop 3.quit\n",
      "3\n"
     ]
    }
   ],
   "source": [
    "stack=[]\n",
    "def push():\n",
    "    element=input(\"Enter the element:\")\n",
    "    stack.append(element)\n",
    "    print(stack)\n",
    "\n",
    "def pop_element():\n",
    "    if not stack:\n",
    "        print(\"stack is empty\")\n",
    "    else:\n",
    "        e=stack.pop()\n",
    "        print(\"removed from element\",e)\n",
    "    print(stack)\n",
    "    \n",
    "while True:\n",
    "    print(\"Select the operation 1.push 2.pop 3.quit\")\n",
    "    choice=int(input())\n",
    "    \n",
    "    if choice==1:\n",
    "        push()\n",
    "    elif choice==2:\n",
    "        pop_element()\n",
    "    elif choice==3:\n",
    "        break\n",
    "    else:\n",
    "        print(\"Enter the correct operation\")"
   ]
  },
  {
   "cell_type": "code",
   "execution_count": 2,
   "id": "935d7464",
   "metadata": {},
   "outputs": [
    {
     "name": "stdout",
     "output_type": "stream",
     "text": [
      "deque([10, 20])\n"
     ]
    }
   ],
   "source": [
    "import collections\n",
    "stack=collections.deque()\n",
    "stack.append(10)\n",
    "stack.append(20)\n",
    "print(stack)\n"
   ]
  },
  {
   "cell_type": "code",
   "execution_count": 4,
   "id": "936ac728",
   "metadata": {},
   "outputs": [
    {
     "name": "stdout",
     "output_type": "stream",
     "text": [
      "40\n"
     ]
    }
   ],
   "source": [
    "The queue is a linear data structure that stores items in a First In First Out (FIFO) manner.\n",
    "Operations associated with queue are: \n",
    "\n",
    "Enqueue: Adds an item to the queue. If the queue is full, then it is said to be an Overflow condition – Time Complexity : O(1)\n",
    "Dequeue: Removes an item from the queue. The items are popped in the same order in which they are pushed. If the queue is empty, then it is said to be an Underflow condition – Time Complexity : O(1)\n",
    "Front: Get the front item from queue – Time Complexity : O(1)\n",
    "Rear: Get the last item from queue – Time Complexity : O(1)"
   ]
  },
  {
   "cell_type": "code",
   "execution_count": 1,
   "id": "5aa83c7a",
   "metadata": {},
   "outputs": [
    {
     "name": "stdout",
     "output_type": "stream",
     "text": [
      "Select the operation 1.add 2.remove 3.show 4.quit\n",
      "1\n",
      "Enter the element:2\n"
     ]
    },
    {
     "ename": "NameError",
     "evalue": "name 'stack' is not defined",
     "output_type": "error",
     "traceback": [
      "\u001b[1;31m---------------------------------------------------------------------------\u001b[0m",
      "\u001b[1;31mNameError\u001b[0m                                 Traceback (most recent call last)",
      "Cell \u001b[1;32mIn[1], line 21\u001b[0m\n\u001b[0;32m     19\u001b[0m choice\u001b[38;5;241m=\u001b[39m\u001b[38;5;28mint\u001b[39m(\u001b[38;5;28minput\u001b[39m())\n\u001b[0;32m     20\u001b[0m \u001b[38;5;28;01mif\u001b[39;00m choice\u001b[38;5;241m==\u001b[39m\u001b[38;5;241m1\u001b[39m:\n\u001b[1;32m---> 21\u001b[0m     enqueue()\n\u001b[0;32m     22\u001b[0m \u001b[38;5;28;01melif\u001b[39;00m choice\u001b[38;5;241m==\u001b[39m\u001b[38;5;241m2\u001b[39m:\n\u001b[0;32m     23\u001b[0m     dequeue()\n",
      "Cell \u001b[1;32mIn[1], line 5\u001b[0m, in \u001b[0;36menqueue\u001b[1;34m()\u001b[0m\n\u001b[0;32m      3\u001b[0m element\u001b[38;5;241m=\u001b[39m\u001b[38;5;28minput\u001b[39m(\u001b[38;5;124m\"\u001b[39m\u001b[38;5;124mEnter the element:\u001b[39m\u001b[38;5;124m\"\u001b[39m)\n\u001b[0;32m      4\u001b[0m queue\u001b[38;5;241m.\u001b[39mappend(element)\n\u001b[1;32m----> 5\u001b[0m \u001b[38;5;28mprint\u001b[39m(stack)\n",
      "\u001b[1;31mNameError\u001b[0m: name 'stack' is not defined"
     ]
    }
   ],
   "source": [
    "queue=[]\n",
    "def enqueue():\n",
    "    element=input(\"Enter the element:\")\n",
    "    queue.append(element)\n",
    "    print(queue)\n",
    "    \n",
    "def dequeue():\n",
    "    if not queue:\n",
    "        print(\"queue is empty\")\n",
    "    else:\n",
    "        e=queue.pop()\n",
    "        print(\"removed from element\",e)\n",
    "\n",
    "def display():\n",
    "    print(queue)\n",
    "\n",
    "while True:\n",
    "    print(\"Select the operation 1.add 2.remove 3.show 4.quit\")\n",
    "    choice=int(input())\n",
    "    if choice==1:\n",
    "        enqueue()\n",
    "    elif choice==2:\n",
    "        dequeue()\n",
    "    elif choice==3:\n",
    "        display()\n",
    "    elif choice==4:\n",
    "        break\n",
    "    else:\n",
    "        print(\"Enter the correct operation\")"
   ]
  },
  {
   "cell_type": "code",
   "execution_count": null,
   "id": "6cbce188",
   "metadata": {},
   "outputs": [],
   "source": []
  }
 ],
 "metadata": {
  "kernelspec": {
   "display_name": "Python 3 (ipykernel)",
   "language": "python",
   "name": "python3"
  },
  "language_info": {
   "codemirror_mode": {
    "name": "ipython",
    "version": 3
   },
   "file_extension": ".py",
   "mimetype": "text/x-python",
   "name": "python",
   "nbconvert_exporter": "python",
   "pygments_lexer": "ipython3",
   "version": "3.11.3"
  }
 },
 "nbformat": 4,
 "nbformat_minor": 5
}
